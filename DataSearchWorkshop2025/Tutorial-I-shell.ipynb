{
 "cells": [
  {
   "cell_type": "markdown",
   "id": "26c0513c-ce80-4318-8bc0-67ccffa1133c",
   "metadata": {},
   "source": [
    "# Data Analysis Workshop\n",
    "## Tutorial I: Querying and Accessing Data\n",
    "\n",
    "In this tutorial, we’ll learn how to use the `freva-client` library to explore available datasets.\n",
    "\n",
    "To get started, we’ll run a simple analysis on the [MPI Grand Ensemble data](https://mpimet.mpg.de/en/research/modeling/grand-ensemble), a large collection of climate simulations.\n",
    "\n",
    "The data browser organizes metadata in a **tree-like hierarchy**. At the top of this structure is the **`project`** level.\n",
    "\n",
    "Let’s begin by finding out which projects are currently available in the system."
   ]
  },
  {
   "cell_type": "code",
   "execution_count": 69,
   "id": "b98057c7-e417-485f-8370-dea33f1732e3",
   "metadata": {},
   "outputs": [
    {
     "name": "stdout",
     "output_type": "stream",
     "text": [
      "\u001b[1m                                                                                \u001b[0m\n",
      "\u001b[1m \u001b[0m\u001b[1;33mUsage: \u001b[0m\u001b[1mfreva-client databrowser [OPTIONS] COMMAND [ARGS]...\u001b[0m\u001b[1m                   \u001b[0m\u001b[1m \u001b[0m\n",
      "\u001b[1m                                                                                \u001b[0m\n",
      " Data search related commands                                                   \n",
      "                                                                                \n",
      "\u001b[2m╭─\u001b[0m\u001b[2m Options \u001b[0m\u001b[2m───────────────────────────────────────────────────────────────────\u001b[0m\u001b[2m─╮\u001b[0m\n",
      "\u001b[2m│\u001b[0m \u001b[1;36m-\u001b[0m\u001b[1;36m-help\u001b[0m          Show this message and exit.                                  \u001b[2m│\u001b[0m\n",
      "\u001b[2m╰──────────────────────────────────────────────────────────────────────────────╯\u001b[0m\n",
      "\u001b[2m╭─\u001b[0m\u001b[2m Commands \u001b[0m\u001b[2m──────────────────────────────────────────────────────────────────\u001b[0m\u001b[2m─╮\u001b[0m\n",
      "\u001b[2m│\u001b[0m \u001b[1;36mdata-overview    \u001b[0m\u001b[1;36m \u001b[0m Get an overview over what is available in the             \u001b[2m│\u001b[0m\n",
      "\u001b[2m│\u001b[0m \u001b[1;36m                  \u001b[0m databrowser.                                              \u001b[2m│\u001b[0m\n",
      "\u001b[2m│\u001b[0m \u001b[1;36mmetadata-search  \u001b[0m\u001b[1;36m \u001b[0m Search databrowser for metadata (facets).                 \u001b[2m│\u001b[0m\n",
      "\u001b[2m│\u001b[0m \u001b[1;36mdata-search      \u001b[0m\u001b[1;36m \u001b[0m Search the databrowser for datasets.                      \u001b[2m│\u001b[0m\n",
      "\u001b[2m│\u001b[0m \u001b[1;36mintake-catalogue \u001b[0m\u001b[1;36m \u001b[0m Create an intake catalogue from the search.               \u001b[2m│\u001b[0m\n",
      "\u001b[2m│\u001b[0m \u001b[1;36mstac-catalogue   \u001b[0m\u001b[1;36m \u001b[0m Create a static STAC catalogue from the search.           \u001b[2m│\u001b[0m\n",
      "\u001b[2m│\u001b[0m \u001b[1;36mdata-count       \u001b[0m\u001b[1;36m \u001b[0m Count the databrowser search results                      \u001b[2m│\u001b[0m\n",
      "\u001b[2m│\u001b[0m \u001b[1;36muser-data        \u001b[0m\u001b[1;36m \u001b[0m Add or delete user data.                                  \u001b[2m│\u001b[0m\n",
      "\u001b[2m╰──────────────────────────────────────────────────────────────────────────────╯\u001b[0m\n",
      "\n"
     ]
    }
   ],
   "source": [
    "export PATH=/sw/spack-levante/cdo-2.2.2-4z4icb/bin:$PATH\n",
    "freva-client databrowser --help"
   ]
  },
  {
   "cell_type": "markdown",
   "id": "80a5b4ed-d810-4ab1-98b3-78eeced4fe9a",
   "metadata": {},
   "source": [
    "Let's get an overview:"
   ]
  },
  {
   "cell_type": "code",
   "execution_count": 70,
   "id": "bcf0b697-f356-48f0-82cd-4656ef613a19",
   "metadata": {},
   "outputs": [
    {
     "name": "stdout",
     "output_type": "stream",
     "text": [
      "Available search flavours:\n",
      "- freva\n",
      "- cmip6\n",
      "- cmip5\n",
      "- cordex\n",
      "- nextgems\n",
      "- user\n",
      "Search attributes by flavour:\n",
      "  cmip5:\n",
      "  - experiment\n",
      "  - member_id\n",
      "  - fs_type\n",
      "  - grid_label\n",
      "  - institution_id\n",
      "  - model_id\n",
      "  - project\n",
      "  - product\n",
      "  - realm\n",
      "  - variable\n",
      "  - time\n",
      "  - bbox\n",
      "  - time_aggregation\n",
      "  - time_frequency\n",
      "  - cmor_table\n",
      "  - dataset\n",
      "  - format\n",
      "  - grid_id\n",
      "  - level_type\n",
      "  cmip6:\n",
      "  - experiment_id\n",
      "  - member_id\n",
      "  - fs_type\n",
      "  - grid_label\n",
      "  - institution_id\n",
      "  - source_id\n",
      "  - mip_era\n",
      "  - activity_id\n",
      "  - realm\n",
      "  - variable_id\n",
      "  - time\n",
      "  - bbox\n",
      "  - time_aggregation\n",
      "  - frequency\n",
      "  - table_id\n",
      "  - dataset\n",
      "  - format\n",
      "  - grid_id\n",
      "  - level_type\n",
      "  cordex:\n",
      "  - experiment\n",
      "  - ensemble\n",
      "  - fs_type\n",
      "  - grid_label\n",
      "  - institution\n",
      "  - model\n",
      "  - project\n",
      "  - domain\n",
      "  - realm\n",
      "  - variable\n",
      "  - time\n",
      "  - bbox\n",
      "  - time_aggregation\n",
      "  - time_frequency\n",
      "  - cmor_table\n",
      "  - dataset\n",
      "  - driving_model\n",
      "  - format\n",
      "  - grid_id\n",
      "  - level_type\n",
      "  - rcm_name\n",
      "  - rcm_version\n",
      "  freva:\n",
      "  - project\n",
      "  - product\n",
      "  - institute\n",
      "  - model\n",
      "  - experiment\n",
      "  - time_frequency\n",
      "  - realm\n",
      "  - variable\n",
      "  - ensemble\n",
      "  - time_aggregation\n",
      "  - fs_type\n",
      "  - grid_label\n",
      "  - cmor_table\n",
      "  - format\n",
      "  - grid_id\n",
      "  - level_type\n",
      "  - dataset\n",
      "  - time\n",
      "  - bbox\n",
      "  - user\n",
      "  nextgems:\n",
      "  - simulation_id\n",
      "  - member_id\n",
      "  - fs_type\n",
      "  - grid_label\n",
      "  - institution_id\n",
      "  - source_id\n",
      "  - project\n",
      "  - experiment_id\n",
      "  - realm\n",
      "  - variable_id\n",
      "  - time\n",
      "  - bbox\n",
      "  - time_reduction\n",
      "  - time_frequency\n",
      "  - cmor_table\n",
      "  - dataset\n",
      "  - format\n",
      "  - grid_id\n",
      "  - level_type\n",
      "  user:\n",
      "  - project\n",
      "  - product\n",
      "  - institute\n",
      "  - model\n",
      "  - experiment\n",
      "  - time_frequency\n",
      "  - realm\n",
      "  - variable\n",
      "  - ensemble\n",
      "  - time_aggregation\n",
      "  - fs_type\n",
      "  - grid_label\n",
      "  - cmor_table\n",
      "  - format\n",
      "  - grid_id\n",
      "  - level_type\n",
      "  - dataset\n",
      "  - time\n",
      "  - bbox\n",
      "  - user\n",
      "\n"
     ]
    }
   ],
   "source": [
    "freva-client databrowser data-overview"
   ]
  },
  {
   "cell_type": "markdown",
   "id": "c5588307-b47d-42b1-b9e9-76427bf4f8b5",
   "metadata": {},
   "source": [
    "Let's assume we know that the Grand-Ensemble data is stored under `mpi-ge` but we don't know whether it's under `project` or `product` etc. The databrowser is here to help. You can simply use the `facet` argument to search for all entries containing a certain value, such as `mpi-ge`. To fine tune the output we can use the `--json` flag and the bash json parser `jq` to process the output. Let's get the project(s) of all search keys (or facets) that contain `mpi-ge`"
   ]
  },
  {
   "cell_type": "code",
   "execution_count": 71,
   "id": "fa911b94-9788-42b5-b2b1-4504d4749fc8",
   "metadata": {},
   "outputs": [
    {
     "name": "stdout",
     "output_type": "stream",
     "text": [
      "mpi-ge\n"
     ]
    }
   ],
   "source": [
    "freva-client databrowser metadata-search --host https://www.freva.dkrz.de --facet mpi-ge --json | jq -rc '.project|join(\", \")'"
   ]
  },
  {
   "cell_type": "markdown",
   "id": "de658a3d-71a0-44cf-9893-c199fbabbc20",
   "metadata": {},
   "source": [
    "Let's create a time series of 2 m air temperature. To do so we have to check if the `tas` variable is available. We can use the `metadata-search` subcommand. Here we use `jq` to check if `tas` is in the variables:"
   ]
  },
  {
   "cell_type": "code",
   "execution_count": 72,
   "id": "b6014088-99cd-4bf7-ad24-a6ec9b49451e",
   "metadata": {},
   "outputs": [
    {
     "name": "stdout",
     "output_type": "stream",
     "text": [
      "\u001b[0;39mtrue\u001b[0m\n"
     ]
    }
   ],
   "source": [
    "freva-client databrowser metadata-search project=mpi-ge --json | jq -rc '.variable | index(\"tas\") != null'"
   ]
  },
  {
   "cell_type": "markdown",
   "id": "1510c6b8-06cb-4e3d-b6bb-8aeb719f9c5f",
   "metadata": {},
   "source": [
    "Let's query the available ouput time frequencies, we can also parse `--json` output to `jq`"
   ]
  },
  {
   "cell_type": "code",
   "execution_count": 73,
   "id": "a1074dc3-1b6f-4a70-b452-3bd538c5e416",
   "metadata": {},
   "outputs": [
    {
     "name": "stdout",
     "output_type": "stream",
     "text": [
      "\u001b[1;39m[\u001b[0;32m\"mon\"\u001b[0m\u001b[1;39m\u001b[1;39m]\u001b[0m\n"
     ]
    }
   ],
   "source": [
    "freva-client databrowser metadata-search project=mpi-ge variable=tas --json | jq -rc \".time_frequency\""
   ]
  },
  {
   "cell_type": "markdown",
   "id": "188cc240-7024-43a2-b417-de24f3bc70a6",
   "metadata": {},
   "source": [
    "Now we do have a rough overview of the available data. We want to cover future scenarios, that is timesteps from today until 2100. Check how many data files do we have:"
   ]
  },
  {
   "cell_type": "code",
   "execution_count": 74,
   "id": "546b545b-8904-4074-9260-b9c23b8eab9c",
   "metadata": {},
   "outputs": [
    {
     "name": "stdout",
     "output_type": "stream",
     "text": [
      "602\n"
     ]
    }
   ],
   "source": [
    "freva-client databrowser data-count project=mpi-ge variable=tas time_frequency=mon time=\"2025-01 to 2100-12\""
   ]
  },
  {
   "cell_type": "markdown",
   "id": "b25ce503-1f79-4555-b7fe-7c814d640316",
   "metadata": {},
   "source": [
    "Let's check the experiments that match this query:"
   ]
  },
  {
   "cell_type": "code",
   "execution_count": 75,
   "id": "cad34b58-0e7b-4a8a-919d-9ed2fa9c9b41",
   "metadata": {},
   "outputs": [
    {
     "name": "stdout",
     "output_type": "stream",
     "text": [
      "\u001b[1;39m[\u001b[0;32m\"picontrol\"\u001b[0m\u001b[1;39m,\u001b[0;32m\"rcp26\"\u001b[0m\u001b[1;39m,\u001b[0;32m\"rcp45\"\u001b[0m\u001b[1;39m,\u001b[0;32m\"rcp85\"\u001b[0m\u001b[1;39m\u001b[1;39m]\u001b[0m\n"
     ]
    }
   ],
   "source": [
    "freva-client databrowser metadata-search project=mpi-ge variable=tas time_frequency=mon --time \"2025-01 to 2100-12\" --json | jq -c \".experiment\""
   ]
  },
  {
   "cell_type": "markdown",
   "id": "758d22ef-6475-435d-a906-7740cb66ac95",
   "metadata": {},
   "source": [
    "The `picontrol` experiment is unexpceted. Let's check the what is going on. Let's check how many files exist with the `picontrol` experiment key:"
   ]
  },
  {
   "cell_type": "code",
   "execution_count": 76,
   "id": "5faf4988-095c-489a-bcca-9e6760f2dd5a",
   "metadata": {},
   "outputs": [
    {
     "name": "stdout",
     "output_type": "stream",
     "text": [
      "2\n"
     ]
    }
   ],
   "source": [
    "freva-client databrowser data-count project=mpi-ge variable=tas time_frequency=mon experiment=picontrol --time \"2025-01 to 2100-12\""
   ]
  },
  {
   "cell_type": "markdown",
   "id": "ac070ad0-a202-41bf-9fc2-864e718444e0",
   "metadata": {},
   "source": [
    "And those are the files:"
   ]
  },
  {
   "cell_type": "code",
   "execution_count": 77,
   "id": "3af27ca3-1535-4c8a-a8df-2c1226907cd5",
   "metadata": {},
   "outputs": [
    {
     "name": "stdout",
     "output_type": "stream",
     "text": [
      "/work/mh1007/CMOR/MPI-GE/output1/MPI-M/MPI-ESM/piControl/mon/atmos/tas/r001i1850p3/v20190123/tas_Amon_MPI-ESM_piControl_r001i1850p3_210001-219912.nc\n",
      "/work/mh1007/CMOR/MPI-GE/output1/MPI-M/MPI-ESM/piControl/mon/atmos/tas/r001i1850p3/v20190123/tas_Amon_MPI-ESM_piControl_r001i1850p3_200001-209912.nc\n"
     ]
    }
   ],
   "source": [
    "freva-client databrowser data-search project=mpi-ge variable=tas time_frequency=mon experiment=picontrol --time \"2025-01 to 2100-12\""
   ]
  },
  {
   "cell_type": "markdown",
   "id": "f351563f-3384-4583-9875-8a0f02e570e7",
   "metadata": {},
   "source": [
    "Let's do a reverse search, that is check what meta data is assocaited with a file: "
   ]
  },
  {
   "cell_type": "code",
   "execution_count": 78,
   "id": "18beac5e-60d0-4c0f-bb02-97c6682b8748",
   "metadata": {},
   "outputs": [
    {
     "name": "stdout",
     "output_type": "stream",
     "text": [
      "ensemble: r001i1850p3\n",
      "experiment: picontrol\n",
      "institute: mpi-m\n",
      "model: mpi-esm\n",
      "product: output1\n",
      "project: mpi-ge\n",
      "realm: atmos\n",
      "time_aggregation: mean\n",
      "time_frequency: mon\n",
      "variable: tas\n"
     ]
    }
   ],
   "source": [
    "freva-client databrowser metadata-search file=/work/mh1007/CMOR/MPI-GE/output1/MPI-M/MPI-ESM/piControl/mon/atmos/tas/r001i1850p3/v20190123/tas_Amon_MPI-ESM_piControl_r001i1850p3_210001-219912.nc"
   ]
  },
  {
   "cell_type": "markdown",
   "id": "8dc9ee3a-a602-4f10-9e3b-908dbfed1632",
   "metadata": {},
   "source": [
    "Since we don't want this pre-industrial control run in our databrowser search we tell the databrowser to not use it. We can use the `!` to *not* include a certain value"
   ]
  },
  {
   "cell_type": "code",
   "execution_count": 79,
   "id": "682b80eb-d44b-40bd-a4e7-a6f81fc46f7c",
   "metadata": {},
   "outputs": [
    {
     "name": "stdout",
     "output_type": "stream",
     "text": [
      "rcp26 rcp45 rcp85\n"
     ]
    }
   ],
   "source": [
    "experiments=$(freva-client databrowser metadata-search project=mpi-ge variable=tas time_frequency=mon --time=\"2025-01 to 2100-12\"  experiment='!picontrol' --json| jq -rc '.experiment| join(\" \")')\n",
    "echo $experiments"
   ]
  },
  {
   "cell_type": "markdown",
   "id": "62d0be75-4f57-4cdf-820a-3f197372ebb5",
   "metadata": {},
   "source": [
    "Now let's try to create a global time series for each of the experiments. We can use the search result of the databrowser to directly pip the output into cdo"
   ]
  },
  {
   "cell_type": "code",
   "execution_count": null,
   "id": "5da268a7-1827-4c9d-9d67-49e806169d79",
   "metadata": {},
   "outputs": [
    {
     "name": "stdout",
     "output_type": "stream",
     "text": [
      "\u001b[32mcdo    mergetime: \u001b[0mProcessed 5640 values from 5 variables over 5640 timesteps [0.03s 25MB]\n",
      "\u001b[32mcdo    mergetime: \u001b[0mProcessed 5640 values from 5 variables over 5640 timesteps [0.03s 25MB]\n",
      "\u001b[32mcdo    mergetime: \u001b[0mProcessed 5640 values from 5 variables over 5640 timesteps [0.03s 25MB]\n"
     ]
    }
   ],
   "source": [
    "temp_dir=$(mktemp -d --suffix cdo)\n",
    "for exp in $experiments ;do\n",
    "    outlist=()\n",
    "    # Let's get only the first 5 ensemble member for brevity\n",
    "    members=$(freva-client databrowser metadata-search \\\n",
    "    project=mpi-ge variable=tas time_frequency=mon --time=\"2025-01 to 2100-12\" experiment=\"$exp\" --json |\n",
    "    jq -r '.ensemble | unique | .[:5] | join(\" \")')\n",
    "    for ens in $members;do\n",
    "        echo -ne \"Reading data and calculating TS for experiment $exp in ens: $ens\\r\"\n",
    "        files=$(freva-client databrowser data-search project=mpi-ge variable=tas time_frequency=mon --time=\"2025-01 to 2100-12\" experiment=$exp ensemble=$ens realm=atmos)\n",
    "        outfile=\"$temp_dir/tas_mean_${exp}_${ens}.nc\"\n",
    "        cdo -s fldmean -mergetime $files \"$outfile\"\n",
    "        outlist+=(\"$outfile\")\n",
    "    done\n",
    "    cdo mergetime \"${outlist[@]}\" \"$temp_dir/tas_ensemble_${exp}.nc\"\n",
    "done\n",
    "cdo mergetime $temp_dir/tas_ensemble_*.nc tas_all_experiments.nc"
   ]
  },
  {
   "cell_type": "code",
   "execution_count": 99,
   "id": "cb759e1a-1a5e-4173-9ce4-9fb8dd638026",
   "metadata": {
    "scrolled": true
   },
   "outputs": [
    {
     "name": "stdout",
     "output_type": "stream",
     "text": [
      "\u001b[0;1m   File format\u001b[0m : NetCDF\n",
      "\u001b[0;1m    -1 : Institut Source   T Steptype Levels Num    Points Num Dtype : Parameter ID\u001b[0m\n",
      "     1 : \u001b[34munknown  MPI-ESM  v instant  \u001b[0m\u001b[32m     1 \u001b[0m  1 \u001b[32m        1 \u001b[0m  1 \u001b[34m F32  \u001b[0m: -1            \n",
      "\u001b[0;1m   Grid coordinates\u001b[0m :\n",
      "     1 : \u001b[34mlonlat                  \u001b[0m : \u001b[32mpoints=1 (1x1)\u001b[0m\n",
      "                              lon : 0 degrees_east\n",
      "                              lat : 0 degrees_north\n",
      "\u001b[0;1m   Vertical coordinates\u001b[0m :\n",
      "     1 : \u001b[34mheight                  \u001b[0m :\u001b[32m levels=1  scalar\u001b[0m\n",
      "                           height : 2 m\n",
      "\u001b[0;1m   Time coordinate\u001b[0m :\n",
      "                             time : \u001b[32m16920 steps\n",
      "\u001b[0m     RefTime =  2005-01-01 00:00:00  Units = days  Calendar = proleptic_gregorian  Bounds = true\n",
      "  YYYY-MM-DD hh:mm:ss  YYYY-MM-DD hh:mm:ss  YYYY-MM-DD hh:mm:ss  YYYY-MM-DD hh:mm:ss\n",
      "\u001b[35m  2006-01-16 12:00:00  2006-01-16 12:00:00  2006-01-16 12:00:00  2006-01-16 12:00:00\n",
      "  2006-01-16 12:00:00  2006-01-16 12:00:00  2006-01-16 12:00:00  2006-01-16 12:00:00\n",
      "  2006-01-16 12:00:00  2006-01-16 12:00:00  2006-01-16 12:00:00  2006-01-16 12:00:00\n",
      "  2006-01-16 12:00:00  2006-01-16 12:00:00  2006-01-16 12:00:00  2006-02-15 00:00:00\n",
      "  2006-02-15 00:00:00  2006-02-15 00:00:00  2006-02-15 00:00:00  2006-02-15 00:00:00\n",
      "  2006-02-15 00:00:00  2006-02-15 00:00:00  2006-02-15 00:00:00  2006-02-15 00:00:00\n",
      "  2006-02-15 00:00:00  2006-02-15 00:00:00  2006-02-15 00:00:00  2006-02-15 00:00:00\n",
      "  2006-02-15 00:00:00  2006-02-15 00:00:00  2006-03-16 12:00:00  2006-03-16 12:00:00\n",
      "  2006-03-16 12:00:00  2006-03-16 12:00:00  2006-03-16 12:00:00  2006-03-16 12:00:00\n",
      "  2006-03-16 12:00:00  2006-03-16 12:00:00  2006-03-16 12:00:00  2006-03-16 12:00:00\n",
      "  2006-03-16 12:00:00  2006-03-16 12:00:00  2006-03-16 12:00:00  2006-03-16 12:00:00\n",
      "  2006-03-16 12:00:00  2006-04-16 00:00:00  2006-04-16 00:00:00  2006-04-16 00:00:00\n",
      "  2006-04-16 00:00:00  2006-04-16 00:00:00  2006-04-16 00:00:00  2006-04-16 00:00:00\n",
      "  2006-04-16 00:00:00  2006-04-16 00:00:00  2006-04-16 00:00:00  2006-04-16 00:00:00\n",
      "  2006-04-16 00:00:00  2006-04-16 00:00:00  2006-04-16 00:00:00  2006-04-16 00:00:00\n",
      "   ................................................................................\n",
      "   ................................................................................\n",
      "   ................................................................................\n",
      "   ........\n",
      "  2099-09-16 00:00:00  2099-09-16 00:00:00  2099-09-16 00:00:00  2099-09-16 00:00:00\n",
      "  2099-09-16 00:00:00  2099-09-16 00:00:00  2099-09-16 00:00:00  2099-09-16 00:00:00\n",
      "  2099-09-16 00:00:00  2099-09-16 00:00:00  2099-09-16 00:00:00  2099-09-16 00:00:00\n",
      "  2099-09-16 00:00:00  2099-09-16 00:00:00  2099-09-16 00:00:00  2099-10-16 12:00:00\n",
      "  2099-10-16 12:00:00  2099-10-16 12:00:00  2099-10-16 12:00:00  2099-10-16 12:00:00\n",
      "  2099-10-16 12:00:00  2099-10-16 12:00:00  2099-10-16 12:00:00  2099-10-16 12:00:00\n",
      "  2099-10-16 12:00:00  2099-10-16 12:00:00  2099-10-16 12:00:00  2099-10-16 12:00:00\n",
      "  2099-10-16 12:00:00  2099-10-16 12:00:00  2099-11-16 00:00:00  2099-11-16 00:00:00\n",
      "  2099-11-16 00:00:00  2099-11-16 00:00:00  2099-11-16 00:00:00  2099-11-16 00:00:00\n",
      "  2099-11-16 00:00:00  2099-11-16 00:00:00  2099-11-16 00:00:00  2099-11-16 00:00:00\n",
      "  2099-11-16 00:00:00  2099-11-16 00:00:00  2099-11-16 00:00:00  2099-11-16 00:00:00\n",
      "  2099-11-16 00:00:00  2099-12-16 12:00:00  2099-12-16 12:00:00  2099-12-16 12:00:00\n",
      "  2099-12-16 12:00:00  2099-12-16 12:00:00  2099-12-16 12:00:00  2099-12-16 12:00:00\n",
      "  2099-12-16 12:00:00  2099-12-16 12:00:00  2099-12-16 12:00:00  2099-12-16 12:00:00\n",
      "  2099-12-16 12:00:00  2099-12-16 12:00:00  2099-12-16 12:00:00  2099-12-16 12:00:00\u001b[0m\n",
      "\u001b[32mcdo    sinfo: \u001b[0mProcessed 1 variable over 16920 timesteps [0.02s 28MB]\n"
     ]
    }
   ],
   "source": [
    "cdo sinfo tas_all_experiments.nc"
   ]
  }
 ],
 "metadata": {
  "kernelspec": {
   "display_name": "DA Workshop (shell)",
   "language": "bash",
   "name": "da-workshop-shell"
  },
  "language_info": {
   "codemirror_mode": "shell",
   "file_extension": ".sh",
   "mimetype": "text/x-sh",
   "name": "bash"
  },
  "widgets": {
   "application/vnd.jupyter.widget-state+json": {
    "state": {},
    "version_major": 2,
    "version_minor": 0
   }
  }
 },
 "nbformat": 4,
 "nbformat_minor": 5
}
