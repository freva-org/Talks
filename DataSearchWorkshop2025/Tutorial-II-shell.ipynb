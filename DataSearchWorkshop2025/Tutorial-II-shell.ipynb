{
 "cells": [
  {
   "cell_type": "markdown",
   "id": "72327479-9b59-421e-a6eb-1a9e726fb92b",
   "metadata": {},
   "source": [
    "# Data Analysis Workshop\n",
    "## Tutorial II: Adding your own data to the databrowser\n",
    "\n",
    "\n",
    "In the last tutorial we have learned how to search for datasets, inspect their metadata and access their data. This was only possible because we could make use of data that is indexed in the databrowser. \n",
    "\n",
    "What if you want to work with data that is not indexed, for example your own model simulations?\n",
    "\n",
    "In this tutorial we are going to add our own data to the index. The data we are going to use contains extreme value statistics, but feel free to adjust the data location as you like:"
   ]
  },
  {
   "cell_type": "code",
   "execution_count": 1,
   "id": "ddea576c-5d57-4fa2-a11f-9c4aaffb2875",
   "metadata": {},
   "outputs": [],
   "source": [
    "export PATH=/sw/spack-levante/cdo-2.2.2-4z4icb/bin:$PATH"
   ]
  },
  {
   "cell_type": "code",
   "execution_count": 18,
   "id": "024efb07-e2b6-4ef9-b985-eda7a1710e95",
   "metadata": {},
   "outputs": [],
   "source": [
    "readarray -t files < <(find /work/ch1187/regiklim-work/k204230/regiklim-ces/output/climdexcalc/20230414_121910 -type f)"
   ]
  },
  {
   "cell_type": "code",
   "execution_count": 12,
   "id": "1a765eb2-0436-4701-b8e6-2b367a783c74",
   "metadata": {},
   "outputs": [
    {
     "name": "stdout",
     "output_type": "stream",
     "text": [
      "\u001b[1m                                                                                \u001b[0m\n",
      "\u001b[1m \u001b[0m\u001b[1;33mUsage: \u001b[0m\u001b[1mfreva-client databrowser user-data add [OPTIONS]\u001b[0m\u001b[1m                       \u001b[0m\u001b[1m \u001b[0m\n",
      "\u001b[1m                                                                                \u001b[0m\n",
      " Add user data into the databrowser.                                            \n",
      "                                                                                \n",
      "\u001b[2m╭─\u001b[0m\u001b[2m Options \u001b[0m\u001b[2m───────────────────────────────────────────────────────────────────\u001b[0m\u001b[2m─╮\u001b[0m\n",
      "\u001b[2m│\u001b[0m \u001b[31m*\u001b[0m  \u001b[1;36m-\u001b[0m\u001b[1;36m-path\u001b[0m        \u001b[1;32m-p\u001b[0m       \u001b[1;33mTEXT   \u001b[0m  Paths to the user's data to be added.     \u001b[2m│\u001b[0m\n",
      "\u001b[2m│\u001b[0m                                    \u001b[2m[default: None]                      \u001b[0m     \u001b[2m│\u001b[0m\n",
      "\u001b[2m│\u001b[0m                                    \u001b[2;31m[required]                           \u001b[0m     \u001b[2m│\u001b[0m\n",
      "\u001b[2m│\u001b[0m    \u001b[1;36m-\u001b[0m\u001b[1;36m-facet\u001b[0m                \u001b[1;33mTEXT   \u001b[0m  Key-value metadata pairs to categorize    \u001b[2m│\u001b[0m\n",
      "\u001b[2m│\u001b[0m                                    the userinput data in the format          \u001b[2m│\u001b[0m\n",
      "\u001b[2m│\u001b[0m                                    key=value.                                \u001b[2m│\u001b[0m\n",
      "\u001b[2m│\u001b[0m                                    \u001b[2m[default: None]                          \u001b[0m \u001b[2m│\u001b[0m\n",
      "\u001b[2m│\u001b[0m    \u001b[1;36m-\u001b[0m\u001b[1;36m-host\u001b[0m                 \u001b[1;33mTEXT   \u001b[0m  Set the hostname of the databrowser. If   \u001b[2m│\u001b[0m\n",
      "\u001b[2m│\u001b[0m                                    not set (default), the hostname is read   \u001b[2m│\u001b[0m\n",
      "\u001b[2m│\u001b[0m                                    from a config file.                       \u001b[2m│\u001b[0m\n",
      "\u001b[2m│\u001b[0m                                    \u001b[2m[default: None]                          \u001b[0m \u001b[2m│\u001b[0m\n",
      "\u001b[2m│\u001b[0m    \u001b[1;36m-\u001b[0m\u001b[1;36m-token\u001b[0m\u001b[1;36m-file\u001b[0m  \u001b[1;32m-tf\u001b[0m      \u001b[1;33mPATH   \u001b[0m  Instead of authenticating via code based  \u001b[2m│\u001b[0m\n",
      "\u001b[2m│\u001b[0m                                    authentication flow you can set the path  \u001b[2m│\u001b[0m\n",
      "\u001b[2m│\u001b[0m                                    to the json file that contains a `refresh \u001b[2m│\u001b[0m\n",
      "\u001b[2m│\u001b[0m                                    token` containing a refresh_token key.    \u001b[2m│\u001b[0m\n",
      "\u001b[2m│\u001b[0m                                    \u001b[2m[default: None]                          \u001b[0m \u001b[2m│\u001b[0m\n",
      "\u001b[2m│\u001b[0m                  \u001b[1;32m-v\u001b[0m       \u001b[1;33mINTEGER\u001b[0m  Increase verbosity \u001b[2m[default: 0]\u001b[0m           \u001b[2m│\u001b[0m\n",
      "\u001b[2m│\u001b[0m    \u001b[1;36m-\u001b[0m\u001b[1;36m-help\u001b[0m                 \u001b[1;33m       \u001b[0m  Show this message and exit.               \u001b[2m│\u001b[0m\n",
      "\u001b[2m╰──────────────────────────────────────────────────────────────────────────────╯\u001b[0m\n",
      "\n"
     ]
    }
   ],
   "source": [
    "freva-client databrowser user-data add --help"
   ]
  },
  {
   "cell_type": "markdown",
   "id": "f0d4a8e4-ad11-4ad8-bc52-72fa7f71291c",
   "metadata": {},
   "source": [
    "In order to add data to the search server we need to authenticate. Todo so, let's head over to https://www.gems.dkrz.de log in and copy the token content: "
   ]
  },
  {
   "cell_type": "code",
   "execution_count": null,
   "id": "3b9d9074-2a6c-40f3-abfe-fb34744aab4e",
   "metadata": {},
   "outputs": [],
   "source": [
    "#<copy-paste> the token content from the web site below\n",
    "token=\"\"\n",
    "echo $tken > ~/.freva-access-token.json"
   ]
  },
  {
   "cell_type": "code",
   "execution_count": 24,
   "id": "b5ce6ea9-0a3f-436c-bc7b-3d60c4b77615",
   "metadata": {},
   "outputs": [
    {
     "name": "stdout",
     "output_type": "stream",
     "text": [
      "\u001b[1;32mNo data was added to the databrowser. \u001b[0m\u001b[1;32m1\u001b[0m\u001b[1;32m files were duplicates and not added.\u001b[0m\n",
      "\u001b[2;36m[2025-07-31T01:21:30]\u001b[0m\u001b[2;36m \u001b[0m\u001b[1;31mERROR   \u001b[0m freva-client: Error processing batch: list index \n",
      "\u001b[2;36m                      \u001b[0m         out of range                                     \n",
      "\u001b[2;36m                     \u001b[0m\u001b[2;36m \u001b[0m\u001b[1;31mERROR   \u001b[0m freva-client: No metadata generated from the     \n",
      "\u001b[2;36m                      \u001b[0m         input data.                                      \n",
      "\u001b[2;36m[2025-07-31T01:21:32]\u001b[0m\u001b[2;36m \u001b[0m\u001b[1;31mERROR   \u001b[0m freva-client: Error processing batch: list index \n",
      "\u001b[2;36m                      \u001b[0m         out of range                                     \n",
      "\u001b[2;36m                     \u001b[0m\u001b[2;36m \u001b[0m\u001b[1;31mERROR   \u001b[0m freva-client: No metadata generated from the     \n",
      "\u001b[2;36m                      \u001b[0m         input data.                                      \n",
      "\u001b[2;36m[2025-07-31T01:21:35]\u001b[0m\u001b[2;36m \u001b[0m\u001b[1;31mERROR   \u001b[0m freva-client: Error processing batch: list index \n",
      "\u001b[2;36m                      \u001b[0m         out of range                                     \n",
      "\u001b[2;36m                     \u001b[0m\u001b[2;36m \u001b[0m\u001b[1;31mERROR   \u001b[0m freva-client: No metadata generated from the     \n",
      "\u001b[2;36m                      \u001b[0m         input data.                                      \n",
      "\u001b[2;36m[2025-07-31T01:21:37]\u001b[0m\u001b[2;36m \u001b[0m\u001b[1;31mERROR   \u001b[0m freva-client: Error processing batch: list index \n",
      "\u001b[2;36m                      \u001b[0m         out of range                                     \n",
      "\u001b[2;36m                     \u001b[0m\u001b[2;36m \u001b[0m\u001b[1;31mERROR   \u001b[0m freva-client: No metadata generated from the     \n",
      "\u001b[2;36m                      \u001b[0m         input data.                                      \n",
      "\u001b[2;36m[2025-07-31T01:21:40]\u001b[0m\u001b[2;36m \u001b[0m\u001b[1;31mERROR   \u001b[0m freva-client: Error processing batch: list index \n",
      "\u001b[2;36m                      \u001b[0m         out of range                                     \n",
      "\u001b[2;36m                     \u001b[0m\u001b[2;36m \u001b[0m\u001b[1;31mERROR   \u001b[0m freva-client: No metadata generated from the     \n",
      "\u001b[2;36m                      \u001b[0m         input data.                                      \n",
      "/home/b/b380001/freva/lib/python3.13/site-packages/freva_client/utils/databrowser_utils.py:338: FutureWarning: In a future version of xarray decode_timedelta will default to False rather than None. To silence this warning, set decode_timedelta to True, False, or a 'CFTimedeltaCoder' instance.\n",
      "  else xr.open_mfdataset(\n",
      "\u001b[1;32m1\u001b[0m\u001b[1;32m have been successfully added to the databrowser. \u001b[0m\u001b[1;32m0\u001b[0m\u001b[1;32m files were duplicates and \u001b[0m\n",
      "\u001b[1;32mnot added.\u001b[0m\n",
      "\u001b[1;32m1\u001b[0m\u001b[1;32m have been successfully added to the databrowser. \u001b[0m\u001b[1;32m0\u001b[0m\u001b[1;32m files were duplicates and \u001b[0m\n",
      "\u001b[1;32mnot added.\u001b[0m\n",
      "\u001b[1;32m1\u001b[0m\u001b[1;32m have been successfully added to the databrowser. \u001b[0m\u001b[1;32m0\u001b[0m\u001b[1;32m files were duplicates and \u001b[0m\n",
      "\u001b[1;32mnot added.\u001b[0m\n",
      "\u001b[2;36m[2025-07-31T01:21:50]\u001b[0m\u001b[2;36m \u001b[0m\u001b[1;31mERROR   \u001b[0m freva-client: Error processing batch: list index \n",
      "\u001b[2;36m                      \u001b[0m         out of range                                     \n",
      "\u001b[2;36m                     \u001b[0m\u001b[2;36m \u001b[0m\u001b[1;31mERROR   \u001b[0m freva-client: No metadata generated from the     \n",
      "\u001b[2;36m                      \u001b[0m         input data.                                      \n",
      "\u001b[2;36m[2025-07-31T01:21:52]\u001b[0m\u001b[2;36m \u001b[0m\u001b[1;31mERROR   \u001b[0m freva-client: Error processing batch: list index \n",
      "\u001b[2;36m                      \u001b[0m         out of range                                     \n",
      "\u001b[2;36m                     \u001b[0m\u001b[2;36m \u001b[0m\u001b[1;31mERROR   \u001b[0m freva-client: No metadata generated from the     \n",
      "\u001b[2;36m                      \u001b[0m         input data.                                      \n",
      "/home/b/b380001/freva/lib/python3.13/site-packages/freva_client/utils/databrowser_utils.py:338: FutureWarning: In a future version of xarray decode_timedelta will default to False rather than None. To silence this warning, set decode_timedelta to True, False, or a 'CFTimedeltaCoder' instance.\n",
      "  else xr.open_mfdataset(\n",
      "\u001b[1;32m1\u001b[0m\u001b[1;32m have been successfully added to the databrowser. \u001b[0m\u001b[1;32m0\u001b[0m\u001b[1;32m files were duplicates and \u001b[0m\n",
      "\u001b[1;32mnot added.\u001b[0m\n",
      "/home/b/b380001/freva/lib/python3.13/site-packages/freva_client/utils/databrowser_utils.py:338: FutureWarning: In a future version of xarray decode_timedelta will default to False rather than None. To silence this warning, set decode_timedelta to True, False, or a 'CFTimedeltaCoder' instance.\n",
      "  else xr.open_mfdataset(\n",
      "\u001b[1;32m1\u001b[0m\u001b[1;32m have been successfully added to the databrowser. \u001b[0m\u001b[1;32m0\u001b[0m\u001b[1;32m files were duplicates and \u001b[0m\n",
      "\u001b[1;32mnot added.\u001b[0m\n",
      "\u001b[1;32m1\u001b[0m\u001b[1;32m have been successfully added to the databrowser. \u001b[0m\u001b[1;32m0\u001b[0m\u001b[1;32m files were duplicates and \u001b[0m\n",
      "\u001b[1;32mnot added.\u001b[0m\n",
      "\u001b[1;32m1\u001b[0m\u001b[1;32m have been successfully added to the databrowser. \u001b[0m\u001b[1;32m0\u001b[0m\u001b[1;32m files were duplicates and \u001b[0m\n",
      "\u001b[1;32mnot added.\u001b[0m\n",
      "/home/b/b380001/freva/lib/python3.13/site-packages/freva_client/utils/databrowser_utils.py:338: FutureWarning: In a future version of xarray decode_timedelta will default to False rather than None. To silence this warning, set decode_timedelta to True, False, or a 'CFTimedeltaCoder' instance.\n",
      "  else xr.open_mfdataset(\n",
      "\u001b[1;32m1\u001b[0m\u001b[1;32m have been successfully added to the databrowser. \u001b[0m\u001b[1;32m0\u001b[0m\u001b[1;32m files were duplicates and \u001b[0m\n",
      "\u001b[1;32mnot added.\u001b[0m\n",
      "/home/b/b380001/freva/lib/python3.13/site-packages/freva_client/utils/databrowser_utils.py:338: FutureWarning: In a future version of xarray decode_timedelta will default to False rather than None. To silence this warning, set decode_timedelta to True, False, or a 'CFTimedeltaCoder' instance.\n",
      "  else xr.open_mfdataset(\n",
      "\u001b[1;32m1\u001b[0m\u001b[1;32m have been successfully added to the databrowser. \u001b[0m\u001b[1;32m0\u001b[0m\u001b[1;32m files were duplicates and \u001b[0m\n",
      "\u001b[1;32mnot added.\u001b[0m\n",
      "\u001b[1;32m1\u001b[0m\u001b[1;32m have been successfully added to the databrowser. \u001b[0m\u001b[1;32m0\u001b[0m\u001b[1;32m files were duplicates and \u001b[0m\n",
      "\u001b[1;32mnot added.\u001b[0m\n",
      "/home/b/b380001/freva/lib/python3.13/site-packages/freva_client/utils/databrowser_utils.py:338: FutureWarning: In a future version of xarray decode_timedelta will default to False rather than None. To silence this warning, set decode_timedelta to True, False, or a 'CFTimedeltaCoder' instance.\n",
      "  else xr.open_mfdataset(\n",
      "\u001b[1;32m1\u001b[0m\u001b[1;32m have been successfully added to the databrowser. \u001b[0m\u001b[1;32m0\u001b[0m\u001b[1;32m files were duplicates and \u001b[0m\n",
      "\u001b[1;32mnot added.\u001b[0m\n",
      "\u001b[1;32m1\u001b[0m\u001b[1;32m have been successfully added to the databrowser. \u001b[0m\u001b[1;32m0\u001b[0m\u001b[1;32m files were duplicates and \u001b[0m\n",
      "\u001b[1;32mnot added.\u001b[0m\n",
      "\u001b[1;32m1\u001b[0m\u001b[1;32m have been successfully added to the databrowser. \u001b[0m\u001b[1;32m0\u001b[0m\u001b[1;32m files were duplicates and \u001b[0m\n",
      "\u001b[1;32mnot added.\u001b[0m\n",
      "\u001b[2;36m[2025-07-31T01:22:20]\u001b[0m\u001b[2;36m \u001b[0m\u001b[1;31mERROR   \u001b[0m freva-client: Error processing batch: list index \n",
      "\u001b[2;36m                      \u001b[0m         out of range                                     \n",
      "\u001b[2;36m                     \u001b[0m\u001b[2;36m \u001b[0m\u001b[1;31mERROR   \u001b[0m freva-client: No metadata generated from the     \n",
      "\u001b[2;36m                      \u001b[0m         input data.                                      \n",
      "\u001b[2;36m[2025-07-31T01:22:22]\u001b[0m\u001b[2;36m \u001b[0m\u001b[1;31mERROR   \u001b[0m freva-client: Error processing batch: list index \n",
      "\u001b[2;36m                      \u001b[0m         out of range                                     \n",
      "\u001b[2;36m                     \u001b[0m\u001b[2;36m \u001b[0m\u001b[1;31mERROR   \u001b[0m freva-client: No metadata generated from the     \n",
      "\u001b[2;36m                      \u001b[0m         input data.                                      \n",
      "\u001b[2;36m[2025-07-31T01:22:25]\u001b[0m\u001b[2;36m \u001b[0m\u001b[1;31mERROR   \u001b[0m freva-client: Error processing batch: list index \n",
      "\u001b[2;36m                      \u001b[0m         out of range                                     \n",
      "\u001b[2;36m                     \u001b[0m\u001b[2;36m \u001b[0m\u001b[1;31mERROR   \u001b[0m freva-client: No metadata generated from the     \n",
      "\u001b[2;36m                      \u001b[0m         input data.                                      \n",
      "\u001b[2;36m[2025-07-31T01:22:27]\u001b[0m\u001b[2;36m \u001b[0m\u001b[1;31mERROR   \u001b[0m freva-client: Error processing batch: list index \n",
      "\u001b[2;36m                      \u001b[0m         out of range                                     \n",
      "\u001b[2;36m                     \u001b[0m\u001b[2;36m \u001b[0m\u001b[1;31mERROR   \u001b[0m freva-client: No metadata generated from the     \n",
      "\u001b[2;36m                      \u001b[0m         input data.                                      \n",
      "\u001b[1;31mUser interrupt: Exit\u001b[0m\n",
      "\u001b[1;32m1\u001b[0m\u001b[1;32m have been successfully added to the databrowser. \u001b[0m\u001b[1;32m0\u001b[0m\u001b[1;32m files were duplicates and \u001b[0m\n",
      "\u001b[1;32mnot added.\u001b[0m\n",
      "\u001b[2;36m[2025-07-31T01:22:34]\u001b[0m\u001b[2;36m \u001b[0m\u001b[1;31mERROR   \u001b[0m freva-client: Error processing batch: list index \n",
      "\u001b[2;36m                      \u001b[0m         out of range                                     \n",
      "\u001b[2;36m                     \u001b[0m\u001b[2;36m \u001b[0m\u001b[1;31mERROR   \u001b[0m freva-client: No metadata generated from the     \n",
      "\u001b[2;36m                      \u001b[0m         input data.                                      \n",
      "\u001b[2;36m[2025-07-31T01:22:36]\u001b[0m\u001b[2;36m \u001b[0m\u001b[1;31mERROR   \u001b[0m freva-client: Error processing batch: list index \n",
      "\u001b[2;36m                      \u001b[0m         out of range                                     \n",
      "\u001b[2;36m                     \u001b[0m\u001b[2;36m \u001b[0m\u001b[1;31mERROR   \u001b[0m freva-client: No metadata generated from the     \n",
      "\u001b[2;36m                      \u001b[0m         input data.                                      \n",
      "\u001b[1;32mNo data was added to the databrowser. \u001b[0m\u001b[1;32m1\u001b[0m\u001b[1;32m files were duplicates and not added.\u001b[0m\n",
      "\u001b[1;32mNo data was added to the databrowser. \u001b[0m\u001b[1;32m1\u001b[0m\u001b[1;32m files were duplicates and not added.\u001b[0m\n",
      "\u001b[1;32mNo data was added to the databrowser. \u001b[0m\u001b[1;32m1\u001b[0m\u001b[1;32m files were duplicates and not added.\u001b[0m\n"
     ]
    }
   ],
   "source": [
    "for file in ${files[@]};do\n",
    "    freva-client databrowser user-data add -tf ~/.freva-access-token.json --facet project=userdata \\\n",
    "        --facet product=stats --facet model=IFS  --facet experiment=ETCCDI --facet realm=atmos --facet  user=$USER -p $file\n",
    "done"
   ]
  },
  {
   "cell_type": "markdown",
   "id": "3b53fd7f-d723-45d7-92bf-7481b312c313",
   "metadata": {},
   "source": [
    "The data has now been added to the central index and can be searched via the `user` flavour"
   ]
  },
  {
   "cell_type": "code",
   "execution_count": 26,
   "id": "57a0127a-9fa7-466a-8b41-a085374975eb",
   "metadata": {},
   "outputs": [
    {
     "name": "stdout",
     "output_type": "stream",
     "text": [
      "/work/ch1187/regiklim-work/k204230/regiklim-ces/output/climdexcalc/20230414_121910/reanalysis/reanalysis/ecmwf/ifs/era5/mon/atmos/tnnetccdi/r1i1p1/tnnetccdi_mon_ifs_era5_r1i1p1_2000-2001.nc\n",
      "/work/ch1187/regiklim-work/k204230/regiklim-ces/output/climdexcalc/20230414_121910/reanalysis/reanalysis/ecmwf/ifs/era5/mon/atmos/tn90petccdi/r1i1p1/tn90petccdi_mon_ifs_era5_r1i1p1_2000-2001.nc\n",
      "/work/ch1187/regiklim-work/k204230/regiklim-ces/output/climdexcalc/20230414_121910/reanalysis/reanalysis/ecmwf/ifs/era5/mon/atmos/tn10petccdi/r1i1p1/tn10petccdi_mon_ifs_era5_r1i1p1_2000-2001.nc\n",
      "/work/ch1187/regiklim-work/k204230/regiklim-ces/output/climdexcalc/20230414_121910/reanalysis/reanalysis/ecmwf/ifs/era5/mon/atmos/dtretccdi/r1i1p1/dtretccdi_mon_ifs_era5_r1i1p1_2000-2001.nc\n"
     ]
    }
   ],
   "source": [
    "freva-client databrowser data-search experiment=ETCCDI --flavour=user time_frequency=mon"
   ]
  },
  {
   "cell_type": "markdown",
   "id": "1ce0baf3-027a-4740-bb79-891871de02e8",
   "metadata": {},
   "source": [
    "Let's access the data:"
   ]
  },
  {
   "cell_type": "code",
   "execution_count": 27,
   "id": "58f7b2dc-4f4a-4405-9d56-f5948291f0b8",
   "metadata": {},
   "outputs": [
    {
     "name": "stdout",
     "output_type": "stream",
     "text": [
      "\u001b[33mcdo    merge (Warning): \u001b[0mDuplicate entry of parameter name time_bnds in /work/ch1187/regiklim-work/k204230/regiklim-ces/output/climdexcalc/20230414_121910/reanalysis/reanalysis/ecmwf/ifs/era5/mon/atmos/tn90petccdi/r1i1p1/tn90petccdi_mon_ifs_era5_r1i1p1_2000-2001.nc!\n",
      "\u001b[33mcdo    merge (Warning): \u001b[0mDuplicate entry of parameter name time_bnds in /work/ch1187/regiklim-work/k204230/regiklim-ces/output/climdexcalc/20230414_121910/reanalysis/reanalysis/ecmwf/ifs/era5/mon/atmos/tn10petccdi/r1i1p1/tn10petccdi_mon_ifs_era5_r1i1p1_2000-2001.nc!\n",
      "\u001b[33mcdo    merge (Warning): \u001b[0mDuplicate entry of parameter name time_bnds in /work/ch1187/regiklim-work/k204230/regiklim-ces/output/climdexcalc/20230414_121910/reanalysis/reanalysis/ecmwf/ifs/era5/mon/atmos/tn10petccdi/r1i1p1/tn10petccdi_mon_ifs_era5_r1i1p1_2000-2001.nc!\n",
      "\u001b[33mcdo    merge (Warning): \u001b[0mDuplicate entry of parameter name time_bnds in /work/ch1187/regiklim-work/k204230/regiklim-ces/output/climdexcalc/20230414_121910/reanalysis/reanalysis/ecmwf/ifs/era5/mon/atmos/dtretccdi/r1i1p1/dtretccdi_mon_ifs_era5_r1i1p1_2000-2001.nc!\n",
      "\u001b[33mcdo    merge (Warning): \u001b[0mDuplicate entry of parameter name time_bnds in /work/ch1187/regiklim-work/k204230/regiklim-ces/output/climdexcalc/20230414_121910/reanalysis/reanalysis/ecmwf/ifs/era5/mon/atmos/dtretccdi/r1i1p1/dtretccdi_mon_ifs_era5_r1i1p1_2000-2001.nc!\n",
      "\u001b[33mcdo    merge (Warning): \u001b[0mDuplicate entry of parameter name time_bnds in /work/ch1187/regiklim-work/k204230/regiklim-ces/output/climdexcalc/20230414_121910/reanalysis/reanalysis/ecmwf/ifs/era5/mon/atmos/dtretccdi/r1i1p1/dtretccdi_mon_ifs_era5_r1i1p1_2000-2001.nc!\n",
      "cdi  warning (cdfCheckVarname): Changed double entry of variable name 'time_bnds' to 'time_bnds_2'!\n",
      "cdi  warning (cdfCheckVarname): Changed multiple entry of variable name 'time_bnds' to 'time_bnds_3'!\n",
      "cdi  warning (cdfCheckVarname): Changed multiple entry of variable name 'time_bnds' to 'time_bnds_4'!\n"
     ]
    }
   ],
   "source": [
    "cdo -s merge $(freva-client databrowser data-search experiment=ETCCDI --flavour=user time_frequency=mon) etccdi-mon.nc"
   ]
  },
  {
   "cell_type": "code",
   "execution_count": 28,
   "id": "29682b8b-14fe-417e-8dd8-80afa681caf8",
   "metadata": {},
   "outputs": [
    {
     "name": "stdout",
     "output_type": "stream",
     "text": [
      "\u001b[0;1m   File format\u001b[0m : NetCDF4\n",
      "\u001b[0;1m    -1 : Institut Source   T Steptype Levels Num    Points Num Dtype : Parameter ID\u001b[0m\n",
      "     1 : \u001b[34mECMWF    unknown  v instant  \u001b[0m\u001b[32m     1 \u001b[0m  1 \u001b[32m        2 \u001b[0m  1 \u001b[34m F64  \u001b[0m: -1            \n",
      "     2 : \u001b[34mECMWF    unknown  v instant  \u001b[0m\u001b[32m     1 \u001b[0m  1 \u001b[32m   819200 \u001b[0m  2 \u001b[34m F32  \u001b[0m: 228.128       \n",
      "     3 : \u001b[34mECMWF    unknown  v instant  \u001b[0m\u001b[32m     1 \u001b[0m  1 \u001b[32m        2 \u001b[0m  1 \u001b[34m F64  \u001b[0m: -3            \n",
      "     4 : \u001b[34mECMWF    unknown  v instant  \u001b[0m\u001b[32m     1 \u001b[0m  1 \u001b[32m   819200 \u001b[0m  2 \u001b[34m F32  \u001b[0m: 228.128       \n",
      "     5 : \u001b[34mECMWF    unknown  v instant  \u001b[0m\u001b[32m     1 \u001b[0m  1 \u001b[32m        2 \u001b[0m  1 \u001b[34m F64  \u001b[0m: -5            \n",
      "     6 : \u001b[34mECMWF    unknown  v instant  \u001b[0m\u001b[32m     1 \u001b[0m  1 \u001b[32m   819200 \u001b[0m  2 \u001b[34m F32  \u001b[0m: 228.128       \n",
      "     7 : \u001b[34mECMWF    unknown  v instant  \u001b[0m\u001b[32m     1 \u001b[0m  1 \u001b[32m        2 \u001b[0m  1 \u001b[34m F64  \u001b[0m: -7            \n",
      "     8 : \u001b[34mECMWF    unknown  v instant  \u001b[0m\u001b[32m     1 \u001b[0m  1 \u001b[32m   819200 \u001b[0m  2 \u001b[34m F32  \u001b[0m: 228.128       \n",
      "\u001b[0;1m   Grid coordinates\u001b[0m :\n",
      "     1 : \u001b[34mgeneric                 \u001b[0m : \u001b[32mpoints=2\u001b[0m\n",
      "     2 : \u001b[34mlonlat                  \u001b[0m : \u001b[32mpoints=819200 (1280x640)\u001b[0m\n",
      "                              lon : -179.8594 to 179.8594 by 0.28125 degrees_east  circular\n",
      "                              lat : -89.85938 to 89.85938 by 0.28125 degrees_north\n",
      "\u001b[0;1m   Vertical coordinates\u001b[0m :\n",
      "     1 : \u001b[34msurface                 \u001b[0m :\u001b[32m levels=1\u001b[0m\n",
      "\u001b[0;1m   Time coordinate\u001b[0m :\n",
      "                             time : \u001b[32m24 steps\n",
      "\u001b[0m     RefTime =  1999-12-01 00:00:00  Units = days  Calendar = proleptic_gregorian\n",
      "  YYYY-MM-DD hh:mm:ss  YYYY-MM-DD hh:mm:ss  YYYY-MM-DD hh:mm:ss  YYYY-MM-DD hh:mm:ss\n",
      "\u001b[35m  2000-01-16 00:00:00  2000-02-15 00:00:00  2000-03-16 00:00:00  2000-04-15 12:00:00\n",
      "  2000-05-16 00:00:00  2000-06-15 12:00:00  2000-07-16 00:00:00  2000-08-16 00:00:00\n",
      "  2000-09-15 12:00:00  2000-10-16 00:00:00  2000-11-15 12:00:00  2000-12-16 00:00:00\n",
      "  2001-01-16 00:00:00  2001-02-14 12:00:00  2001-03-16 00:00:00  2001-04-15 12:00:00\n",
      "  2001-05-16 00:00:00  2001-06-15 12:00:00  2001-07-16 00:00:00  2001-08-16 00:00:00\n",
      "  2001-09-15 12:00:00  2001-10-16 00:00:00  2001-11-15 12:00:00  2001-12-16 00:00:00\u001b[0m\n",
      "\u001b[32mcdo    sinfo: \u001b[0mProcessed 8 variables over 24 timesteps [0.03s 33MB]\n"
     ]
    }
   ],
   "source": [
    "cdo sinfo etccdi-mon.nc"
   ]
  },
  {
   "cell_type": "code",
   "execution_count": null,
   "id": "cac2307e-d9a4-4f00-bdeb-3bd286403c7e",
   "metadata": {},
   "outputs": [],
   "source": []
  }
 ],
 "metadata": {
  "kernelspec": {
   "display_name": "DA Workshop (shell)",
   "language": "bash",
   "name": "da-workshop-shell"
  },
  "language_info": {
   "codemirror_mode": "shell",
   "file_extension": ".sh",
   "mimetype": "text/x-sh",
   "name": "bash"
  },
  "widgets": {
   "application/vnd.jupyter.widget-state+json": {
    "state": {},
    "version_major": 2,
    "version_minor": 0
   }
  }
 },
 "nbformat": 4,
 "nbformat_minor": 5
}
