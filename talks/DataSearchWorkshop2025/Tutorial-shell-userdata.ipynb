{
 "cells": [
  {
   "cell_type": "markdown",
   "metadata": {},
   "source": [
    "# Data Analysis Workshop\n",
    "\n",
    "## Tutorial II: Add/Remove dataset to/from Freva Databrowser\n",
    "\n",
    "**ATTENTION**: if the kernel is not already set, please change it to the `DA Workshop (shell)`\n",
    "\n",
    "So far in this tutorial, we’ve learned how to search for datasets, inspect metadata, and access data directly from Freva’s indexed resources. But what if you want to work with data that isn’t yet indexed, like your own model simulations or derived statistics?\n",
    "\n",
    "In this next section, we’ll walk through how to register your own dataset with Freva’s databrowser:\n",
    "\n",
    "1. Prepare your data\n",
    "   We’ll use a sample file of extreme‐value statistics (dummy sea surface temperature extremes), but you can point to any local or remote dataset you’ve generated.\n",
    "\n",
    "2. Open the dataset  \n",
    "   Loading the file locally allows Freva to auto-extract core metadata attributes (e.g., dimensions, coordinate variables).\n",
    "\n",
    "3. Define missing metadata\n",
    "   For any required fields not present in the file (project, experiment, realm, etc.), we’ll set the appropriate Freva attributes.\n",
    "\n",
    "4. Ingest into Freva\n",
    "   You’ll see how to add the dataset to the databrowser index—and afterward, how to remove it again, to demonstrate both ingestion and deletion workflows.\n",
    "\n",
    "By the end of this section, you’ll be able to make your own simulations and analyses discoverable alongside Freva’s curated archives."
   ]
  },
  {
   "cell_type": "code",
   "execution_count": 2,
   "metadata": {},
   "outputs": [],
   "source": [
    "export PATH=/sw/spack-levante/cdo-2.2.2-4z4icb/bin:$PATH"
   ]
  },
  {
   "cell_type": "code",
   "execution_count": null,
   "metadata": {},
   "outputs": [],
   "source": [
    "USER=$(whoami)\n",
    "OUTFILE=\"dummy_sst_${USER}.nc\"\n",
    "GRIDFILE=\"$(mktemp)\"\n",
    "cat > \"$GRIDFILE\" << EOF\n",
    "gridtype = lonlat\n",
    "xsize    = 171\n",
    "ysize    = 121\n",
    "xfirst   = 120\n",
    "xinc     = 1\n",
    "yfirst   = -30\n",
    "yinc     = 0.5\n",
    "xname    = lon\n",
    "yname    = lat\n",
    "xunits   = degrees_east\n",
    "yunits   = degrees_north\n",
    "EOF\n",
    "cdo -f nc const,0,\"$GRIDFILE\" base.nc\n",
    "cdo -f nc \\\n",
    "    -setcalendar,standard \\\n",
    "    -settaxis,2025-01-01,00:00:00,1month \\\n",
    "    -expr,'sst=28-0.006*(clon(const)-230)' \\\n",
    "    -setattribute,sst@long_name=\"Idealized Pacific SST\" \\\n",
    "    -setattribute,sst@units=\"°C\" \\\n",
    "    base.nc \"$OUTFILE\"\n",
    "rm -f base.nc \"$GRIDFILE\"\n",
    "echo \"Wrote $OUTFILE → exists? $( [[ -f $OUTFILE ]] && echo yes || echo no )\""
   ]
  },
  {
   "cell_type": "markdown",
   "metadata": {},
   "source": [
    "Now we are going to add this dummy SST data to the Freva"
   ]
  },
  {
   "cell_type": "markdown",
   "metadata": {},
   "source": [
    "For this purpose we need to first authenticate to be able to be know to the server to be able to add and remove data.\n",
    "To do so, please follow the folowing instruction to do it:\n",
    "\n",
    "1. Please head over to the https://www.gems.dkrz.de and then loging to the website.\n",
    "\n",
    "    <img src=\"./media/token1.png\" width=300px>\n",
    "2. When you are logged in, please click on your username button on top right and choose the `Token Management`.\n",
    "\n",
    "    <img src=\"./media/token2.png\" width=300px>\n",
    "3. from the buttons on the token management, please click on the `Copy`\n",
    "\n",
    "    <img src=\"./media/token3.png\" width=300px>\n",
    "4. Paste the copied token in the cell below here on the empty line between EOFs `'EOF'`\n",
    "\n",
    "\n",
    "`EOF`\n"
   ]
  },
  {
   "cell_type": "code",
   "execution_count": 23,
   "metadata": {},
   "outputs": [],
   "source": [
    "# <copy-paste> the token content from the web site below\n",
    "cat > ~/.freva-access-token.json << 'EOF'\n",
    "\n",
    "EOF"
   ]
  },
  {
   "cell_type": "code",
   "execution_count": null,
   "metadata": {},
   "outputs": [],
   "source": [
    "freva-client databrowser user-data add --path dummy_sst_$USER.nc --facet project=\"${USER}data\" --facet product=stats --facet model=IFS --facet experiment=ETCCDI --facet realm=atmos --token-file ~/.freva-access-token.json"
   ]
  },
  {
   "cell_type": "markdown",
   "metadata": {},
   "source": [
    "This response shows that the data has been successfully added to Freva. Now we can query the data to see if the data is on Freva"
   ]
  },
  {
   "cell_type": "code",
   "execution_count": null,
   "metadata": {},
   "outputs": [],
   "source": [
    "freva-client databrowser metadata-search --flavour user "
   ]
  },
  {
   "cell_type": "markdown",
   "metadata": {},
   "source": [
    "Since we are sure that the data has been added to the Freva, we can remove it via the following command:"
   ]
  },
  {
   "cell_type": "code",
   "execution_count": null,
   "metadata": {},
   "outputs": [],
   "source": [
    "freva-client databrowser user-data delete --search-key project=userdata --search-key product=stats --search-key model=IFS --search-key experiment=ETCCDI --search-key realm=atmos --token-file ~/.freva-access-token.json"
   ]
  },
  {
   "cell_type": "code",
   "execution_count": null,
   "metadata": {},
   "outputs": [],
   "source": []
  }
 ],
 "metadata": {
  "kernelspec": {
   "display_name": "DA Workshop (shell)",
   "language": "bash",
   "name": "da-workshop-shell"
  },
  "language_info": {
   "codemirror_mode": "shell",
   "file_extension": ".sh",
   "mimetype": "text/x-sh",
   "name": "bash"
  }
 },
 "nbformat": 4,
 "nbformat_minor": 4
}
