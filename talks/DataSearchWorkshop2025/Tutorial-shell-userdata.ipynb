{
 "cells": [
  {
   "cell_type": "markdown",
   "metadata": {},
   "source": [
    "# Data Analysis Workshop\n",
    "\n",
    "## Tutorial II: Add/Remove dataset to/from Freva Databrowser\n",
    "\n",
    "<div style=\"\n",
    "  border-left: 6px solid rgb(236, 114, 0);\n",
    "  background-color:rgb(253, 231, 157);\n",
    "  color:rgb(19, 19, 18);\n",
    "  padding: 1em;\n",
    "  font-size: 110%;\n",
    "  border-radius: 4px;\n",
    "  margin: 1em 0;\n",
    "\">\n",
    "⚠️ <strong>ATTENTION</strong>: if the kernel is not already set, please change it to the <code>DA Workshop (shell)</code>\n",
    "</div>\n",
    "\n",
    "<div style=\"border-left: 4px solid #0366d6; padding: 0.5em; background-color: #deecfc;\">\n",
    "  ℹ️ If you want to know more about these topics please refer to:\n",
    "  <ul>\n",
    "  <li> <a href='https://freva-org.github.io/freva-nextgen/auth/index.html#' target=\"_blank\">authentication</a></li>\n",
    "  <li>adding and deleting user data <a href=\"https://freva-org.github.io/freva-nextgen/databrowser/cli.html#adding-and-deleting-user-data\">via <code>databrowser user-data</code> </a></li>\n",
    "</ul>  \n",
    "</div>\n",
    "\n",
    "<br>\n",
    "<br>\n",
    "\n",
    "So far in this tutorial, we've learned how to search for datasets, inspect metadata, and access data directly from Freva's indexed resources. But what if you want to work with data that isn't yet indexed, like your own model simulations or derived statistics?\n",
    "\n",
    "In this next section, we'll walk through how to register your own dataset with Freva's databrowser:\n",
    "\n",
    "1. Prepare your data\n",
    "   We'll use a sample file of extreme‐value statistics (dummy sea surface temperature extremes), but you can point to any local or remote dataset you've generated.\n",
    "\n",
    "2. Open the dataset  \n",
    "   Loading the file locally allows Freva to auto-extract core metadata attributes (e.g., dimensions, coordinate variables).\n",
    "\n",
    "3. Define missing metadata\n",
    "   For any required fields not present in the file (project, experiment, realm, etc.), we'll set the appropriate Freva attributes.\n",
    "\n",
    "4. Ingest into Freva\n",
    "   You'll see how to add the dataset to the databrowser index—and afterward, how to remove it again, to demonstrate both ingestion and deletion workflows.\n",
    "\n",
    "By the end of this section, you'll be able to make your own simulations and analyses discoverable alongside Freva's curated archives."
   ]
  },
  {
   "cell_type": "markdown",
   "metadata": {},
   "source": [
    "Let's start creating a dummy surface sea temperature monthly file for the tropical Pacific region:"
   ]
  },
  {
   "cell_type": "code",
   "execution_count": null,
   "metadata": {},
   "outputs": [],
   "source": [
    "USER=$(whoami)\n",
    "OUTFILE=\"dummy_sst_${USER}.nc\"\n",
    "GRIDFILE=\"$(mktemp)\"\n",
    "cat > \"$GRIDFILE\" << EOF\n",
    "gridtype = lonlat\n",
    "xsize    = 171\n",
    "ysize    = 121\n",
    "xfirst   = 120\n",
    "xinc     = 1\n",
    "yfirst   = -30\n",
    "yinc     = 0.5\n",
    "xname    = lon\n",
    "yname    = lat\n",
    "xunits   = degrees_east\n",
    "yunits   = degrees_north\n",
    "EOF\n",
    "cdo -f nc const,0,\"$GRIDFILE\" base.nc\n",
    "cdo -f nc \\\n",
    "    -setcalendar,standard \\\n",
    "    -settaxis,2025-01-01,00:00:00,1month \\\n",
    "    -expr,'sst=28-0.006*(clon(const)-230)' \\\n",
    "    -setattribute,sst@long_name=\"Idealized Pacific SST\" \\\n",
    "    -setattribute,sst@units=\"°C\" \\\n",
    "    base.nc \"$OUTFILE\"\n",
    "rm -f base.nc \"$GRIDFILE\"\n",
    "echo \"Wrote $OUTFILE → exists? $( [[ -f $OUTFILE ]] && echo yes || echo no )\""
   ]
  },
  {
   "cell_type": "markdown",
   "metadata": {},
   "source": [
    "Now we are going to add this dummy SST data to the Freva databrowser"
   ]
  },
  {
   "cell_type": "markdown",
   "metadata": {},
   "source": [
    "For this purpose we need to first authenticate to be able to be know to the server to be able to add and remove data.\n",
    "To do so, please follow the folowing instruction to do it:\n",
    "\n",
    "1. Please head over to the https://www.gems.dkrz.de and then loging to the website.\n",
    "\n",
    "    <img src=\"https://github.com/freva-org/Talks/raw/main/talks/DataSearchWorkshop2025/media/token1.png\" width=600px>\n",
    "2. When you are logged in, please click on your username button on top right and choose the `Token Management`.\n",
    "\n",
    "    <img src=\"https://github.com/freva-org/Talks/raw/main/talks/DataSearchWorkshop2025/media/token2.png\" width=600px>\n",
    "3. from the buttons on the token management, please click on the `Copy`\n",
    "\n",
    "    <img src=\"https://github.com/freva-org/Talks/raw/main/talks/DataSearchWorkshop2025/media/token3.png\" width=600px>\n",
    "4. Paste the copied token in the cell below here `\"\"\"TOKEN_SHALL_BE_PASTED_HERE\"\"\"`\n"
   ]
  },
  {
   "cell_type": "code",
   "execution_count": null,
   "metadata": {},
   "outputs": [],
   "source": [
    "# <copy-paste> the token content from the web site below\n",
    "cat > ~/.freva-access-token.json << 'EOF'\n",
    "\n",
    "EOF"
   ]
  },
  {
   "cell_type": "markdown",
   "metadata": {},
   "source": [
    "We will use this token to authenticate ourselves with the `--token-file` parameter."
   ]
  },
  {
   "cell_type": "markdown",
   "metadata": {},
   "source": [
    "<br>\n",
    "\n",
    "Now lets add our newly created dummy data to Freva with the `user-data` function.\n",
    "\n",
    "Freva is able to infer, from the filename and/or file metadata some of the attributes of this file, such as, e.g. `time_frequency` and `variable`. But I cannot make up for all of the attributes, however, we can explicitly define them before we want to index our file into the databrowser so they are not all empty. We will do it explicitly setting the desired key value pairs manually:"
   ]
  },
  {
   "cell_type": "code",
   "execution_count": null,
   "metadata": {},
   "outputs": [],
   "source": [
    "freva-client databrowser user-data add --path dummy_sst_$USER.nc --facet project=\"${USER}data\" --facet product=stats --facet model=IFS --facet experiment=ETCCDI --facet realm=atmos --token-file ~/.freva-access-token.json"
   ]
  },
  {
   "cell_type": "markdown",
   "metadata": {},
   "source": [
    "This response shows that the data has been successfully added to Freva. Now we can query the data to see if the data is on Freva"
   ]
  },
  {
   "cell_type": "code",
   "execution_count": null,
   "metadata": {},
   "outputs": [],
   "source": [
    "freva-client databrowser metadata-search --flavour user "
   ]
  },
  {
   "cell_type": "markdown",
   "metadata": {},
   "source": [
    "Since we are sure that the data has been added to the Freva, we can remove it via the following command:"
   ]
  },
  {
   "cell_type": "code",
   "execution_count": null,
   "metadata": {},
   "outputs": [],
   "source": [
    "freva-client databrowser user-data delete --search-key project=\"${USER}data\" --search-key product=stats --search-key model=IFS --search-key experiment=ETCCDI --search-key realm=atmos --token-file ~/.freva-access-token.json"
   ]
  },
  {
   "cell_type": "markdown",
   "metadata": {},
   "source": [
    "For demonstration purposes we can check again:"
   ]
  },
  {
   "cell_type": "code",
   "execution_count": null,
   "metadata": {},
   "outputs": [],
   "source": [
    "freva-client databrowser metadata-search --flavour user "
   ]
  }
 ],
 "metadata": {
  "kernelspec": {
   "display_name": "DA Workshop (shell)",
   "language": "bash",
   "name": "da-workshop-shell"
  },
  "language_info": {
   "codemirror_mode": "shell",
   "file_extension": ".sh",
   "mimetype": "text/x-sh",
   "name": "bash"
  }
 },
 "nbformat": 4,
 "nbformat_minor": 4
}
