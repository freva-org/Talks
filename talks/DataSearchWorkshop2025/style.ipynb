{
 "cells": [
  {
   "cell_type": "markdown",
   "id": "8ff6ecb8-1ba3-4e6c-90cb-835b7e62f2af",
   "metadata": {
    "editable": true,
    "slideshow": {
     "slide_type": "notes"
    },
    "tags": []
   },
   "source": [
    "<style>\n",
    "h1 {\n",
    "    font-size: 1.8em !important;\n",
    "}\n",
    "img {\n",
    "    display: block;\n",
    "    margin-left: auto;\n",
    "    margin-right: auto;\n",
    "    max-height: 65vh;\n",
    "}\n",
    ".reveal p {\n",
    "    color: black;\n",
    "}\n",
    ".reveal pre {\n",
    "    color: black;\n",
    "}\n",
    "div.hl-ipython3 pre {\n",
    "    color: black;\n",
    "}\n",
    ".reveal li {\n",
    "  color: black;\n",
    "}\n",
    ".reveal div.highlight pre {\n",
    "    color: black;\n",
    "}\n",
    "div.prompt, div.jp-InputPrompt, div.jp-InputArea-prompt, div.jp-OutputPrompt, div.jp-OutputArea-prompt {\n",
    "    display: none !important;\n",
    "}\n",
    ".reveal .slides {\n",
    "  max-width: 95% !important;\n",
    "  width: 65% !important;\n",
    "  margin: auto !important;\n",
    "  padding: 0 2em; /* optional: horizontal padding */\n",
    "  text-align: center;\n",
    "}\n",
    "\n",
    "/* Center and constrain individual slide content */\n",
    ".reveal .slides section {\n",
    "  max-width: 1000px;  /* or adjust as needed */\n",
    "  margin: 0 auto !important;\n",
    "  text-align: center;\n",
    "}\n",
    "\n",
    ".reveal .slides section p {\n",
    "  margin-left: auto;\n",
    "  margin-right: auto;\n",
    "  text-align: center;\n",
    "}\n",
    ".reveal img {\n",
    "  display: block;\n",
    "  margin-left: auto;\n",
    "  margin-right: auto;\n",
    "}\n",
    "</style>"
   ]
  }
 ],
 "metadata": {
  "kernelspec": {
   "display_name": "Python 3 (ipykernel)",
   "language": "python",
   "name": "python3"
  },
  "language_info": {
   "codemirror_mode": {
    "name": "ipython",
    "version": 3
   },
   "file_extension": ".py",
   "mimetype": "text/x-python",
   "name": "python",
   "nbconvert_exporter": "python",
   "pygments_lexer": "ipython3",
   "version": "3.13.2"
  }
 },
 "nbformat": 4,
 "nbformat_minor": 5
}
