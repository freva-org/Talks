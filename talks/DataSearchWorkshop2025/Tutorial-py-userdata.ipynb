{
 "cells": [
  {
   "cell_type": "markdown",
   "metadata": {},
   "source": [
    "# Data Analysis Workshop\n",
    "\n",
    "## Tutorial II: Add/Remove dataset to/from Freva Databrowser\n",
    "\n",
    "<div style=\"\n",
    "  border-left: 6px solid rgb(236, 114, 0);\n",
    "  background-color:rgb(253, 231, 157);\n",
    "  color:rgb(19, 19, 18);\n",
    "  padding: 1em;\n",
    "  font-size: 110%;\n",
    "  border-radius: 4px;\n",
    "  margin: 1em 0;\n",
    "\">\n",
    "⚠️ <strong>ATTENTION</strong>: if the kernel is not already set, please change it to the <code>DA Workshop (python)</code>\n",
    "</div>\n",
    "\n",
    "<div style=\"border-left: 4px solid #0366d6; padding: 0.5em; background-color: #deecfc;\">\n",
    "  ℹ️ If you want to know more about these topics please refer to:\n",
    "  <ul>\n",
    "  <li> <a href='https://freva-org.github.io/freva-nextgen/auth/index.html#' target=\"_blank\">authentication</a></li>\n",
    "  <li>adding and deleting user data <a href=\"https://freva-org.github.io/freva-nextgen/databrowser/python-lib.html#freva_client.databrowser.userdata\">via <code>databrowser.userdata</code> </a></li>\n",
    "</ul>  \n",
    "</div>\n",
    "\n",
    "<br>\n",
    "<br>\n",
    "\n",
    "So far in this tutorial, we've learned how to search for datasets, inspect metadata, and access data directly from Freva's indexed resources. But what if you want to work with data that isn't yet indexed, like your own model simulations or derived statistics?\n",
    "\n",
    "In this next section, we'll walk through how to register your own dataset with Freva's databrowser:\n",
    "\n",
    "1. Prepare your data\n",
    "   We'll use a sample file of extreme‐value statistics (dummy sea surface temperature extremes), but you can point to any local or remote dataset you've generated.\n",
    "\n",
    "2. Open the dataset  \n",
    "   Loading the file locally allows Freva to auto-extract core metadata attributes (e.g., dimensions, coordinate variables).\n",
    "\n",
    "3. Define missing metadata\n",
    "   For any required fields not present in the file (project, experiment, realm, etc.), we'll set the appropriate Freva attributes.\n",
    "\n",
    "4. Ingest into Freva\n",
    "   You'll see how to add the dataset to the databrowser index—and afterward, how to remove it again, to demonstrate both ingestion and deletion workflows.\n",
    "\n",
    "By the end of this section, you'll be able to make your own simulations and analyses discoverable alongside Freva's curated archives."
   ]
  },
  {
   "cell_type": "code",
   "execution_count": null,
   "metadata": {},
   "outputs": [],
   "source": [
    "import numpy as np, xarray as xr, os\n",
    "from getpass import getuser\n",
    "from freva_client import databrowser, authenticate\n",
    "from pathlib import Path"
   ]
  },
  {
   "cell_type": "markdown",
   "metadata": {},
   "source": [
    "Let's start creating a dummy surface sea temperature monthly file for the tropical Pacific region:"
   ]
  },
  {
   "cell_type": "code",
   "execution_count": null,
   "metadata": {},
   "outputs": [],
   "source": [
    "time = np.arange(\"2025-01\",\"2026-01\",dtype=\"datetime64[M]\")\n",
    "lat, lon = np.linspace(-30,30,121), np.linspace(120,290,171)\n",
    "da = (xr.DataArray(28 - 0.006*(lon-230), dims=(\"lon\",), coords={\"lon\":lon})\n",
    "      .expand_dims(time=time, lat=lat))\n",
    "da.name = \"sst\"; da.attrs.update(long_name=\"Idealized Pacific SST\", units=\"°C\")\n",
    "da.to_netcdf(f\"dummy_sst_{getuser()}.nc\")\n",
    "print(f\"check if dummy_sst_{getuser()}.nc exists: {os.path.exists(f'dummy_sst_{getuser()}.nc')}\")"
   ]
  },
  {
   "cell_type": "code",
   "execution_count": null,
   "metadata": {},
   "outputs": [],
   "source": [
    "import matplotlib.pyplot as plt, cartopy.crs as ccrs, cartopy.feature as cfeature\n",
    "\n",
    "fig, ax = plt.subplots(figsize=(8,4), subplot_kw=dict(projection=ccrs.PlateCarree(180)))\n",
    "da.mean(\"time\").plot.pcolormesh(ax=ax, transform=ccrs.PlateCarree(), cmap=\"coolwarm\", add_colorbar=True)\n",
    "\n",
    "ax.add_feature(cfeature.LAND, facecolor=\"white\", zorder=2); ax.coastlines(zorder=3); ax.add_feature(cfeature.BORDERS, linestyle=\":\", zorder=3)\n",
    "plt.title(\"Pacific SST\"); plt.tight_layout(); plt.show()"
   ]
  },
  {
   "cell_type": "markdown",
   "metadata": {},
   "source": [
    "Now we are going to add this dummy SST data to the Freva databrowser"
   ]
  },
  {
   "cell_type": "markdown",
   "metadata": {},
   "source": [
    "For this purpose we need to first authenticate to be able to be know to the server to be able to add and remove data.\n",
    "To do so, please follow the folowing instruction to do it:\n",
    "\n",
    "1. Please head over to the https://www.gems.dkrz.de and then loging to the website.\n",
    "\n",
    "    <img src=\"https://github.com/freva-org/Talks/raw/main/talks/DataSearchWorkshop2025/media/token1.png\" width=600px>\n",
    "2. When you are logged in, please click on your username button on top right and choose the `Token Management`.\n",
    "\n",
    "    <img src=\"https://github.com/freva-org/Talks/raw/main/talks/DataSearchWorkshop2025/media/token2.png\" width=600px>\n",
    "3. from the buttons on the token management, please click on the `Copy`\n",
    "\n",
    "    <img src=\"https://github.com/freva-org/Talks/raw/main/talks/DataSearchWorkshop2025/media/token3.png\" width=600px>\n",
    "4. Paste the copied token in the cell below here:\n",
    "\n",
    "👇👇👇**TOKEN SHALL BE PASTED HERE**👇👇👇"
   ]
  },
  {
   "cell_type": "code",
   "execution_count": null,
   "metadata": {},
   "outputs": [],
   "source": [
    "# <copy-paste> the token content from the web site below\n",
    "token = \"\"\" \"\"\"\n",
    "_ = (Path.home() / \".freva-access-token.json\").write_text(token)"
   ]
  },
  {
   "cell_type": "markdown",
   "metadata": {},
   "source": [
    "And using the token we can authenticate ourselves:"
   ]
  },
  {
   "cell_type": "code",
   "execution_count": null,
   "metadata": {},
   "outputs": [],
   "source": [
    "token = authenticate(token_file=Path.home() / \".freva-access-token.json\")"
   ]
  },
  {
   "cell_type": "markdown",
   "metadata": {},
   "source": [
    "<br>\n",
    "\n",
    "Now lets add our newly created dummy data to Freva.\n",
    "\n",
    "Freva is able to infer, from the filename and/or file metadata some of the attributes of this file, such as, e.g. `time_frequency` and `variable`. But I cannot make up for all of the attributes, however, we can explicitly define them before we want to index our file into the databrowser so they are not all empty. We will do it using the `metadata=` parameter:"
   ]
  },
  {
   "cell_type": "code",
   "execution_count": null,
   "metadata": {},
   "outputs": [],
   "source": [
    "global_attributes = {\"project\": \"userdata\", \"product\": \"stats\", \"model\": \"IFS\", \"experiment\": \"ETCCDI\", \"realm\": \"atmos\"}\n",
    "databrowser.userdata(\n",
    "    action=\"add\",\n",
    "    userdata_items=[f\"{os.getcwd()}/dummy_sst_{getuser()}.nc\"],\n",
    "    metadata=global_attributes,\n",
    "    host=\"https://www.gems.dkrz.de\",\n",
    ")"
   ]
  },
  {
   "cell_type": "markdown",
   "metadata": {},
   "source": [
    "This response shows that the data has been successfully added to Freva. Now we can query the data to see if the data is on Freva"
   ]
  },
  {
   "cell_type": "code",
   "execution_count": null,
   "metadata": {},
   "outputs": [],
   "source": [
    "databrowser.metadata_search(flavour=\"user\", user=getuser())"
   ]
  },
  {
   "cell_type": "markdown",
   "metadata": {},
   "source": [
    "Since we are sure that the data has been added to Freva, we can remove it via the following command:"
   ]
  },
  {
   "cell_type": "code",
   "execution_count": null,
   "metadata": {},
   "outputs": [],
   "source": [
    "global_attributes = {\"project\": \"userdata\", \"product\": \"stats\", \"model\": \"IFS\", \"experiment\": \"ETCCDI\", \"realm\": \"atmos\"}\n",
    "databrowser.userdata(\n",
    "    action=\"delete\",\n",
    "    metadata=global_attributes,\n",
    "    host=\"https://www.gems.dkrz.de\",\n",
    ")"
   ]
  },
  {
   "cell_type": "markdown",
   "metadata": {},
   "source": [
    "For demonstration purposes we can check again:"
   ]
  },
  {
   "cell_type": "code",
   "execution_count": null,
   "metadata": {},
   "outputs": [],
   "source": [
    "databrowser.metadata_search(flavour=\"user\", user=getuser())"
   ]
  }
 ],
 "metadata": {
  "kernelspec": {
   "display_name": "DA Workshop (python)",
   "language": "python",
   "name": "da-workshop-python"
  },
  "language_info": {
   "codemirror_mode": {
    "name": "ipython",
    "version": 3
   },
   "file_extension": ".py",
   "mimetype": "text/x-python",
   "name": "python",
   "nbconvert_exporter": "python",
   "pygments_lexer": "ipython3",
   "version": "3.13.3"
  }
 },
 "nbformat": 4,
 "nbformat_minor": 4
}
