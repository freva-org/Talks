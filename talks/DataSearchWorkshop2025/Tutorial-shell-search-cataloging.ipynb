{
 "cells": [
  {
   "cell_type": "markdown",
   "metadata": {},
   "source": [
    "# Data Analysis Workshop\n",
    "\n",
    "## Tutorial I: Search and query, accessing and Cataloging the dataset\n",
    "\n",
    "In this tutorial, we’ll learn how to use the `freva-client` library to explore and access available datasets and at the end customize the dataset on Freva based on own desire.\n",
    "To get started, we’ll run a simple analysis on the [MPI Grand Ensemble data](https://mpimet.mpg.de/en/research/modeling/grand-ensemble), a large collection of climate simulations.\n",
    "The data browser organizes metadata in a **tree-like hierarchy**. At the top of this structure is the **`project`** level.\n",
    "\n",
    "First let's setup and learn about authentication and then keep up with the rest."
   ]
  },
  {
   "cell_type": "markdown",
   "metadata": {},
   "source": [
    "## Installation"
   ]
  },
  {
   "cell_type": "markdown",
   "metadata": {},
   "source": [
    "#### The Client Library\n",
    "\n",
    "| Environment | Installation Command |\n",
    "|-------------|---------------------|\n",
    "| DKRZ/Levante (Recommended) | `$ module load clint gems`(Terminal) <br> `In [1]: !module load clint gems`(Jupyterhub) |\n",
    "| Conda (Local) | $ `conda create -n freva-client-env -c conda-forge freva-client -y` |\n",
    "| Python (Local) | `$ pip install freva-client` |\n"
   ]
  },
  {
   "cell_type": "markdown",
   "metadata": {},
   "source": [
    "**ATTENTION**: For the Freva Databrowser workshop, please open the new Jupyter as Terminal and write the following:\n",
    "```bash\n",
    "$ module load clint gems\n",
    "$ da-workshop-setup\n",
    "```\n",
    "And then from kernel environment list, please choose, `DA Workshop (shell)`\n",
    "Now your environment is ready to start!\n"
   ]
  },
  {
   "cell_type": "code",
   "execution_count": null,
   "metadata": {},
   "outputs": [],
   "source": [
    "!export PATH=/sw/spack-levante/cdo-2.2.2-4z4icb/bin:$PATH"
   ]
  },
  {
   "cell_type": "markdown",
   "metadata": {},
   "source": [
    "Now let quickly ckeck if `freva-client` is available on our current kernel environemnt or not!"
   ]
  },
  {
   "cell_type": "code",
   "execution_count": null,
   "metadata": {},
   "outputs": [],
   "source": [
    "freva-client auth --version"
   ]
  },
  {
   "cell_type": "markdown",
   "metadata": {},
   "source": [
    "Now let's learn together how to authenticate to Freva. It is as simple as the following line!"
   ]
  },
  {
   "cell_type": "markdown",
   "metadata": {},
   "source": [
    "## Querying Data"
   ]
  },
  {
   "cell_type": "markdown",
   "metadata": {},
   "source": [
    "First and foremost, let's findout which search keys are avaiable on the system:"
   ]
  },
  {
   "cell_type": "code",
   "execution_count": null,
   "metadata": {},
   "outputs": [],
   "source": [
    "freva-client databrowser data-overview"
   ]
  },
  {
   "cell_type": "markdown",
   "metadata": {},
   "source": [
    "Let's assume we know that the Grand-Ensemble data is stored under `mpi-ge` but we don't know whether it's under `project` or `product` etc. The databrowser is here to help. You can simply use the `facet` argument to search for all entries containing a certain value, such as `mpi-ge`. Let's get the project(s) of all search keys (or facets) that contain `mpi-ge`"
   ]
  },
  {
   "cell_type": "code",
   "execution_count": null,
   "metadata": {},
   "outputs": [],
   "source": [
    "freva-client databrowser metadata-search --facet mpi-ge --json | jq -rc '.project|join(\", \")'"
   ]
  },
  {
   "cell_type": "markdown",
   "metadata": {},
   "source": [
    "Let's create a time series of 2 m air temperature. To do so we have to check if the `tas` variable is available. We can use the `metadata_search` function:"
   ]
  },
  {
   "cell_type": "code",
   "execution_count": null,
   "metadata": {},
   "outputs": [],
   "source": [
    "freva-client databrowser metadata-search project=mpi-ge --json | jq -rc '.variable | index(\"tas\") != null'"
   ]
  },
  {
   "cell_type": "markdown",
   "metadata": {},
   "source": [
    "Let's query the available ouput time frequencies:"
   ]
  },
  {
   "cell_type": "code",
   "execution_count": null,
   "metadata": {},
   "outputs": [],
   "source": [
    "freva-client databrowser metadata-search project=mpi-ge variable=tas --json | jq -rc \".time_frequency\""
   ]
  },
  {
   "cell_type": "markdown",
   "metadata": {},
   "source": [
    "Now we do have a rough overview of the available data, to access the data create a so called `instance` of the databrowser class. We want to cover future scenarios, that is timesteps from today until 2100.  "
   ]
  },
  {
   "cell_type": "code",
   "execution_count": null,
   "metadata": {},
   "outputs": [],
   "source": [
    "freva-client databrowser metadata-search project=mpi-ge variable=tas time_frequency=mon --time \"2025-01 to 2100-12\""
   ]
  },
  {
   "cell_type": "markdown",
   "metadata": {},
   "source": [
    "To check how many files were found we can apply the `len` function to our instance:"
   ]
  },
  {
   "cell_type": "code",
   "execution_count": null,
   "metadata": {},
   "outputs": [],
   "source": [
    "freva-client databrowser data-count project=mpi-ge variable=tas time_frequency=mon --time \"2025-01 to 2100-12\""
   ]
  },
  {
   "cell_type": "markdown",
   "metadata": {},
   "source": [
    "Just like with the `metadata_search` method we can check the meta data with using `metadata` property. This will give you the metdata search parameters that were used to create the `db` object:"
   ]
  },
  {
   "cell_type": "code",
   "execution_count": null,
   "metadata": {},
   "outputs": [],
   "source": [
    "freva-client databrowser metadata-search project=mpi-ge variable=tas time_frequency=mon --time \"2025-01 to 2100-12\" --json | jq -c \".experiment\""
   ]
  },
  {
   "cell_type": "markdown",
   "metadata": {},
   "source": [
    "The `picontrol` experiment is unexpceted. Let's check the what is going on. We create a new search and check the files belonging to that search:"
   ]
  },
  {
   "cell_type": "code",
   "execution_count": null,
   "metadata": {},
   "outputs": [],
   "source": [
    "freva-client databrowser data-count project=mpi-ge variable=tas time_frequency=mon experiment=picontrol --time \"2025-01 to 2100-12\""
   ]
  },
  {
   "cell_type": "markdown",
   "metadata": {},
   "source": [
    "To get the files we can \"convert\" our search to a list"
   ]
  },
  {
   "cell_type": "code",
   "execution_count": null,
   "metadata": {},
   "outputs": [],
   "source": [
    "freva-client databrowser data-search project=mpi-ge variable=tas time_frequency=mon experiment=picontrol --time \"2025-01 to 2100-12\""
   ]
  },
  {
   "cell_type": "markdown",
   "metadata": {},
   "source": [
    "Let's do a reverse search, that is check what meta data is assocaited with a file: "
   ]
  },
  {
   "cell_type": "code",
   "execution_count": null,
   "metadata": {},
   "outputs": [],
   "source": [
    "freva-client databrowser metadata-search file=/work/mh1007/CMOR/MPI-GE/output1/MPI-M/MPI-ESM/piControl/mon/atmos/tas/r001i1850p3/v20190123/tas_Amon_MPI-ESM_piControl_r001i1850p3_210001-219912.nc"
   ]
  },
  {
   "cell_type": "markdown",
   "metadata": {},
   "source": [
    "Since we don't want this pre-industrial control run in our databrowser search we tell the databrowser to not use it. We can use the `!` to *not* include a certain value"
   ]
  },
  {
   "cell_type": "code",
   "execution_count": null,
   "metadata": {},
   "outputs": [],
   "source": [
    "experiments=$(freva-client databrowser metadata-search \\\n",
    "  project=mpi-ge \\\n",
    "  variable=tas \\\n",
    "  time_frequency=mon \\\n",
    "  --time=\"2025-01 to 2100-12\" \\\n",
    "  experiment='!picontrol' \\\n",
    "  --json \\\n",
    "  | jq -rc '.experiment | join(\" \")')\n",
    "echo \"$experiments\""
   ]
  },
  {
   "cell_type": "markdown",
   "metadata": {},
   "source": [
    "Now let's try to create a global time series for each of the experiments. We can use the search result of the databrowser to directly pip the output into cdo"
   ]
  },
  {
   "cell_type": "code",
   "execution_count": null,
   "metadata": {},
   "outputs": [],
   "source": [
    "temp_dir=$(mktemp -d --suffix cdo)\n",
    "for exp in $experiments ;do\n",
    "    outlist=()\n",
    "    # Let's get only the first 5 ensemble member for brevity\n",
    "    members=$(freva-client databrowser metadata-search \\\n",
    "    project=mpi-ge variable=tas time_frequency=mon --time=\"2025-01 to 2100-12\" experiment=\"$exp\" --json |\n",
    "    jq -r '.ensemble | unique | .[:5] | join(\" \")')\n",
    "    for ens in $members;do\n",
    "        echo -ne \"Reading data and calculating TS for experiment $exp in ens: $ens\\r\"\n",
    "        files=$(freva-client databrowser data-search project=mpi-ge variable=tas time_frequency=mon --time=\"2025-01 to 2100-12\" experiment=$exp ensemble=$ens realm=atmos)\n",
    "        outfile=\"$temp_dir/tas_mean_${exp}_${ens}.nc\"\n",
    "        cdo -s fldmean -mergetime $files \"$outfile\"\n",
    "        outlist+=(\"$outfile\")\n",
    "    done\n",
    "    cdo mergetime \"${outlist[@]}\" \"$temp_dir/tas_ensemble_${exp}.nc\"\n",
    "done\n",
    "cdo mergetime $temp_dir/tas_ensemble_*.nc tas_all_experiments.nc\n"
   ]
  },
  {
   "cell_type": "markdown",
   "metadata": {},
   "source": [
    "We can use the search result of the databrowser object to directly open dataset in xarray:"
   ]
  },
  {
   "cell_type": "code",
   "execution_count": null,
   "metadata": {},
   "outputs": [],
   "source": [
    "cdo sinfo tas_all_experiments.nc"
   ]
  },
  {
   "cell_type": "markdown",
   "metadata": {},
   "source": [
    "## Cataloging Datasets:"
   ]
  },
  {
   "cell_type": "markdown",
   "metadata": {},
   "source": [
    "Now that you’ve located your target dataset on Freva, you may want to export the full metadata for project's partner who don’t have direct Freva access or you want to download it and access somewhere else on any other HPC system.\n",
    "\n",
    "In this section we are going to introduce two different types of Cataloues: \n",
    "1. The **intake-esm** catalog provides a lightweight, Python-friendly interface to the metadata of large Earth System Model archives. By pointing to a central JSON index, it lets you discover, filter, and load climate model outputs—such as temperature, precipitation, or ocean variables—without downloading entire datasets. The catalog structure follows the CMIP/ESM conventions, enabling easy subsetting by attributes like project name, variable, experiment, and time period. Once exported as a standalone YAML file, your subsetted catalog can be shared with collaborators who can query and load data locally, with no direct access to the original archive required.\n",
    "\n",
    "\n",
    "2. The **STAC (SpatioTemporal Asset Catalog)** static catalog defines a simple, filesystem-based layout for geospatial metadata. A static catalog bundles Catalog, Collection, and Item JSON files into a set of directories that mirror your data hierarchy, with no dynamic search API. Bundling the entire catalog into a ZIP archive makes it trivial to distribute or archive a snapshot of your dataset inventory—satellite imagery, climate projections, or any spatiotemporal assets—for offline use, disaster recovery, or reproducible analyses. Once unzipped, the folder structure and JSON files provide the same discovery semantics as a live STAC endpoint.  \n",
    "\n",
    "\n",
    "First, we’ll use [intake-esm](https://intake-esm.readthedocs.io/en/stable/) to:\n",
    "\n",
    "Subset by our chosen search keys:  \n",
    "- project: `mpi-ge`\n",
    "- time_frequency: `mon`\n",
    "- variable: `tas`\n",
    "- time: `'2025-01 to 2100-12'`\n",
    "- experiment: `picontrol`\n"
   ]
  },
  {
   "cell_type": "code",
   "execution_count": null,
   "metadata": {},
   "outputs": [],
   "source": [
    "freva-client databrowser intake-catalogue project=mpi-ge time_frequency=mon variable=tas --time \"2025-01 to 2100-12\" experiment=picontrol"
   ]
  },
  {
   "cell_type": "markdown",
   "metadata": {},
   "source": [
    "We’ll now perform the same operation on a STAC static catalog: download the entire catalog as a ZIP archive so you can share or inspect it offline.\n"
   ]
  },
  {
   "cell_type": "code",
   "execution_count": null,
   "metadata": {},
   "outputs": [],
   "source": [
    "freva-client databrowser stac-catalogue project=mpi-ge time_frequency=mon variable=tas --time \"2025-01 to 2100-12\" experiment=picontrol"
   ]
  },
  {
   "cell_type": "markdown",
   "metadata": {},
   "source": [
    "To complete our explanation about STAC catalog, a **static catalog** is implemented as a set of flat files on a web server or object store (e.g., S3). It exposes the same Item, Catalog, and Collection JSON structure as a dynamic STAC, but without a `/search` endpoint—making it easy to bundle and distribute as a ZIP for disaster recovery or offline use"
   ]
  }
 ],
 "metadata": {
  "kernelspec": {
   "display_name": "DA Workshop (shell)",
   "language": "bash",
   "name": "da-workshop-shell"
  },
  "language_info": {
   "codemirror_mode": "shell",
   "file_extension": ".sh",
   "mimetype": "text/x-sh",
   "name": "bash"
  }
 },
 "nbformat": 4,
 "nbformat_minor": 4
}
