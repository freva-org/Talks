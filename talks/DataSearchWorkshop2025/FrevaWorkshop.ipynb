{
 "cells": [
  {
   "attachments": {},
   "cell_type": "markdown",
   "id": "2a4be1bc-6ca2-46d6-b7e9-9ca0ef7ea0b9",
   "metadata": {
    "editable": true,
    "slideshow": {
     "slide_type": "slide"
    },
    "tags": []
   },
   "source": [
    "<div style=\"display: flex; align-items: center; justify-content: space-between; margin-bottom: 15px;\">\n",
    "    <img src=\"https://www.freva.dkrz.de/static/img/dkrz-logo.png\" style=\"height: 50px;\">\n",
    "    <div style=\"flex: 1;\"></div>\n",
    "    <img src=\"https://www.freva.dkrz.de/static/img/by_freva_transparent.png\" style=\"height: 50px;\">\n",
    "</div>\n",
    "<div style=\"text-align: center; margin-bottom: 20px;\">\n",
    "    <h1 style=\"font-size: 2.5em; margin: 0; font-weight: bold;\">Freva - Data search and analysis framework for the Community</h1>\n",
    "</div>\n",
    "<div style=\"text-align: center;\">\n",
    "    <img src=\"https://freva-org.github.io/Talks/FrevaIntro/Logo.png\" style=\"height: 350px;\">\n",
    "</div>\n"
   ]
  },
  {
   "cell_type": "code",
   "execution_count": 6,
   "id": "aab9c18b-6cd3-49f8-aabe-ba04dfdbd4d2",
   "metadata": {
    "editable": true,
    "slideshow": {
     "slide_type": "skip"
    },
    "tags": []
   },
   "outputs": [],
   "source": [
    "import os\n",
    "import subprocess\n",
    "import sys\n",
    "import shutil\n",
    "\n",
    "def cmd(sub_cmd: str, limit=None, list_limit=None) -> None:\n",
    "    freva_bin = os.path.join(sys.exec_prefix, \"bin\", \"freva-client\")\n",
    "    cmd = f\"{freva_bin} {sub_cmd}\"\n",
    "    env = os.environ.copy()\n",
    "    env[\"FREVA_NO_RICH_PANELS\"] = \"1\"\n",
    "    bash = shutil.which(\"bash\")\n",
    "    result = subprocess.run(cmd, capture_output=True, text=True, shell=True, executable=bash, env=env)\n",
    "    if result.returncode != 0:\n",
    "        print(f\"[ERROR] Command failed:\\n{result.stderr}\")\n",
    "        return\n",
    "    output = result.stdout\n",
    "    if list_limit:\n",
    "        lines = output.splitlines()\n",
    "        processed_lines = []\n",
    "        for line in lines:\n",
    "            if ':' in line and ',' in line:\n",
    "                key, values = line.split(':', 1)\n",
    "                items = values.split(',')[:list_limit]\n",
    "                processed_lines.append(f\"{key}: {', '.join(items).strip()}, ...\")\n",
    "            else:\n",
    "                processed_lines.append(line)\n",
    "        output = '\\n'.join(processed_lines)\n",
    "    if limit:\n",
    "        for nn, line in enumerate(output.splitlines()):\n",
    "            if nn >= limit:\n",
    "                break\n",
    "            print(line)\n",
    "    else:\n",
    "        print(output)"
   ]
  },
  {
   "cell_type": "markdown",
   "id": "ac457db9",
   "metadata": {
    "slideshow": {
     "slide_type": "slide"
    }
   },
   "source": [
    "<div style=\"text-align: center; padding: 20px;\">\n",
    "    <h3>Common Problem: Finding and accesing Data</h3>\n",
    "    <div style=\"display: grid; grid-template-columns: 1fr 2fr 1fr; gap: 30px; align-items: center; margin: 20px 0;\">\n",
    "        <div style=\"text-align: center;\">\n",
    "            <img src=\"./media/study-desperate.gif\" alt=\"Frustrated researcher\">\n",
    "            <div style=\"text-align: left; font-style: italic; color: #666; font: 7x\">\n",
    "                <p>\"I just need 2m-temperature data for my region...\"</p>\n",
    "            </div>\n",
    "        </div>\n",
    "        <div style=\"background: #2c3e50; color: white; padding: 20px; border-radius: 15px; position: relative;\">\n",
    "            <img src=\"https://www.freva.dkrz.de/static/img/dkrz-logo.png\" style=\"height: 60px; filter: brightness(0) invert(1);\" alt=\"DKRZ Logo\">\n",
    "            <div style=\"margin: 15px 0; font-size: 1.0em;\">\n",
    "                <div style=\"margin: 6px 0;\"> /pool/data/ - 7 PB</div>\n",
    "                <div style=\"margin: 6px 0;\">5M+ - CMIP6 data</div>\n",
    "                <div style=\"margin: 6px 0;\"> CORDEX data which are constantly changing</div>\n",
    "                <div style=\"margin: 6px 0;\"> Thousands of variables</div>\n",
    "                <div style=\"margin: 6px 0;\">Multiple data formats</div>\n",
    "                <div style=\"margin: 6px 0;\"> you name ...</div>\n",
    "            </div>\n",
    "            <div style=\"position: absolute; top: -10px; right: -10px; background: #e74c3c; color: white; border-radius: 50%; width: 30px; height: 30px; display: flex; align-items: center; justify-content: center; font-size: 1.2em;\">🔒</div>\n",
    "        </div>\n",
    "        <div style=\"text-align: center;\">\n",
    "            <img src=\"./media/scientist-mad-scientist.gif\" alt=\"Mad scientist\">\n",
    "            <p style=\"font-size: 1.2em; color: #7f8c8d;\">Sound familiar?<br> You're not alone! 🤝</p>\n",
    "        </div>\n",
    "    </div>\n",
    "    <div style=\"background: #fff3cd; border: 1px solid #ffeaa7; padding: 15px; border-radius: 10px; margin-top: 15px;\">\n",
    "        <p style=\"font-size: 1.6em; color: #e74c3c; margin: 0;\"><strong>Why should finding data be this hard?</strong></p>\n",
    "    </div>\n",
    "</div>"
   ]
  },
  {
   "cell_type": "markdown",
   "id": "b6244618",
   "metadata": {
    "slideshow": {
     "slide_type": "slide"
    }
   },
   "source": [
    "<div style=\"color: #2d3436; padding: 20px; position: relative; background: white;\">\n",
    "    <h2 style=\"text-align: center; color: #2d3436; margin-bottom: 20px;\">Yet another solution: The Freva framework</h2>\n",
    "    <div style=\"display: flex; align-items: flex-start; justify-content: space-between; margin: 20px 0; position: relative;\">\n",
    "        <!-- Researchers -->\n",
    "        <div style=\"text-align: center; flex: 1;\">\n",
    "            <div style=\"font-size: 3em; margin-bottom: 10px;\"><img src=\"./media/famous_scietist.png\"></div>\n",
    "            <h4 style=\"margin: 0; color: #2d3436;\">Researchers</h4>\n",
    "            <p style=\"margin: 5px 0 0 0; color: #636e72;\">Need to search </p>\n",
    "            <p style=\"margin: 5px 0 0 0; color: #636e72;\">and access data</p>\n",
    "        </div>\n",
    "        <!-- Bridge -->\n",
    "        <div style=\"flex: 2; text-align: center; position: relative;\">\n",
    "            <div style=\"position: relative; margin: -20px 0 10px 0;\">\n",
    "                <img src=\"./media/bridege_white_back.png\" style=\"width: 100%; height: auto; max-width: 400px;\">\n",
    "            </div>\n",
    "            <!-- Freva logo -->\n",
    "            <div style=\"position: relative; margin: 10px auto; margin-top:0px; width: fit-content; z-index: 1;\">\n",
    "                <div style=\"background: linear-gradient(45deg, #ff7675, #fd79a8); padding: 20px; border-radius: 15px; box-shadow: 0 8px 32px rgba(0,0,0,0.1); transform: rotate(-5deg);\">\n",
    "                    <img src=\"https://www.freva.dkrz.de/static/img/by_freva_transparent.png\" style=\"height: 60px; transform: rotate(5deg);\">\n",
    "                </div>\n",
    "                <!-- Feature bubbles extending from the main body -->\n",
    "                <div style=\"position: absolute; top: -15px; left: -25px; background: #00cec9; color: white; padding: 8px 12px; border-radius: 15px; font-size: 0.7em; font-weight: bold; transform: rotate(-20deg); box-shadow: 0 4px 8px rgba(0,0,0,0.2);\">\n",
    "                    Central<br><span style=\"font-size: 0.6em; opacity: 0.9;\">One stop shop</span>\n",
    "                </div>\n",
    "                <div style=\"position: absolute; top: -15px; right: -25px; background: #fd79a8; color: white; padding: 8px 12px; border-radius: 15px; font-size: 0.7em; font-weight: bold; transform: rotate(20deg); box-shadow: 0 4px 8px rgba(0,0,0,0.2);\">\n",
    "                    Flexible<br><span style=\"font-size: 0.6em; opacity: 0.9;\">Adapts to you</span>\n",
    "                </div>\n",
    "                <div style=\"position: absolute; bottom: -15px; left: -25px; background: #fdcb6e; color: white; padding: 8px 12px; border-radius: 15px; font-size: 0.7em; font-weight: bold; transform: rotate(15deg); box-shadow: 0 4px 8px rgba(0,0,0,0.2);\">\n",
    "                    Intuitive<br><span style=\"font-size: 0.6em; opacity: 0.9;\">Easy to use</span>\n",
    "                </div>\n",
    "                <div style=\"position: absolute; bottom: -15px; right: -25px; background: #a29bfe; color: white; padding: 8px 12px; border-radius: 15px; font-size: 0.7em; font-weight: bold; transform: rotate(-15deg); box-shadow: 0 4px 8px rgba(0,0,0,0.2);\">\n",
    "                    Transparent<br><span style=\"font-size: 0.6em; opacity: 0.9;\">Clear process</span>\n",
    "                </div>\n",
    "            </div>\n",
    "        </div>\n",
    "        <!-- DKRZ lgoo -->\n",
    "        <div style=\"background: #2c3e50; color: white; padding: 20px; border-radius: 15px; position: relative; margin-top: 30px;\">\n",
    "            <img src=\"https://www.freva.dkrz.de/static/img/dkrz-logo.png\" style=\"height: 60px; filter: brightness(0) invert(1);\">\n",
    "            <div style=\"margin-top: 10px; font-size: 0.9em;\">DATA UNLOCKED!</div>\n",
    "            <div style=\"position: absolute; top: -10px; right: -10px; background: #00b894; color: white; border-radius: 50%; width: 30px; height: 30px; display: flex; align-items: center; justify-content: center; font-size: 1.2em;\">🔓</div>\n",
    "        </div>\n",
    "    </div>\n",
    "    <div style=\"margin-top: 15px; background: #f8f9fa; padding: 15px; border-radius: 10px; text-align: center;\">\n",
    "        <h3 style=\"color: #2d3436; margin: 0 0 15px 0; display: inline-block;\">Perfect for Every Research Task:</h3>\n",
    "        <div style=\"display: inline-flex; gap: 40px; justify-content: center; margin-left: 20px;\">\n",
    "            <div>I) <strong>Search</strong></div>\n",
    "            <div>II) <strong>Access</strong></div>\n",
    "            <div>III) <strong>Analyze</strong></div>\n",
    "        </div>\n",
    "    </div>\n",
    "</div>"
   ]
  },
  {
   "cell_type": "markdown",
   "id": "799093d5",
   "metadata": {
    "slideshow": {
     "slide_type": "slide"
    }
   },
   "source": [
    "<div style=\"text-align: center; padding: 25px;\">\n",
    "    <h2 style=\"color: #2d3436; margin-bottom: 25px; font-size: 1.6em;\">Why Choose Freva?</h2>\n",
    "    <!-- Timeline -->\n",
    "    <div style=\"position: relative; margin: 35px 0; height: 110px;\">\n",
    "        <!-- Timeline line -->\n",
    "        <div style=\"position: absolute; top: 32px; left: 10%; right: 10%; height: 3px; background: linear-gradient(to right, #00cec9, #fd79a8); border-radius: 2px;\"></div>\n",
    "        <!-- Birth -->\n",
    "        <div style=\"position: absolute; left: 10%; top: 0; transform: translateX(-50%);\">\n",
    "            <div style=\"background: white; border: 3px solid #00cec9; border-radius: 50%; width: 65px; height: 65px; display: flex; align-items: center; justify-content: center; font-size: 1.6em; box-shadow: 0 3px 8px rgba(0,0,0,0.1);\">🐣</div>\n",
    "            <div style=\"margin-top: 8px; font-weight: bold; color: #00cec9; text-align: center; font-size: 0.9em;\">2012</div>\n",
    "            <div style=\"font-size: 0.7em; color: #636e72; text-align: center; line-height: 1.1;\">Born for<br>Modellers</div>\n",
    "        </div>\n",
    "        <!-- Secure -->\n",
    "        <div style=\"position: absolute; left: 35%; top: 0; transform: translateX(-50%);\">\n",
    "            <div style=\"background: white; border: 3px solid #fdcb6e; border-radius: 50%; width: 65px; height: 65px; display: flex; align-items: center; justify-content: center; font-size: 1.6em; box-shadow: 0 3px 8px rgba(0,0,0,0.1);\">🔒</div>\n",
    "            <div style=\"margin-top: 8px; font-weight: bold; color: #fdcb6e; text-align: center; font-size: 0.9em;\">Secure</div>\n",
    "            <div style=\"font-size: 0.7em; color: #636e72; text-align: center; line-height: 1.1;\">Enterprise<br>Grade</div>\n",
    "        </div>\n",
    "        <!-- Plays Nice -->\n",
    "        <div style=\"position: absolute; left: 65%; top: 0; transform: translateX(-50%);\">\n",
    "            <div style=\"background: white; border: 3px solid #a29bfe; border-radius: 50%; width: 65px; height: 65px; display: flex; align-items: center; justify-content: center; font-size: 1.6em; box-shadow: 0 3px 8px rgba(0,0,0,0.1);\">🤝</div>\n",
    "            <div style=\"margin-top: 8px; font-weight: bold; color: #a29bfe; text-align: center; font-size: 0.9em;\">Plays Nice</div>\n",
    "            <div style=\"font-size: 0.7em; color: #636e72; text-align: center; line-height: 1.1;\">Works with<br>Other Tools</div>\n",
    "        </div>\n",
    "        <!-- Complete -->\n",
    "        <div style=\"position: absolute; right: 10%; top: 0; transform: translateX(50%);\">\n",
    "            <div style=\"background: white; border: 3px solid #fd79a8; border-radius: 50%; width: 65px; height: 65px; display: flex; align-items: center; justify-content: center; font-size: 1.6em; box-shadow: 0 3px 8px rgba(0,0,0,0.1);\">👑</div>\n",
    "            <div style=\"margin-top: 8px; font-weight: bold; color: #fd79a8; text-align: center; font-size: 0.9em;\">2025</div>\n",
    "            <div style=\"font-size: 0.7em; color: #636e72; text-align: center; line-height: 1.1;\">Most Complete<br>Metadata Store</div>\n",
    "        </div>\n",
    "    </div>\n",
    "    <!-- Architecture -->\n",
    "    <div style=\"margin-top: 20px; background: white; padding: 15px; border-radius: 12px; box-shadow: 0 4px 16px rgba(0,0,0,0.1);\">\n",
    "        <h3 style=\"color: #2d3436; margin-bottom: 12px; font-size: 1.1em;\">Smart Architecture:</h3>\n",
    "        <div style=\"display: flex; align-items: center; justify-content: space-between; gap: 80px; padding: 0 40px;\">\n",
    "            <!-- Client -->\n",
    "            <div style=\"text-align: center;\">\n",
    "                <div style=\"color: #74b9ff; padding: 20px; border: 3px solid #74b9ff; border-radius: 15px; font-size: 1.5em; width: 140px; height: 140px; display: flex; align-items: center; justify-content: center; margin: 0 auto; background: transparent;\">\n",
    "                    <img src=\"./media/simple_client.png\" style=\"width: 120px; height: 120px; object-fit: contain;\">\n",
    "                </div>\n",
    "                <div style=\"margin-top: 10px; font-weight: bold; color: #74b9ff; font-size: 1em;\">Simple Client</div>\n",
    "                <div style=\"font-size: 0.8em; color: #636e72;\">Easy for You</div>\n",
    "            </div>\n",
    "            <!-- REQUEST/RESPONSE Flow -->\n",
    "            <div style=\"position: relative; display: flex; align-items: center; flex-direction: column; gap: 15px;\">\n",
    "                <!-- REQUEST -->\n",
    "                <div style=\"display: flex; align-items: center; gap: 8px;\">\n",
    "                    <span style=\"font-size: 0.9em; color: #00cec9; font-weight: bold; letter-spacing: 1px;\">REQUEST</span>\n",
    "                    <div style=\"width: 80px; height: 3px; background: #00cec9; position: relative;\">\n",
    "                        <div style=\"position: absolute; right: -8px; top: -4px; width: 0; height: 0; border-left: 8px solid #00cec9; border-top: 5px solid transparent; border-bottom: 5px solid transparent;\"></div>\n",
    "                    </div>\n",
    "                </div>\n",
    "                <!-- RESPONSE -->\n",
    "                <div style=\"display: flex; align-items: center; gap: 8px;\">\n",
    "                    <div style=\"width: 80px; height: 3px; background: #fd79a8; position: relative;\">\n",
    "                        <div style=\"position: absolute; left: -8px; top: -4px; width: 0; height: 0; border-right: 8px solid #fd79a8; border-top: 5px solid transparent; border-bottom: 5px solid transparent;\"></div>\n",
    "                    </div>\n",
    "                    <span style=\"font-size: 0.9em; color: #fd79a8; font-weight: bold; letter-spacing: 1px;\">RESPONSE</span>\n",
    "                </div>\n",
    "            </div>\n",
    "            <style>\n",
    "                @keyframes requestFlow {\n",
    "                    0% { left: -30px; opacity: 0; }\n",
    "                    20% { opacity: 1; }\n",
    "                    80% { opacity: 1; }\n",
    "                    100% { left: 90px; opacity: 0; }\n",
    "                }\n",
    "                @keyframes responseFlow {\n",
    "                    0% { right: -30px; opacity: 0; }\n",
    "                    20% { opacity: 1; }\n",
    "                    80% { opacity: 1; }\n",
    "                    100% { right: 90px; opacity: 0; }\n",
    "                }\n",
    "            </style>\n",
    "            <!-- Server -->\n",
    "            <div style=\"text-align: center;\">\n",
    "                <div style=\"color: #fd79a8; padding: 20px; border: 3px solid #fd79a8; border-radius: 15px; font-size: 1.5em; width: 140px; height: 140px; display: flex; align-items: center; justify-content: center; margin: 0 auto; background: transparent;\">\n",
    "                    <img src=\"./media/smart_server.png\" style=\"width: 120px; height: 120px; object-fit: contain;\">\n",
    "                </div>\n",
    "                <div style=\"margin-top: 10px; font-weight: bold; color: #fd79a8; font-size: 1em;\">Powerful Server</div>\n",
    "                <div style=\"font-size: 0.8em; color: #636e72;\">Handles Complexity</div>\n",
    "            </div>\n",
    "        </div>\n",
    "    </div>\n",
    "</div>"
   ]
  },
  {
   "cell_type": "markdown",
   "id": "33a58f32-43d1-4fd9-ab44-37910103dcfb",
   "metadata": {
    "editable": true,
    "slideshow": {
     "slide_type": "subslide"
    },
    "tags": []
   },
   "source": [
    "<div style=\"padding: 40px; font-family: Arial, sans-serif; color: white; border-radius: 12px;\">\n",
    "    <h1 style=\"color: black; margin-bottom: 50px; font-size: 2.5em; font-weight: normal; text-align: left;\">Excurse: How does it work?</h1>\n",
    "    <div style=\"position: relative; width: 700px; height: 400px; margin: 0 auto;\">\n",
    "        <div style=\"position: absolute; left: 50px; top: 150px; width: 200px; height: 120px; background: #f1c40f; border-radius: 12px; display: flex; align-items: center; justify-content: center; box-shadow: 0 4px 12px rgba(0,0,0,0.3);\">\n",
    "            <div style=\"text-align: center; color: #2c3e50; font-weight: bold; font-size: 1.3em;\">Freva Server</div>\n",
    "        </div>\n",
    "        <div style=\"position: absolute; right: 50px; top: 50px; width: 180px; height: 110px; background: #bdc3c7; border-radius: 12px; display: flex; flex-direction: column; align-items: center; justify-content: center; box-shadow: 0 4px 12px rgba(0,0,0,0.3); cursor: pointer;\">\n",
    "            <div style=\"color: #2c3e50; font-weight: bold; margin-bottom: 5px; font-size: 1.1em;\">Client Lib:</div>\n",
    "            <div style=\"color: #2c3e50; font-size: 0.8em;\">freva-client</div>\n",
    "            <div style=\"color: #7f8c8d; font-size: 0.8em; margin-top: 5px; text-decoration: underline; cursor: pointer;\" onclick=\"window.open('https://anaconda.org/conda-forge/freva-client', '_blank')\">conda-forge</div>\n",
    "            <div style=\"color: #7f8c8d; font-size: 0.8em; margin-top: 5px; text-decoration: underline; cursor: pointer;\" onclick=\"window.open('https://pypi.org/project/freva-client/', '_blank')\">pypi</div>\n",
    "        </div>\n",
    "        <div style=\"position: absolute; right: 50px; bottom: 50px; width: 180px; height: 110px; background: #9b59b6; border-radius: 12px; display: flex; flex-direction: column; align-items: center; justify-content: center; box-shadow: 0 4px 12px rgba(0,0,0,0.3); cursor: pointer;\" onclick=\"window.open('https://www.gems.dkrz.de/databrowser/', '_blank')\">\n",
    "            <div style=\"color: white; font-weight: bold; margin-bottom: 5px; font-size: 1.1em;\">Web page:</div>\n",
    "            <div style=\"color: white; font-size: 1em;\">freva-web</div>\n",
    "            <div style=\"color: #ecf0f1; font-size: 0.8em; margin-top: 5px; text-decoration: underline;\"> Visit Site</div>\n",
    "        </div>\n",
    "        <svg style=\"position: absolute; top: 0; left: 0; width: 100%; height: 100%; pointer-events: none; z-index: 1;\">\n",
    "            <defs>\n",
    "                <marker id=\"arrowhead\" markerWidth=\"10\" markerHeight=\"7\" refX=\"9\" refY=\"3.5\" orient=\"auto\">\n",
    "                    <polygon points=\"0 0, 10 3.5, 0 7\" fill=\"black\" />\n",
    "                </marker>\n",
    "            </defs>\n",
    "            <line x1=\"250\" y1=\"190\" x2=\"420\" y2=\"130\" stroke=\"black\" stroke-width=\"3\" marker-end=\"url(#arrowhead)\" />\n",
    "            <line x1=\"250\" y1=\"230\" x2=\"420\" y2=\"300\" stroke=\"black\" stroke-width=\"3\" marker-end=\"url(#arrowhead)\" />\n",
    "        </svg>\n",
    "    </div>\n",
    "</div>"
   ]
  },
  {
   "cell_type": "markdown",
   "id": "2e85de3f",
   "metadata": {
    "slideshow": {
     "slide_type": "slide"
    }
   },
   "source": [
    "<div style=\"padding: 30px; font-family: Arial, sans-serif;\">\n",
    "    <h2 style=\"color: #2c3e50; text-align: center; margin-bottom: 30px; font-size: 2em; font-weight: 300;\">Freva Databrowser: Hands-on content table</h2>\n",
    "    <div style=\"display: flex; justify-content: space-between; align-items: stretch; gap: 15px; max-width: 1400px; margin: 0 auto;\">\n",
    "        <div style=\"flex: 1; background: white; padding: 20px; border-radius: 12px; box-shadow: 0 3px 10px rgba(0,0,0,0.1); border-top: 5px solid #95a5a6; text-align: center;\">\n",
    "            <div style=\"background: #95a5a6; color: white; width: 50px; height: 50px; border-radius: 50%; display: flex; align-items: center; justify-content: center; font-weight: bold; margin: 0 auto 15px auto; font-size: 1.5em;\">0</div>\n",
    "            <h3 style=\"color: #2c3e50; margin: 0 0 10px 0; font-size: 1.2em;\">Installation & Authentication</h3>\n",
    "            <p style=\"color: #7f8c8d; margin: 0; font-size: 0.9em; line-height: 1.4;\">Set up FREVA client and authenticate your access</p>\n",
    "        </div>\n",
    "        <div style=\"flex: 1; background: white; padding: 20px; border-radius: 12px; box-shadow: 0 3px 10px rgba(0,0,0,0.1); border-top: 5px solid #3498db; text-align: center;\">\n",
    "            <div style=\"background: #3498db; color: white; width: 50px; height: 50px; border-radius: 50%; display: flex; align-items: center; justify-content: center; font-weight: bold; margin: 0 auto 15px auto; font-size: 1.5em;\">1</div>\n",
    "            <h3 style=\"color: #2c3e50; margin: 0 0 10px 0; font-size: 1.2em;\">Search\n",
    "            <br>\n",
    "            <span style=\"color: #3498db; font-weight: normal; font-size: 0.8em;\">(Findablity)</span></h3>\n",
    "            <p style=\"color: #7f8c8d; margin: 0; font-size: 0.9em; line-height: 1.4;\">Find the datasets you need with smart search filters</p>\n",
    "        </div>\n",
    "        <div style=\"flex: 1; background: white; padding: 20px; border-radius: 12px; box-shadow: 0 3px 10px rgba(0,0,0,0.1); border-top: 5px solid #e74c3c; text-align: center;\">\n",
    "            <div style=\"background: #e74c3c; color: white; width: 50px; height: 50px; border-radius: 50%; display: flex; align-items: center; justify-content: center; font-weight: bold; margin: 0 auto 15px auto; font-size: 1.5em;\">2</div>\n",
    "            <h3 style=\"color: #2c3e50; margin: 0 0 10px 0; font-size: 1.2em;\">Cataloging Data\n",
    "            <br>\n",
    "            <span style=\"color: #e74c3c; font-weight: normal; font-size: 0.8em;\">(Reusablity)</span></h3>\n",
    "            <p style=\"color: #7f8c8d; margin: 0; font-size: 0.9em; line-height: 1.4;\">Browse, get and share datasets in structured catalogues</p>\n",
    "        </div>\n",
    "        <div style=\"flex: 1; background: white; padding: 20px; border-radius: 12px; box-shadow: 0 3px 10px rgba(0,0,0,0.1); border-top: 5px solid #f39c12; text-align: center;\">\n",
    "            <div style=\"background: #f39c12; color: white; width: 50px; height: 50px; border-radius: 50%; display: flex; align-items: center; justify-content: center; font-weight: bold; margin: 0 auto 15px auto; font-size: 1.5em;\">3</div>\n",
    "            <h3 style=\"color: #2c3e50; margin: 0 0 10px 0; font-size: 1.2em;\">Access\n",
    "            <br>\n",
    "            <span style=\"color: #f39c12; font-weight: normal; font-size: 0.8em;\">(Accessiblity)</span></h3>\n",
    "            <p style=\"color: #7f8c8d; margin: 0; font-size: 0.9em; line-height: 1.4;\">Retrieve and access the Freva data in your projects</p>\n",
    "        </div>\n",
    "        <div style=\"flex: 1; background: white; padding: 20px; border-radius: 12px; box-shadow: 0 3px 10px rgba(0,0,0,0.1); border-top: 5px solid #27ae60; text-align: center;\">\n",
    "            <div style=\"background: #27ae60; color: white; width: 50px; height: 50px; border-radius: 50%; display: flex; align-items: center; justify-content: center; font-weight: bold; margin: 0 auto 15px auto; font-size: 1.5em;\">4</div>\n",
    "            <h3 style=\"color: #2c3e50; margin: 0 0 10px 0; font-size: 1.2em;\">Customize Dataset\n",
    "            <br>\n",
    "            <span style=\"color: #27ae60; font-weight: normal; font-size: 0.8em;\">(Interoperablity)</span></h3>\n",
    "            <p style=\"color: #7f8c8d; margin: 0; font-size: 0.9em; line-height: 1.4;\">Add/Remove your customized data to/from Freva</p>\n",
    "        </div>\n",
    "    </div>\n",
    "</div>"
   ]
  },
  {
   "cell_type": "markdown",
   "id": "0edee1d3-93ff-486a-a3fe-78237266feea",
   "metadata": {
    "editable": true,
    "slideshow": {
     "slide_type": "slide"
    },
    "tags": []
   },
   "source": [
    "<div style=\"padding: 10px; font-family: Arial, sans-serif; background: linear-gradient(135deg, #95a5a6 0%, #7f8c8d 100%); border-radius: 12px; margin: 20px 0; box-shadow: 0 4px 15px rgba(0,0,0,0.1);\">\n",
    "    <div style=\"display: flex; align-items: center; gap: 20px;\">\n",
    "        <div style=\"background: white; color: #95a5a6; width: 60px; height: 60px; border-radius: 50%; display: flex; align-items: center; justify-content: center; font-weight: bold; font-size: 2em; box-shadow: 0 3px 8px rgba(0,0,0,0.2); flex-shrink: 0;\">0</div>\n",
    "        <div style=\"color: white; text-align: left; flex: 1;\">\n",
    "            <h1 style=\"margin: 0; font-size: 2.5em; font-weight: bold; text-align: left;\">Installation & Authentication</h1>\n",
    "        </div>\n",
    "    </div>\n",
    "</div>\n",
    "\n",
    "## The Client Library\n",
    "\n",
    "| Environment | Installation Command |\n",
    "|-------------|---------------------|\n",
    "| DKRZ/Levante (Recommended) | $ `module load gems`(Terminal) <br> In [1]: `!module load gems`(Jupyterhub) |\n",
    "| Conda (Local) | $ `conda create -n freva-client-env -c conda-forge freva-client -y` |\n",
    "| Python (Local) | `$ python -m venv venv`<br> `$ source venv/bin/activate`<br> `$ pip install freva-client` |\n"
   ]
  },
  {
   "cell_type": "markdown",
   "id": "0adbc894",
   "metadata": {
    "slideshow": {
     "slide_type": "subslide"
    }
   },
   "source": [
    "<div style=\"padding: 10px; font-family: Arial, sans-serif; background: linear-gradient(135deg, #95a5a6 0%, #7f8c8d 100%); border-radius: 12px; margin: 20px 0; box-shadow: 0 4px 15px rgba(0,0,0,0.1);\">\n",
    "    <div style=\"display: flex; align-items: center; gap: 20px;\">\n",
    "        <div style=\"background: white; color: #95a5a6; width: 60px; height: 60px; border-radius: 50%; display: flex; align-items: center; justify-content: center; font-weight: bold; font-size: 2em; box-shadow: 0 3px 8px rgba(0,0,0,0.2); flex-shrink: 0;\">0</div>\n",
    "        <div style=\"color: white; text-align: left; flex: 1;\">\n",
    "            <h1 style=\"margin: 0; font-size: 2.5em; font-weight: bold; text-align: left;\">Installation & Authentication</h1>\n",
    "        </div>\n",
    "    </div>\n",
    "</div>"
   ]
  },
  {
   "cell_type": "markdown",
   "id": "3fb770d3",
   "metadata": {},
   "source": [
    "<img src=\"https://cdn.jsdelivr.net/gh/devicons/devicon/icons/bash/bash-original.svg\" width=\"40\" style=\"display: block; margin: 0; text-align: left;\">"
   ]
  },
  {
   "cell_type": "code",
   "execution_count": 7,
   "id": "88f2bee9",
   "metadata": {
    "slideshow": {
     "slide_type": "fragment"
    }
   },
   "outputs": [
    {
     "name": "stdout",
     "output_type": "stream",
     "text": [
      "freva-client: \u001b[1;36m2508.0\u001b[0m.\u001b[1;36m0\u001b[0m\n"
     ]
    }
   ],
   "source": [
    "!freva-client auth --version"
   ]
  },
  {
   "cell_type": "markdown",
   "id": "320a7147",
   "metadata": {
    "slideshow": {
     "slide_type": "fragment"
    }
   },
   "source": [
    "<img src=\"https://cdn.jsdelivr.net/gh/devicons/devicon/icons/python/python-original.svg\" width=\"40\" style=\"display: block; margin: 0; text-align: left;\">"
   ]
  },
  {
   "cell_type": "code",
   "execution_count": 8,
   "id": "49aea15d",
   "metadata": {
    "slideshow": {
     "slide_type": "fragment"
    }
   },
   "outputs": [
    {
     "name": "stdout",
     "output_type": "stream",
     "text": [
      "2508.0.0\n"
     ]
    }
   ],
   "source": [
    "from freva_client import auth, __version__\n",
    "print(__version__)"
   ]
  },
  {
   "cell_type": "markdown",
   "id": "24e94830",
   "metadata": {
    "slideshow": {
     "slide_type": "subslide"
    }
   },
   "source": [
    "<div style=\"padding: 10px; font-family: Arial, sans-serif; background: linear-gradient(135deg, #95a5a6 0%, #7f8c8d 100%); border-radius: 12px; margin: 20px 0; box-shadow: 0 4px 15px rgba(0,0,0,0.1);\">\n",
    "    <div style=\"display: flex; align-items: center; gap: 20px;\">\n",
    "        <div style=\"background: white; color: #95a5a6; width: 60px; height: 60px; border-radius: 50%; display: flex; align-items: center; justify-content: center; font-weight: bold; font-size: 2em; box-shadow: 0 3px 8px rgba(0,0,0,0.2); flex-shrink: 0;\">0</div>\n",
    "        <div style=\"color: white; text-align: left; flex: 1;\">\n",
    "            <h1 style=\"margin: 0; font-size: 2.5em; font-weight: bold; text-align: left;\">Installation & Authentication</h1>\n",
    "        </div>\n",
    "    </div>\n",
    "</div>"
   ]
  },
  {
   "cell_type": "markdown",
   "id": "8d5473fd",
   "metadata": {
    "slideshow": {
     "slide_type": "fragment"
    }
   },
   "source": [
    "<img src=\"https://cdn.jsdelivr.net/gh/devicons/devicon/icons/bash/bash-original.svg\" width=\"40\" style=\"display: block; margin: 0; text-align: left;\">"
   ]
  },
  {
   "cell_type": "code",
   "execution_count": 10,
   "id": "1bff4283",
   "metadata": {
    "slideshow": {
     "slide_type": "fragment"
    },
    "tags": [
     "hide_input"
    ],
    "vscode": {
     "languageId": "shellscript"
    }
   },
   "outputs": [
    {
     "name": "stdout",
     "output_type": "stream",
     "text": [
      "$ freva-client auth --host https://www.gems.dkrz.de\n"
     ]
    },
    {
     "name": "stdout",
     "output_type": "stream",
     "text": [
      "\n",
      "\u001b[2;36m[2025-08-03T13:09:04]\u001b[0m\u001b[2;36m \u001b[0m\u001b[34mINFO    \u001b[0m freva-client: Opening browser for login:         \n"
     ]
    }
   ],
   "source": [
    "!echo \"$ freva-client auth --host https://www.gems.dkrz.de\"\n",
    "!echo\n",
    "!freva-client auth --force --host https://www.gems.dkrz.de 2> >(sed -u -n '1,1p' >&2)"
   ]
  },
  {
   "cell_type": "markdown",
   "id": "e9b9e47e",
   "metadata": {
    "slideshow": {
     "slide_type": "fragment"
    }
   },
   "source": [
    "<img src=\"https://cdn.jsdelivr.net/gh/devicons/devicon/icons/python/python-original.svg\" width=\"40\" style=\"display: block; margin: 0; text-align: left;\">"
   ]
  },
  {
   "cell_type": "code",
   "execution_count": 11,
   "id": "153f0429",
   "metadata": {
    "slideshow": {
     "slide_type": "fragment"
    }
   },
   "outputs": [],
   "source": [
    "from freva_client import authenticate, databrowser\n",
    "token = authenticate(host=\"https://www.gems.dkrz.de\")"
   ]
  },
  {
   "cell_type": "markdown",
   "id": "8efa8b65",
   "metadata": {
    "slideshow": {
     "slide_type": "fragment"
    }
   },
   "source": [
    "<img src=\"https://cdnjs.cloudflare.com/ajax/libs/bootstrap-icons/1.13.1/icons/globe.svg\" width=\"40\" style=\"display: block; margin: 0; text-align: left;\">"
   ]
  },
  {
   "cell_type": "markdown",
   "id": "d25e1ca4",
   "metadata": {
    "slideshow": {
     "slide_type": "fragment"
    }
   },
   "source": [
    "<video style=\"text-align: left; display: block;\" width=\"400\" height=\"200\" controls>\n",
    "  <source src=\"media/auth_demo_q.mp4\" type=\"video/mp4\">\n",
    "</video>"
   ]
  },
  {
   "cell_type": "markdown",
   "id": "9958932e",
   "metadata": {
    "slideshow": {
     "slide_type": "slide"
    }
   },
   "source": [
    "<div style=\"padding: 10px; font-family: Arial, sans-serif; background: linear-gradient(135deg, #3498db 0%, #2980b9 100%); border-radius: 12px; margin: 20px 0; box-shadow: 0 4px 15px rgba(0,0,0,0.1);\">\n",
    "    <div style=\"display: flex; align-items: center; gap: 20px;\">\n",
    "        <div style=\"background: white; color: #3498db; width: 60px; height: 60px; border-radius: 50%; display: flex; align-items: center; justify-content: center; font-weight: bold; font-size: 2em; box-shadow: 0 3px 8px rgba(0,0,0,0.2); flex-shrink: 0;\">1</div>\n",
    "        <div style=\"color: white; text-align: left; flex: 1;\">\n",
    "            <h1 style=\"margin: 0; font-size: 2.5em; font-weight: bold; text-align: left;\">Search <span style=\"font-size: 0.6em; font-weight: normal;\">(Findablity)</span></h1>\n",
    "        </div>\n",
    "    </div>\n",
    "</div>"
   ]
  },
  {
   "cell_type": "markdown",
   "id": "c6033456",
   "metadata": {
    "slideshow": {
     "slide_type": "fragment"
    }
   },
   "source": [
    "### MPI-GE (Grand Ensemble)"
   ]
  },
  {
   "cell_type": "markdown",
   "id": "3480180a",
   "metadata": {
    "slideshow": {
     "slide_type": "fragment"
    }
   },
   "source": [
    "<img src=\"./media/mpi-ge.png\" style=\"width: 600px; height: 450px;\">"
   ]
  },
  {
   "cell_type": "markdown",
   "id": "661046b0",
   "metadata": {
    "slideshow": {
     "slide_type": "subslide"
    }
   },
   "source": [
    "<div style=\"padding: 10px; font-family: Arial, sans-serif; background: linear-gradient(135deg, #3498db 0%, #2980b9 100%); border-radius: 12px; margin: 20px 0; box-shadow: 0 4px 15px rgba(0,0,0,0.1);\">\n",
    "    <div style=\"display: flex; align-items: center; gap: 20px;\">\n",
    "        <div style=\"background: white; color: #3498db; width: 60px; height: 60px; border-radius: 50%; display: flex; align-items: center; justify-content: center; font-weight: bold; font-size: 2em; box-shadow: 0 3px 8px rgba(0,0,0,0.2); flex-shrink: 0;\">1</div>\n",
    "        <div style=\"color: white; text-align: left; flex: 1;\">\n",
    "            <h1 style=\"margin: 0; font-size: 2.5em; font-weight: bold; text-align: left;\">Search <span style=\"font-size: 0.6em; font-weight: normal;\">(Findablity)</span></h1>\n",
    "        </div>\n",
    "    </div>\n",
    "</div>"
   ]
  },
  {
   "cell_type": "markdown",
   "id": "d44cd4e9",
   "metadata": {
    "slideshow": {
     "slide_type": "fragment"
    }
   },
   "source": [
    "### Metadata overview"
   ]
  },
  {
   "cell_type": "markdown",
   "id": "36e3ff6f",
   "metadata": {
    "slideshow": {
     "slide_type": "fragment"
    }
   },
   "source": [
    "<img src=\"https://cdn.jsdelivr.net/gh/devicons/devicon/icons/bash/bash-original.svg\" width=\"40\" style=\"display: block; margin: 0; text-align: left;\">"
   ]
  },
  {
   "cell_type": "code",
   "execution_count": null,
   "id": "3caff818",
   "metadata": {
    "slideshow": {
     "slide_type": "fragment"
    },
    "vscode": {
     "languageId": "shellscript"
    }
   },
   "outputs": [],
   "source": [
    "$ freva-client databrowser data-overview --host https://www.gems.dkrz.de"
   ]
  },
  {
   "cell_type": "code",
   "execution_count": 80,
   "id": "94021785",
   "metadata": {
    "slideshow": {
     "slide_type": "fragment"
    },
    "tags": [
     "hide_input"
    ],
    "vscode": {
     "languageId": "shellscript"
    }
   },
   "outputs": [
    {
     "name": "stdout",
     "output_type": "stream",
     "text": [
      "Available search flavours:\n",
      "- freva\n",
      "- cmip6\n",
      "- cmip5\n",
      "- cordex\n",
      "- nextgems\n",
      "- user\n",
      "Search attributes by flavour:\n",
      "  cmip5:\n",
      "  - experiment\n",
      "  - member_id\n",
      "  - fs_type\n",
      "  - grid_label\n",
      "  - institution_id\n",
      "  - model_id\n",
      "  - project\n",
      "  - product\n",
      "  - realm\n",
      "  - variable\n",
      "  - time\n",
      "  - bbox\n",
      "  - time_aggregation\n",
      "  - time_frequency\n",
      "  - cmor_table\n",
      "  - dataset\n",
      "  - format\n",
      "  - grid_id\n",
      "  - level_type\n",
      "  cmip6:\n",
      "  - experiment_id\n",
      "  - member_id\n",
      "  - fs_type\n",
      "  - grid_label\n",
      "  - institution_id\n",
      "  - source_id\n",
      "  - mip_era\n",
      "  - activity_id\n",
      "  - realm\n",
      "  - variable_id\n",
      "  - time\n",
      "  - bbox\n",
      "  - time_aggregation\n",
      "  - frequency\n",
      "  - table_id\n",
      "  - dataset\n",
      "  - format\n",
      "  - grid_id\n",
      "  - level_type\n",
      "  cordex:\n",
      "  - experiment\n",
      "  - ensemble\n",
      "  - fs_type\n",
      "  - grid_label\n",
      "  - institution\n",
      "  - model\n",
      "  - project\n",
      "  - domain\n",
      "  - realm\n",
      "  - variable\n",
      "  - time\n",
      "  - bbox\n",
      "  - time_aggregation\n",
      "  - time_frequency\n",
      "  - cmor_table\n",
      "  - dataset\n",
      "  - driving_model\n",
      "  - format\n",
      "  - grid_id\n",
      "  - level_type\n",
      "  - rcm_name\n",
      "  - rcm_version\n",
      "  freva:\n",
      "  - project\n",
      "  - product\n",
      "  - institute\n",
      "  - model\n",
      "  - experiment\n",
      "  - time_frequency\n",
      "  - realm\n",
      "  - variable\n",
      "  - ensemble\n",
      "  - time_aggregation\n",
      "  - fs_type\n",
      "  - grid_label\n",
      "  - cmor_table\n",
      "  - format\n",
      "  - grid_id\n",
      "  - level_type\n",
      "  - dataset\n",
      "  - time\n",
      "  - bbox\n",
      "  - user\n",
      "  nextgems:\n",
      "  - simulation_id\n",
      "  - member_id\n",
      "  - fs_type\n",
      "  - grid_label\n",
      "  - institution_id\n",
      "  - source_id\n",
      "  - project\n",
      "  - experiment_id\n",
      "  - realm\n",
      "  - variable_id\n",
      "  - time\n",
      "  - bbox\n",
      "  - time_reduction\n",
      "  - time_frequency\n",
      "  - cmor_table\n",
      "  - dataset\n",
      "  - format\n",
      "  - grid_id\n",
      "  - level_type\n",
      "  user:\n",
      "  - project\n",
      "  - product\n",
      "  - institute\n",
      "  - model\n",
      "  - experiment\n",
      "  - time_frequency\n",
      "  - realm\n",
      "  - variable\n",
      "  - ensemble\n",
      "  - time_aggregation\n",
      "  - fs_type\n",
      "  - grid_label\n",
      "  - cmor_table\n",
      "  - format\n",
      "  - grid_id\n",
      "  - level_type\n",
      "  - dataset\n",
      "  - time\n",
      "  - bbox\n",
      "  - user\n",
      "\n",
      "\n"
     ]
    }
   ],
   "source": [
    "cmd(\"databrowser data-overview --host https://www.gems.dkrz.de\")"
   ]
  },
  {
   "cell_type": "markdown",
   "id": "dc973c4f",
   "metadata": {
    "slideshow": {
     "slide_type": "subslide"
    }
   },
   "source": [
    "<div style=\"padding: 10px; font-family: Arial, sans-serif; background: linear-gradient(135deg, #3498db 0%, #2980b9 100%); border-radius: 12px; margin: 20px 0; box-shadow: 0 4px 15px rgba(0,0,0,0.1);\">\n",
    "    <div style=\"display: flex; align-items: center; gap: 20px;\">\n",
    "        <div style=\"background: white; color: #3498db; width: 60px; height: 60px; border-radius: 50%; display: flex; align-items: center; justify-content: center; font-weight: bold; font-size: 2em; box-shadow: 0 3px 8px rgba(0,0,0,0.2); flex-shrink: 0;\">1</div>\n",
    "        <div style=\"color: white; text-align: left; flex: 1;\">\n",
    "            <h1 style=\"margin: 0; font-size: 2.5em; font-weight: bold; text-align: left;\">Search <span style=\"font-size: 0.6em; font-weight: normal;\">(Findablity)</span></h1>\n",
    "        </div>\n",
    "    </div>\n",
    "</div>"
   ]
  },
  {
   "cell_type": "markdown",
   "id": "a0c660b0",
   "metadata": {
    "slideshow": {
     "slide_type": "fragment"
    }
   },
   "source": [
    "### Metadata overview"
   ]
  },
  {
   "cell_type": "markdown",
   "id": "16d2cc6d",
   "metadata": {
    "slideshow": {
     "slide_type": "fragment"
    }
   },
   "source": [
    "<img src=\"https://cdn.jsdelivr.net/gh/devicons/devicon/icons/python/python-original.svg\" width=\"40\" style=\"display: block; margin: 0; text-align: left;\">"
   ]
  },
  {
   "cell_type": "code",
   "execution_count": 78,
   "id": "9c1d0793",
   "metadata": {
    "slideshow": {
     "slide_type": "fragment"
    }
   },
   "outputs": [
    {
     "data": {
      "text/plain": [
       "dict_keys(['ensemble', 'experiment', 'institute', 'model', 'product', 'project', 'realm', 'time_aggregation', 'time_frequency', 'variable'])"
      ]
     },
     "execution_count": 78,
     "metadata": {},
     "output_type": "execute_result"
    }
   ],
   "source": [
    "databrowser.metadata_search(host=\"https://www.gems.dkrz.de\").keys()"
   ]
  },
  {
   "cell_type": "markdown",
   "id": "42d88931",
   "metadata": {
    "slideshow": {
     "slide_type": "subslide"
    }
   },
   "source": [
    "<div style=\"padding: 10px; font-family: Arial, sans-serif; background: linear-gradient(135deg, #3498db 0%, #2980b9 100%); border-radius: 12px; margin: 20px 0; box-shadow: 0 4px 15px rgba(0,0,0,0.1);\">\n",
    "    <div style=\"display: flex; align-items: center; gap: 20px;\">\n",
    "        <div style=\"background: white; color: #3498db; width: 60px; height: 60px; border-radius: 50%; display: flex; align-items: center; justify-content: center; font-weight: bold; font-size: 2em; box-shadow: 0 3px 8px rgba(0,0,0,0.2); flex-shrink: 0;\">1</div>\n",
    "        <div style=\"color: white; text-align: left; flex: 1;\">\n",
    "            <h1 style=\"margin: 0; font-size: 2.5em; font-weight: bold; text-align: left;\">Search <span style=\"font-size: 0.6em; font-weight: normal;\">(Findablity)</span></h1>\n",
    "        </div>\n",
    "    </div>\n",
    "</div>"
   ]
  },
  {
   "cell_type": "markdown",
   "id": "07f0b5de",
   "metadata": {
    "slideshow": {
     "slide_type": "fragment"
    }
   },
   "source": [
    "### Search keys Investigation"
   ]
  },
  {
   "cell_type": "markdown",
   "id": "a4e240a9",
   "metadata": {
    "slideshow": {
     "slide_type": "fragment"
    }
   },
   "source": [
    "<img src=\"https://cdn.jsdelivr.net/gh/devicons/devicon/icons/bash/bash-original.svg\" width=\"40\" style=\"display: block; margin: 0; text-align: left;\">"
   ]
  },
  {
   "cell_type": "code",
   "execution_count": null,
   "id": "fbc4b82e",
   "metadata": {
    "slideshow": {
     "slide_type": "fragment"
    },
    "vscode": {
     "languageId": "shellscript"
    }
   },
   "outputs": [],
   "source": [
    "$ freva-client databrowser metadata-search --host https://www.gems.dkrz.de \\\n",
    "--facet mpi-ge --json | jq -rc '.project|join(\", \")'"
   ]
  },
  {
   "cell_type": "code",
   "execution_count": 84,
   "id": "3d3ed450",
   "metadata": {
    "slideshow": {
     "slide_type": "fragment"
    },
    "tags": [
     "hide_input"
    ],
    "vscode": {
     "languageId": "shellscript"
    }
   },
   "outputs": [
    {
     "name": "stdout",
     "output_type": "stream",
     "text": [
      "mpi-ge\n"
     ]
    }
   ],
   "source": [
    "!freva-client databrowser metadata-search --host https://www.gems.dkrz.de --facet mpi-ge --json | jq -rc '.project|join(\", \")'"
   ]
  },
  {
   "cell_type": "code",
   "execution_count": null,
   "id": "35942154",
   "metadata": {
    "slideshow": {
     "slide_type": "fragment"
    },
    "vscode": {
     "languageId": "shellscript"
    }
   },
   "outputs": [],
   "source": [
    "$ freva-client databrowser metadata-search project=mpi-ge --json \\\n",
    "| jq -rc '.variable | index(\"tas\") != null'"
   ]
  },
  {
   "cell_type": "code",
   "execution_count": 87,
   "id": "ab342050",
   "metadata": {
    "slideshow": {
     "slide_type": "fragment"
    },
    "tags": [
     "hide_input"
    ],
    "vscode": {
     "languageId": "shellscript"
    }
   },
   "outputs": [
    {
     "name": "stdout",
     "output_type": "stream",
     "text": [
      "\u001b[0;39mtrue\u001b[0m\n"
     ]
    }
   ],
   "source": [
    "!freva-client databrowser metadata-search project=mpi-ge --json --host https://www.gems.dkrz.de | jq -rc '.variable | index(\"tas\") != null'"
   ]
  },
  {
   "cell_type": "markdown",
   "id": "9da434f8",
   "metadata": {
    "slideshow": {
     "slide_type": "subslide"
    }
   },
   "source": [
    "<div style=\"padding: 10px; font-family: Arial, sans-serif; background: linear-gradient(135deg, #3498db 0%, #2980b9 100%); border-radius: 12px; margin: 20px 0; box-shadow: 0 4px 15px rgba(0,0,0,0.1);\">\n",
    "    <div style=\"display: flex; align-items: center; gap: 20px;\">\n",
    "        <div style=\"background: white; color: #3498db; width: 60px; height: 60px; border-radius: 50%; display: flex; align-items: center; justify-content: center; font-weight: bold; font-size: 2em; box-shadow: 0 3px 8px rgba(0,0,0,0.2); flex-shrink: 0;\">1</div>\n",
    "        <div style=\"color: white; text-align: left; flex: 1;\">\n",
    "            <h1 style=\"margin: 0; font-size: 2.5em; font-weight: bold; text-align: left;\">Search <span style=\"font-size: 0.6em; font-weight: normal;\">(Findablity)</span></h1>\n",
    "        </div>\n",
    "    </div>\n",
    "</div>"
   ]
  },
  {
   "cell_type": "markdown",
   "id": "0cb708ee",
   "metadata": {
    "slideshow": {
     "slide_type": "fragment"
    }
   },
   "source": [
    "### Search keys Investigation"
   ]
  },
  {
   "cell_type": "markdown",
   "id": "a8747c1c",
   "metadata": {
    "slideshow": {
     "slide_type": "fragment"
    }
   },
   "source": [
    "<img src=\"https://cdn.jsdelivr.net/gh/devicons/devicon/icons/python/python-original.svg\" width=\"40\" style=\"display: block; margin: 0; text-align: left;\">"
   ]
  },
  {
   "cell_type": "code",
   "execution_count": 81,
   "id": "09b7340d",
   "metadata": {
    "slideshow": {
     "slide_type": "fragment"
    }
   },
   "outputs": [
    {
     "data": {
      "text/plain": [
       "['mpi-ge']"
      ]
     },
     "execution_count": 81,
     "metadata": {},
     "output_type": "execute_result"
    }
   ],
   "source": [
    "databrowser.metadata_search(\"mpi-ge\", host=\"https://www.gems.dkrz.de\")[\"project\"]"
   ]
  },
  {
   "cell_type": "code",
   "execution_count": 83,
   "id": "112e4a60",
   "metadata": {
    "slideshow": {
     "slide_type": "fragment"
    }
   },
   "outputs": [
    {
     "data": {
      "text/plain": [
       "True"
      ]
     },
     "execution_count": 83,
     "metadata": {},
     "output_type": "execute_result"
    }
   ],
   "source": [
    "\"tas\" in databrowser.metadata_search(\"mpi-ge\", host=\"https://www.gems.dkrz.de\")[\"variable\"]"
   ]
  },
  {
   "cell_type": "markdown",
   "id": "c9ff125c",
   "metadata": {
    "slideshow": {
     "slide_type": "subslide"
    }
   },
   "source": [
    "<div style=\"padding: 10px; font-family: Arial, sans-serif; background: linear-gradient(135deg, #3498db 0%, #2980b9 100%); border-radius: 12px; margin: 20px 0; box-shadow: 0 4px 15px rgba(0,0,0,0.1);\">\n",
    "    <div style=\"display: flex; align-items: center; gap: 20px;\">\n",
    "        <div style=\"background: white; color: #3498db; width: 60px; height: 60px; border-radius: 50%; display: flex; align-items: center; justify-content: center; font-weight: bold; font-size: 2em; box-shadow: 0 3px 8px rgba(0,0,0,0.2); flex-shrink: 0;\">1</div>\n",
    "        <div style=\"color: white; text-align: left; flex: 1;\">\n",
    "            <h1 style=\"margin: 0; font-size: 2.5em; font-weight: bold; text-align: left;\">Search <span style=\"font-size: 0.6em; font-weight: normal;\">(Findablity)</span></h1>\n",
    "        </div>\n",
    "    </div>\n",
    "</div>"
   ]
  },
  {
   "cell_type": "markdown",
   "id": "2a74d94f",
   "metadata": {
    "slideshow": {
     "slide_type": "fragment"
    }
   },
   "source": [
    "### Access Metadata"
   ]
  },
  {
   "cell_type": "markdown",
   "id": "85833d78",
   "metadata": {
    "slideshow": {
     "slide_type": "fragment"
    }
   },
   "source": [
    "<img src=\"https://cdn.jsdelivr.net/gh/devicons/devicon/icons/bash/bash-original.svg\" width=\"40\" style=\"display: block; margin: 0; text-align: left;\">"
   ]
  },
  {
   "cell_type": "code",
   "execution_count": null,
   "id": "71df60e3",
   "metadata": {
    "slideshow": {
     "slide_type": "fragment"
    },
    "vscode": {
     "languageId": "shellscript"
    }
   },
   "outputs": [],
   "source": [
    "$ freva-client databrowser metadata-search --host www.gems.dkrz.de --flavour cmip6 \\\n",
    "mip_era=mpi-ge variable_id=tas"
   ]
  },
  {
   "cell_type": "code",
   "execution_count": 92,
   "id": "4a39200c",
   "metadata": {
    "slideshow": {
     "slide_type": "fragment"
    },
    "tags": [
     "hide_input"
    ]
   },
   "outputs": [
    {
     "name": "stdout",
     "output_type": "stream",
     "text": [
      "member_id: r001i1850p3,  r001i2005p3,  r002i1850p3, ...\n",
      "experiment_id: 1pctco2,  historical,  picontrol, ...\n",
      "institution_id: mpi-m\n",
      "source_id: mpi-esm\n",
      "activity_id: output1\n",
      "mip_era: mpi-ge\n",
      "realm: atmos,  land, ...\n",
      "time_aggregation: mean\n",
      "frequency: mon\n",
      "variable_id: tas\n"
     ]
    }
   ],
   "source": [
    "cmd(\"databrowser metadata-search --host www.gems.dkrz.de --flavour cmip6 mip_era=mpi-ge variable_id=tas\", limit=10, list_limit=3)\n"
   ]
  },
  {
   "cell_type": "markdown",
   "id": "6d6973c8",
   "metadata": {
    "slideshow": {
     "slide_type": "subslide"
    }
   },
   "source": [
    "<div style=\"padding: 10px; font-family: Arial, sans-serif; background: linear-gradient(135deg, #3498db 0%, #2980b9 100%); border-radius: 12px; margin: 20px 0; box-shadow: 0 4px 15px rgba(0,0,0,0.1);\">\n",
    "    <div style=\"display: flex; align-items: center; gap: 20px;\">\n",
    "        <div style=\"background: white; color: #3498db; width: 60px; height: 60px; border-radius: 50%; display: flex; align-items: center; justify-content: center; font-weight: bold; font-size: 2em; box-shadow: 0 3px 8px rgba(0,0,0,0.2); flex-shrink: 0;\">1</div>\n",
    "        <div style=\"color: white; text-align: left; flex: 1;\">\n",
    "            <h1 style=\"margin: 0; font-size: 2.5em; font-weight: bold; text-align: left;\">Search <span style=\"font-size: 0.6em; font-weight: normal;\">(Findablity)</span></h1>\n",
    "        </div>\n",
    "    </div>\n",
    "</div>"
   ]
  },
  {
   "cell_type": "markdown",
   "id": "5ad22251",
   "metadata": {
    "slideshow": {
     "slide_type": "fragment"
    }
   },
   "source": [
    "### Access Metadata"
   ]
  },
  {
   "cell_type": "markdown",
   "id": "740ff535",
   "metadata": {},
   "source": [
    "<img src=\"https://cdn.jsdelivr.net/gh/devicons/devicon/icons/python/python-original.svg\" width=\"40\" style=\"display: block; margin: 0; text-align: left;\">"
   ]
  },
  {
   "cell_type": "code",
   "execution_count": 93,
   "id": "1041c6f2",
   "metadata": {
    "slideshow": {
     "slide_type": "fragment"
    }
   },
   "outputs": [
    {
     "data": {
      "text/html": [
       "<table><tr><th colspan='2' style=\"text-align: left\">databrowser(flavour=cmip6, host=https://www.gems.dkrz.de/api/freva-nextgen/databrowser, multi_version=False, mip_era=mpi-ge, variable_id=tas)</th></tr><tr><td><b># objects</b></td><td style=\"text-align: left\">921</td></tr><tr><td valign='top'><b>Available search facets for <em>cmip6</em> flavour</b></td><td style=\"text-align: left\">experiment_id, member_id, fs_type, grid_label, institution_id, source_id, mip_era, activity_id, realm, variable_id, time, bbox, time_aggregation, frequency, table_id, dataset, format, grid_id, level_type</td></tr><tr><td valign='top'><b>Available flavours</b></td><td style=\"text-align: left\">freva, cmip6, cmip5, cordex, nextgems, user</td></tr></table>"
      ],
      "text/plain": [
       "databrowser(flavour=cmip6, host=https://www.gems.dkrz.de/api/freva-nextgen/databrowser, multi_version=False, mip_era=mpi-ge, variable_id=tas)"
      ]
     },
     "execution_count": 93,
     "metadata": {},
     "output_type": "execute_result"
    }
   ],
   "source": [
    "from freva_client import databrowser\n",
    "db = databrowser(host=\"https://www.gems.dkrz.de\",\n",
    "                 flavour=\"cmip6\",\n",
    "                 mip_era=\"mpi-ge\", variable_id=\"tas\")\n",
    "db"
   ]
  },
  {
   "cell_type": "markdown",
   "id": "a9920235",
   "metadata": {
    "slideshow": {
     "slide_type": "subslide"
    }
   },
   "source": [
    "<div style=\"padding: 10px; font-family: Arial, sans-serif; background: linear-gradient(135deg, #3498db 0%, #2980b9 100%); border-radius: 12px; margin: 20px 0; box-shadow: 0 4px 15px rgba(0,0,0,0.1);\">\n",
    "    <div style=\"display: flex; align-items: center; gap: 20px;\">\n",
    "        <div style=\"background: white; color: #3498db; width: 60px; height: 60px; border-radius: 50%; display: flex; align-items: center; justify-content: center; font-weight: bold; font-size: 2em; box-shadow: 0 3px 8px rgba(0,0,0,0.2); flex-shrink: 0;\">1</div>\n",
    "        <div style=\"color: white; text-align: left; flex: 1;\">\n",
    "            <h1 style=\"margin: 0; font-size: 2.5em; font-weight: bold; text-align: left;\">Search <span style=\"font-size: 0.6em; font-weight: normal;\">(Findablity)</span></h1>\n",
    "        </div>\n",
    "    </div>\n",
    "</div>"
   ]
  },
  {
   "cell_type": "markdown",
   "id": "003beb86",
   "metadata": {},
   "source": [
    "<img src=\"https://cdnjs.cloudflare.com/ajax/libs/bootstrap-icons/1.13.1/icons/globe.svg\" width=\"40\" style=\"display: block; margin: 0; text-align: left;\">"
   ]
  },
  {
   "cell_type": "markdown",
   "id": "0a30c16d",
   "metadata": {
    "slideshow": {
     "slide_type": "fragment"
    }
   },
   "source": [
    "<video style=\"text-align: left; display: block;\" width=\"800\" controls>\n",
    "  <source src=\"media/mpi-mg_q.mp4\" type=\"video/mp4\">\n",
    "</video>"
   ]
  },
  {
   "cell_type": "markdown",
   "id": "ad8d6cb4",
   "metadata": {
    "slideshow": {
     "slide_type": "subslide"
    }
   },
   "source": [
    "<div style=\"padding: 10px; font-family: Arial, sans-serif; background: linear-gradient(135deg, #3498db 0%, #2980b9 100%); border-radius: 12px; margin: 20px 0; box-shadow: 0 4px 15px rgba(0,0,0,0.1);\">\n",
    "    <div style=\"display: flex; align-items: center; gap: 20px;\">\n",
    "        <div style=\"background: white; color: #3498db; width: 60px; height: 60px; border-radius: 50%; display: flex; align-items: center; justify-content: center; font-weight: bold; font-size: 2em; box-shadow: 0 3px 8px rgba(0,0,0,0.2); flex-shrink: 0;\">1</div>\n",
    "        <div style=\"color: white; text-align: left; flex: 1;\">\n",
    "            <h1 style=\"margin: 0; font-size: 2.5em; font-weight: bold; text-align: left;\">Search <span style=\"font-size: 0.6em; font-weight: normal;\">(Findablity)</span></h1>\n",
    "        </div>\n",
    "    </div>\n",
    "</div>"
   ]
  },
  {
   "cell_type": "markdown",
   "id": "3ea72070-2fea-496c-8a48-e591aa70fa8e",
   "metadata": {
    "editable": true,
    "slideshow": {
     "slide_type": "fragment"
    },
    "tags": []
   },
   "source": [
    "### Counting the number of datasets"
   ]
  },
  {
   "cell_type": "markdown",
   "id": "394c11f3",
   "metadata": {
    "slideshow": {
     "slide_type": "fragment"
    }
   },
   "source": [
    "<img src=\"https://cdn.jsdelivr.net/gh/devicons/devicon/icons/bash/bash-original.svg\" width=\"40\" style=\"display: block; margin: 0; text-align: left;\">"
   ]
  },
  {
   "cell_type": "code",
   "execution_count": null,
   "id": "2cf501c5",
   "metadata": {
    "slideshow": {
     "slide_type": "fragment"
    },
    "vscode": {
     "languageId": "shellscript"
    }
   },
   "outputs": [],
   "source": [
    "$ freva-client databrowser metadata-search  --host www.gems.dkrz.de \\\n",
    "--flavour cmip6 mip_era=mpi-ge variable_id=tas --json \\\n",
    "|  /run/current-system/sw/bin/jq -c .frequency"
   ]
  },
  {
   "cell_type": "code",
   "execution_count": 97,
   "id": "5b6c3e13-7c09-4cf3-a7f4-fe9261169f31",
   "metadata": {
    "editable": true,
    "slideshow": {
     "slide_type": "fragment"
    },
    "tags": [
     "hide_input"
    ]
   },
   "outputs": [
    {
     "name": "stdout",
     "output_type": "stream",
     "text": [
      "[\"mon\"]\n",
      "\n"
     ]
    }
   ],
   "source": [
    "cmd(\"databrowser metadata-search  --host https://www.gems.dkrz.de --flavour cmip6 variable_id=tas mip_era=mpi-ge --json |  jq -c .frequency\")"
   ]
  },
  {
   "cell_type": "code",
   "execution_count": null,
   "id": "a4441ecf",
   "metadata": {
    "slideshow": {
     "slide_type": "fragment"
    },
    "vscode": {
     "languageId": "shellscript"
    }
   },
   "outputs": [],
   "source": [
    "$ freva-client databrowser data-count  --host www.gems.dkrz.de --flavour cmip6 \\\n",
    "mip_era=mpi-ge frequency=mon variable_id=pr variable_id=tas \\\n",
    "time='2025-01 to 2100-12'"
   ]
  },
  {
   "cell_type": "code",
   "execution_count": 100,
   "id": "27dd6458-18cb-4d35-bb48-f721018e4c67",
   "metadata": {
    "editable": true,
    "slideshow": {
     "slide_type": "fragment"
    },
    "tags": [
     "hide_input"
    ]
   },
   "outputs": [
    {
     "name": "stdout",
     "output_type": "stream",
     "text": [
      "602\n",
      "\n"
     ]
    }
   ],
   "source": [
    "cmd(\"databrowser data-count  --host www.gems.dkrz.de --flavour cmip6 mip_era=mpi-ge frequency=mon variable_id=tas time='2025-01 to 2100-12'\")"
   ]
  },
  {
   "cell_type": "markdown",
   "id": "37b4ee91",
   "metadata": {
    "slideshow": {
     "slide_type": "subslide"
    }
   },
   "source": [
    "<div style=\"padding: 10px; font-family: Arial, sans-serif; background: linear-gradient(135deg, #3498db 0%, #2980b9 100%); border-radius: 12px; margin: 20px 0; box-shadow: 0 4px 15px rgba(0,0,0,0.1);\">\n",
    "    <div style=\"display: flex; align-items: center; gap: 20px;\">\n",
    "        <div style=\"background: white; color: #3498db; width: 60px; height: 60px; border-radius: 50%; display: flex; align-items: center; justify-content: center; font-weight: bold; font-size: 2em; box-shadow: 0 3px 8px rgba(0,0,0,0.2); flex-shrink: 0;\">1</div>\n",
    "        <div style=\"color: white; text-align: left; flex: 1;\">\n",
    "            <h1 style=\"margin: 0; font-size: 2.5em; font-weight: bold; text-align: left;\">Search <span style=\"font-size: 0.6em; font-weight: normal;\">(Findablity)</span></h1>\n",
    "        </div>\n",
    "    </div>\n",
    "</div>"
   ]
  },
  {
   "cell_type": "markdown",
   "id": "669362ad",
   "metadata": {
    "slideshow": {
     "slide_type": "fragment"
    }
   },
   "source": [
    "### Counting the number of datasets"
   ]
  },
  {
   "cell_type": "markdown",
   "id": "1fbac5a9",
   "metadata": {
    "slideshow": {
     "slide_type": "fragment"
    }
   },
   "source": [
    "<img src=\"https://cdn.jsdelivr.net/gh/devicons/devicon/icons/python/python-original.svg\" width=\"40\" style=\"display: block; margin: 0; text-align: left;\">"
   ]
  },
  {
   "cell_type": "code",
   "execution_count": 103,
   "id": "9d877e3a-4a20-4027-a648-96fded509da5",
   "metadata": {
    "editable": true,
    "slideshow": {
     "slide_type": "fragment"
    },
    "tags": []
   },
   "outputs": [
    {
     "data": {
      "text/plain": [
       "['mon']"
      ]
     },
     "execution_count": 103,
     "metadata": {},
     "output_type": "execute_result"
    }
   ],
   "source": [
    "db.metadata[\"frequency\"]"
   ]
  },
  {
   "cell_type": "code",
   "execution_count": 104,
   "id": "e5e0217a-4c9b-4b6b-a811-7a7ab28ec9e3",
   "metadata": {
    "editable": true,
    "slideshow": {
     "slide_type": "fragment"
    },
    "tags": []
   },
   "outputs": [
    {
     "data": {
      "text/plain": [
       "602"
      ]
     },
     "execution_count": 104,
     "metadata": {},
     "output_type": "execute_result"
    }
   ],
   "source": [
    "db_yr =  databrowser(\n",
    "    host=\"https://www.gems.dkrz.de\", \n",
    "    flavour=\"cmip6\", \n",
    "    mip_era=\"mpi-ge\", \n",
    "    frequency=\"mon\", \n",
    "    variable_id=\"tas\",\n",
    "    time=\"2025-01 to 2100-12\"\n",
    ")\n",
    "len(db_yr)"
   ]
  },
  {
   "cell_type": "markdown",
   "id": "6f2f0967",
   "metadata": {
    "slideshow": {
     "slide_type": "subslide"
    }
   },
   "source": [
    "<div style=\"padding: 10px; font-family: Arial, sans-serif; background: linear-gradient(135deg, #3498db 0%, #2980b9 100%); border-radius: 12px; margin: 20px 0; box-shadow: 0 4px 15px rgba(0,0,0,0.1);\">\n",
    "    <div style=\"display: flex; align-items: center; gap: 20px;\">\n",
    "        <div style=\"background: white; color: #3498db; width: 60px; height: 60px; border-radius: 50%; display: flex; align-items: center; justify-content: center; font-weight: bold; font-size: 2em; box-shadow: 0 3px 8px rgba(0,0,0,0.2); flex-shrink: 0;\">1</div>\n",
    "        <div style=\"color: white; text-align: left; flex: 1;\">\n",
    "            <h1 style=\"margin: 0; font-size: 2.5em; font-weight: bold; text-align: left;\">Search <span style=\"font-size: 0.6em; font-weight: normal;\">(Findablity)</span></h1>\n",
    "        </div>\n",
    "    </div>\n",
    "</div>"
   ]
  },
  {
   "cell_type": "markdown",
   "id": "5e62611d-f065-4175-930d-fa787688d5fa",
   "metadata": {
    "editable": true,
    "slideshow": {
     "slide_type": "fragment"
    },
    "tags": []
   },
   "source": [
    "### Accessing dataset path:"
   ]
  },
  {
   "cell_type": "markdown",
   "id": "a1297d14",
   "metadata": {
    "slideshow": {
     "slide_type": "fragment"
    }
   },
   "source": [
    "<img src=\"https://cdn.jsdelivr.net/gh/devicons/devicon/icons/bash/bash-original.svg\" width=\"40\" style=\"display: block; margin: 0; text-align: left;\">"
   ]
  },
  {
   "cell_type": "code",
   "execution_count": null,
   "id": "7e03ee17",
   "metadata": {
    "slideshow": {
     "slide_type": "fragment"
    },
    "vscode": {
     "languageId": "shellscript"
    }
   },
   "outputs": [],
   "source": [
    "$ freva-client databrowser metadata-search mip_era=mpi-ge variable_id=tas \\\n",
    "frequency=mon --time \"2025-01 to 2100-12\" --json \\\n",
    "--host  https://www.gems.dkrz.de --flavour cmip6 \\\n",
    " | jq -c \".experiment_id\""
   ]
  },
  {
   "cell_type": "code",
   "execution_count": 115,
   "id": "eb83a4db",
   "metadata": {
    "slideshow": {
     "slide_type": "fragment"
    },
    "tags": [
     "hide_input"
    ]
   },
   "outputs": [
    {
     "name": "stdout",
     "output_type": "stream",
     "text": [
      "[\"picontrol\",\"rcp26\",\"rcp45\",\"rcp85\"]\n",
      "\n"
     ]
    }
   ],
   "source": [
    "cmd(\"databrowser metadata-search mip_era=mpi-ge variable_id=tas frequency=mon --time '2025-01 to 2100-12' --json --host  https://www.gems.dkrz.de --flavour cmip6 | jq -c '.experiment_id'\")"
   ]
  },
  {
   "cell_type": "code",
   "execution_count": null,
   "id": "8e60d88a",
   "metadata": {
    "slideshow": {
     "slide_type": "fragment"
    },
    "vscode": {
     "languageId": "shellscript"
    }
   },
   "outputs": [],
   "source": [
    "$ freva-client databrowser data-count mip_era=mpi-ge variable_id=tas \\\n",
    "frequency=mon --time \"2025-01 to 2100-12\" --json experiment_id=picontrol \\\n",
    "--host  https://www.gems.dkrz.de --flavour cmip6"
   ]
  },
  {
   "cell_type": "code",
   "execution_count": 118,
   "id": "6a1ae046",
   "metadata": {
    "slideshow": {
     "slide_type": "fragment"
    },
    "tags": [
     "hide_input"
    ]
   },
   "outputs": [
    {
     "name": "stdout",
     "output_type": "stream",
     "text": [
      "2\n",
      "\n"
     ]
    }
   ],
   "source": [
    "cmd(\"databrowser data-count mip_era=mpi-ge variable_id=tas frequency=mon experiment_id=picontrol --time '2025-01 to 2100-12' --json --host  https://www.gems.dkrz.de --flavour cmip6\")"
   ]
  },
  {
   "cell_type": "code",
   "execution_count": null,
   "id": "a04ca6cc",
   "metadata": {
    "slideshow": {
     "slide_type": "fragment"
    },
    "vscode": {
     "languageId": "shellscript"
    }
   },
   "outputs": [],
   "source": [
    "$ freva-client databrowser data-search mip_era=mpi-ge variable_id=tas \\\n",
    "frequency=mon --time \"2025-01 to 2100-12\" --json experiment_id=picontrol \\\n",
    "--host  https://www.gems.dkrz.de --flavour cmip6"
   ]
  },
  {
   "cell_type": "code",
   "execution_count": 119,
   "id": "e7159d72-e053-47b8-928d-8f68be13f56c",
   "metadata": {
    "editable": true,
    "slideshow": {
     "slide_type": "fragment"
    },
    "tags": [
     "hide_input"
    ]
   },
   "outputs": [
    {
     "name": "stdout",
     "output_type": "stream",
     "text": [
      "[\"/work/mh1007/CMOR/MPI-GE/output1/MPI-M/MPI-ESM/piControl/mon/atmos/tas/r001i1850p3/v20190123/tas_Amon_MPI-ESM_piControl_r001i1850p3_200001-209912.nc\", \"/work/mh1007/CMOR/MPI-GE/output1/MPI-M/MPI-ESM/piControl/mon/atmos/tas/r001i1850p3/v20190123/tas_Amon_MPI-ESM_piControl_r001i1850p3_210001-219912.nc\"]\n",
      "\n"
     ]
    }
   ],
   "source": [
    "cmd(\"databrowser data-search mip_era=mpi-ge variable_id=tas frequency=mon experiment_id=picontrol --time '2025-01 to 2100-12' --json --host  https://www.gems.dkrz.de --flavour cmip6\")"
   ]
  },
  {
   "cell_type": "markdown",
   "id": "88d85256",
   "metadata": {
    "slideshow": {
     "slide_type": "subslide"
    }
   },
   "source": [
    "<div style=\"padding: 10px; font-family: Arial, sans-serif; background: linear-gradient(135deg, #3498db 0%, #2980b9 100%); border-radius: 12px; margin: 20px 0; box-shadow: 0 4px 15px rgba(0,0,0,0.1);\">\n",
    "    <div style=\"display: flex; align-items: center; gap: 20px;\">\n",
    "        <div style=\"background: white; color: #3498db; width: 60px; height: 60px; border-radius: 50%; display: flex; align-items: center; justify-content: center; font-weight: bold; font-size: 2em; box-shadow: 0 3px 8px rgba(0,0,0,0.2); flex-shrink: 0;\">1</div>\n",
    "        <div style=\"color: white; text-align: left; flex: 1;\">\n",
    "            <h1 style=\"margin: 0; font-size: 2.5em; font-weight: bold; text-align: left;\">Search <span style=\"font-size: 0.6em; font-weight: normal;\">(Findablity)</span></h1>\n",
    "        </div>\n",
    "    </div>\n",
    "</div>"
   ]
  },
  {
   "cell_type": "markdown",
   "id": "a0632178",
   "metadata": {
    "slideshow": {
     "slide_type": "fragment"
    }
   },
   "source": [
    "### Accessing dataset path:"
   ]
  },
  {
   "cell_type": "markdown",
   "id": "46d2f596",
   "metadata": {
    "slideshow": {
     "slide_type": "fragment"
    }
   },
   "source": [
    "<img src=\"https://cdn.jsdelivr.net/gh/devicons/devicon/icons/python/python-original.svg\" width=\"40\" style=\"display: block; margin: 0; text-align: left;\">"
   ]
  },
  {
   "cell_type": "code",
   "execution_count": 107,
   "id": "e138084c",
   "metadata": {
    "slideshow": {
     "slide_type": "fragment"
    }
   },
   "outputs": [
    {
     "data": {
      "text/plain": [
       "['picontrol', 'rcp26', 'rcp45', 'rcp85']"
      ]
     },
     "execution_count": 107,
     "metadata": {},
     "output_type": "execute_result"
    }
   ],
   "source": [
    "db_yr.metadata[\"experiment_id\"]"
   ]
  },
  {
   "cell_type": "code",
   "execution_count": 109,
   "id": "93bc41ad",
   "metadata": {
    "slideshow": {
     "slide_type": "fragment"
    }
   },
   "outputs": [
    {
     "data": {
      "text/plain": [
       "2"
      ]
     },
     "execution_count": 109,
     "metadata": {},
     "output_type": "execute_result"
    }
   ],
   "source": [
    "pcontrol = databrowser(mip_era=\"mpi-ge\",\n",
    "                       variable_id=\"tas\",\n",
    "                       frequency=\"mon\", time=\"2025-01 to 2100-12\", experiment_id=\"picontrol\",\n",
    "                       host=\"https://www.gems.dkrz.de\", flavour=\"cmip6\")\n",
    "len(pcontrol)"
   ]
  },
  {
   "cell_type": "code",
   "execution_count": 110,
   "id": "bdfccd97",
   "metadata": {
    "slideshow": {
     "slide_type": "fragment"
    }
   },
   "outputs": [
    {
     "name": "stdout",
     "output_type": "stream",
     "text": [
      "/work/mh1007/CMOR/MPI-GE/output1/MPI-M/MPI-ESM/piControl/mon/atmos/tas/r001i1850p3/v20190123/tas_Amon_MPI-ESM_piControl_r001i1850p3_210001-219912.nc\n",
      "/work/mh1007/CMOR/MPI-GE/output1/MPI-M/MPI-ESM/piControl/mon/atmos/tas/r001i1850p3/v20190123/tas_Amon_MPI-ESM_piControl_r001i1850p3_200001-209912.nc\n"
     ]
    }
   ],
   "source": [
    "for num, file in enumerate(pcontrol):\n",
    "    print(file)\n",
    "    if num > 1:\n",
    "        break"
   ]
  },
  {
   "cell_type": "markdown",
   "id": "675fdc6c",
   "metadata": {
    "slideshow": {
     "slide_type": "subslide"
    }
   },
   "source": [
    "<div style=\"padding: 10px; font-family: Arial, sans-serif; background: linear-gradient(135deg, #3498db 0%, #2980b9 100%); border-radius: 12px; margin: 20px 0; box-shadow: 0 4px 15px rgba(0,0,0,0.1);\">\n",
    "    <div style=\"display: flex; align-items: center; gap: 20px;\">\n",
    "        <div style=\"background: white; color: #3498db; width: 60px; height: 60px; border-radius: 50%; display: flex; align-items: center; justify-content: center; font-weight: bold; font-size: 2em; box-shadow: 0 3px 8px rgba(0,0,0,0.2); flex-shrink: 0;\">1</div>\n",
    "        <div style=\"color: white; text-align: left; flex: 1;\">\n",
    "            <h1 style=\"margin: 0; font-size: 2.5em; font-weight: bold; text-align: left;\">Search <span style=\"font-size: 0.6em; font-weight: normal;\">(Findablity)</span></h1>\n",
    "        </div>\n",
    "    </div>\n",
    "</div>"
   ]
  },
  {
   "cell_type": "markdown",
   "id": "05f26cb8",
   "metadata": {
    "slideshow": {
     "slide_type": "fragment"
    }
   },
   "source": [
    "### Pro Tip: Query data of files"
   ]
  },
  {
   "cell_type": "markdown",
   "id": "5bdba16c",
   "metadata": {
    "slideshow": {
     "slide_type": "fragment"
    }
   },
   "source": [
    "<img src=\"https://cdn.jsdelivr.net/gh/devicons/devicon/icons/bash/bash-original.svg\" width=\"40\" style=\"display: block; margin: 0; text-align: left;\">"
   ]
  },
  {
   "cell_type": "code",
   "execution_count": 111,
   "id": "fad97c79",
   "metadata": {
    "slideshow": {
     "slide_type": "fragment"
    },
    "tags": [
     "hide_input"
    ]
   },
   "outputs": [
    {
     "name": "stdout",
     "output_type": "stream",
     "text": [
      "$ freva-client databrowser metadata-search file=/work/mh1007/CMOR/MPI-GE/output1/MPI-M/MPI-ESM/piControl/mon/atmos/tas/r001i1850p3/v20190123/tas_Amon_MPI-ESM_piControl_r001i1850p3_210001-219912.nc --host=www.gems.dkrz.de\n",
      "\n",
      "ensemble: r001i1850p3\n",
      "experiment: picontrol\n",
      "institute: mpi-m\n",
      "model: mpi-esm\n",
      "product: output1\n",
      "project: mpi-ge\n",
      "realm: atmos\n",
      "time_aggregation: mean\n",
      "time_frequency: mon\n",
      "variable: tas\n",
      "\n"
     ]
    }
   ],
   "source": [
    "print(\"$ freva-client databrowser metadata-search file=/work/mh1007/CMOR/MPI-GE/output1/MPI-M/MPI-ESM/piControl/mon/atmos/tas/r001i1850p3/v20190123/tas_Amon_MPI-ESM_piControl_r001i1850p3_210001-219912.nc --host=www.gems.dkrz.de\")\n",
    "print()\n",
    "cmd(\"databrowser metadata-search file=/work/mh1007/CMOR/MPI-GE/output1/MPI-M/MPI-ESM/piControl/mon/atmos/tas/r001i1850p3/v20190123/tas_Amon_MPI-ESM_piControl_r001i1850p3_210001-219912.nc --host=www.gems.dkrz.de\") "
   ]
  },
  {
   "cell_type": "markdown",
   "id": "13352806",
   "metadata": {
    "slideshow": {
     "slide_type": "subslide"
    }
   },
   "source": [
    "<div style=\"padding: 10px; font-family: Arial, sans-serif; background: linear-gradient(135deg, #3498db 0%, #2980b9 100%); border-radius: 12px; margin: 20px 0; box-shadow: 0 4px 15px rgba(0,0,0,0.1);\">\n",
    "    <div style=\"display: flex; align-items: center; gap: 20px;\">\n",
    "        <div style=\"background: white; color: #3498db; width: 60px; height: 60px; border-radius: 50%; display: flex; align-items: center; justify-content: center; font-weight: bold; font-size: 2em; box-shadow: 0 3px 8px rgba(0,0,0,0.2); flex-shrink: 0;\">1</div>\n",
    "        <div style=\"color: white; text-align: left; flex: 1;\">\n",
    "            <h1 style=\"margin: 0; font-size: 2.5em; font-weight: bold; text-align: left;\">Search <span style=\"font-size: 0.6em; font-weight: normal;\">(Findablity)</span></h1>\n",
    "        </div>\n",
    "    </div>\n",
    "</div>"
   ]
  },
  {
   "cell_type": "markdown",
   "id": "64594110",
   "metadata": {
    "slideshow": {
     "slide_type": "fragment"
    }
   },
   "source": [
    "### Pro Tip: Query data of files"
   ]
  },
  {
   "cell_type": "markdown",
   "id": "34ecaeee",
   "metadata": {
    "slideshow": {
     "slide_type": "fragment"
    }
   },
   "source": [
    "<img src=\"https://cdn.jsdelivr.net/gh/devicons/devicon/icons/python/python-original.svg\" width=\"40\" style=\"display: block; margin: 0; text-align: left;\">"
   ]
  },
  {
   "cell_type": "code",
   "execution_count": 112,
   "id": "a13b5bed",
   "metadata": {
    "slideshow": {
     "slide_type": "fragment"
    }
   },
   "outputs": [
    {
     "data": {
      "text/plain": [
       "{'ensemble': ['r001i1850p3'],\n",
       " 'experiment': ['picontrol'],\n",
       " 'institute': ['mpi-m'],\n",
       " 'model': ['mpi-esm'],\n",
       " 'product': ['output1'],\n",
       " 'project': ['mpi-ge'],\n",
       " 'realm': ['atmos'],\n",
       " 'time_aggregation': ['mean'],\n",
       " 'time_frequency': ['mon'],\n",
       " 'variable': ['tas']}"
      ]
     },
     "execution_count": 112,
     "metadata": {},
     "output_type": "execute_result"
    }
   ],
   "source": [
    "db.metadata_search(\n",
    "    file=\"/work/mh1007/CMOR/MPI-GE/output1/MPI-M/MPI-ESM/piControl/mon/atmos/tas/r001i1850p3/v20190123/tas_Amon_MPI-ESM_piControl_r001i1850p3_210001-219912.nc\",\n",
    "    host=\"www.gems.dkrz.de\"\n",
    ")"
   ]
  },
  {
   "cell_type": "markdown",
   "id": "3ced9479",
   "metadata": {
    "slideshow": {
     "slide_type": "subslide"
    }
   },
   "source": [
    "<div style=\"padding: 10px; font-family: Arial, sans-serif; background: linear-gradient(135deg, #3498db 0%, #2980b9 100%); border-radius: 12px; margin: 20px 0; box-shadow: 0 4px 15px rgba(0,0,0,0.1);\">\n",
    "    <div style=\"display: flex; align-items: center; gap: 20px;\">\n",
    "        <div style=\"background: white; color: #3498db; width: 60px; height: 60px; border-radius: 50%; display: flex; align-items: center; justify-content: center; font-weight: bold; font-size: 2em; box-shadow: 0 3px 8px rgba(0,0,0,0.2); flex-shrink: 0;\">1</div>\n",
    "        <div style=\"color: white; text-align: left; flex: 1;\">\n",
    "            <h1 style=\"margin: 0; font-size: 2.5em; font-weight: bold; text-align: left;\">Search <span style=\"font-size: 0.6em; font-weight: normal;\">(Findablity)</span></h1>\n",
    "        </div>\n",
    "    </div>\n",
    "</div>"
   ]
  },
  {
   "cell_type": "markdown",
   "id": "159c8772",
   "metadata": {
    "slideshow": {
     "slide_type": "fragment"
    }
   },
   "source": [
    "### Exclude specefic search key"
   ]
  },
  {
   "cell_type": "markdown",
   "id": "dc0750a7",
   "metadata": {
    "slideshow": {
     "slide_type": "fragment"
    }
   },
   "source": [
    "<img src=\"https://cdn.jsdelivr.net/gh/devicons/devicon/icons/bash/bash-original.svg\" width=\"40\" style=\"display: block; margin: 0; text-align: left;\">"
   ]
  },
  {
   "cell_type": "code",
   "execution_count": 122,
   "id": "34c008bb",
   "metadata": {
    "slideshow": {
     "slide_type": "fragment"
    },
    "vscode": {
     "languageId": "shellscript"
    }
   },
   "outputs": [
    {
     "name": "stdout",
     "output_type": "stream",
     "text": [
      "rcp26 rcp45 rcp85\n"
     ]
    }
   ],
   "source": [
    "!freva-client databrowser metadata-search mip_era=mpi-ge variable_id=tas \\\n",
    "frequency=mon --time=\"2025-01 to 2100-12\"  experiment_id='!picontrol' --json \\\n",
    "--host https://www.gems.dkrz.de --flavour cmip6| jq -rc '.experiment_id| join(\" \")'"
   ]
  },
  {
   "cell_type": "markdown",
   "id": "850431a5",
   "metadata": {
    "slideshow": {
     "slide_type": "subslide"
    }
   },
   "source": [
    "<div style=\"padding: 10px; font-family: Arial, sans-serif; background: linear-gradient(135deg, #3498db 0%, #2980b9 100%); border-radius: 12px; margin: 20px 0; box-shadow: 0 4px 15px rgba(0,0,0,0.1);\">\n",
    "    <div style=\"display: flex; align-items: center; gap: 20px;\">\n",
    "        <div style=\"background: white; color: #3498db; width: 60px; height: 60px; border-radius: 50%; display: flex; align-items: center; justify-content: center; font-weight: bold; font-size: 2em; box-shadow: 0 3px 8px rgba(0,0,0,0.2); flex-shrink: 0;\">1</div>\n",
    "        <div style=\"color: white; text-align: left; flex: 1;\">\n",
    "            <h1 style=\"margin: 0; font-size: 2.5em; font-weight: bold; text-align: left;\">Search <span style=\"font-size: 0.6em; font-weight: normal;\">(Findablity)</span></h1>\n",
    "        </div>\n",
    "    </div>\n",
    "</div>"
   ]
  },
  {
   "cell_type": "markdown",
   "id": "68367d5f",
   "metadata": {
    "slideshow": {
     "slide_type": "fragment"
    }
   },
   "source": [
    "### Exclude specefic search key"
   ]
  },
  {
   "cell_type": "markdown",
   "id": "8136802e",
   "metadata": {
    "slideshow": {
     "slide_type": "fragment"
    }
   },
   "source": [
    "<img src=\"https://cdn.jsdelivr.net/gh/devicons/devicon/icons/python/python-original.svg\" width=\"40\" style=\"display: block; margin: 0; text-align: left;\">"
   ]
  },
  {
   "cell_type": "code",
   "execution_count": 123,
   "id": "fb98fde6",
   "metadata": {
    "slideshow": {
     "slide_type": "fragment"
    }
   },
   "outputs": [
    {
     "data": {
      "text/plain": [
       "['rcp26', 'rcp45', 'rcp85']"
      ]
     },
     "execution_count": 123,
     "metadata": {},
     "output_type": "execute_result"
    }
   ],
   "source": [
    "db = databrowser(mip_era=\"mpi-ge\", variable_id=\"tas\",\n",
    "                 frequency=\"mon\", time=\"2025-01 to 2100-12\",\n",
    "                 experiment_id=\"!picontrol\", flavour=\"cmip6\",\n",
    "                 host=\"https://www.gems.dkrz.de\"\n",
    "                )\n",
    "db.metadata[\"experiment_id\"]"
   ]
  },
  {
   "cell_type": "markdown",
   "id": "ff7b77a6",
   "metadata": {
    "slideshow": {
     "slide_type": "subslide"
    }
   },
   "source": [
    "<div style=\"padding: 10px; font-family: Arial, sans-serif; background: linear-gradient(135deg, #3498db 0%, #2980b9 100%); border-radius: 12px; margin: 20px 0; box-shadow: 0 4px 15px rgba(0,0,0,0.1);\">\n",
    "    <div style=\"display: flex; align-items: center; gap: 20px;\">\n",
    "        <div style=\"background: white; color: #3498db; width: 60px; height: 60px; border-radius: 50%; display: flex; align-items: center; justify-content: center; font-weight: bold; font-size: 2em; box-shadow: 0 3px 8px rgba(0,0,0,0.2); flex-shrink: 0;\">1</div>\n",
    "        <div style=\"color: white; text-align: left; flex: 1;\">\n",
    "            <h1 style=\"margin: 0; font-size: 2.5em; font-weight: bold; text-align: left;\">Search <span style=\"font-size: 0.6em; font-weight: normal;\">(Findablity)</span></h1>\n",
    "        </div>\n",
    "    </div>\n",
    "</div>"
   ]
  },
  {
   "cell_type": "code",
   "execution_count": null,
   "id": "5f69eca1",
   "metadata": {
    "slideshow": {
     "slide_type": "fragment"
    }
   },
   "outputs": [
    {
     "data": {
      "image/png": "[encoded data removed]",
      "text/plain": [
       "<Figure size 1200x500 with 1 Axes>"
      ]
     },
     "metadata": {},
     "output_type": "display_data"
    }
   ],
   "source": [
    "import matplotlib.pyplot as plt\n",
    "\n",
    "# Create a color cycle for different experiments\n",
    "colors = plt.rcParams[\"axes.prop_cycle\"].by_key()[\"color\"]\n",
    "\n",
    "plt.figure(figsize=(12, 5))\n",
    "\n",
    "for i, exp in enumerate(data.experiment.values):\n",
    "    ts = data.sel(experiment=exp).resample(time=\"1YE\").mean()\n",
    "    ts_min = ts.min(dim=\"ensemble\").squeeze()\n",
    "    ts_max = ts.max(dim=\"ensemble\").squeeze()\n",
    "    ts_mean = ts.mean(dim=\"ensemble\").squeeze()\n",
    "    # Plot min–max shading\n",
    "    plt.fill_between(\n",
    "        ts.time,\n",
    "        ts_min,\n",
    "        ts_max,\n",
    "        color=colors[i % len(colors)],\n",
    "        alpha=0.2,\n",
    "        label=None,\n",
    "    )\n",
    "    # Plot mean line\n",
    "    plt.plot(\n",
    "        ts.time,\n",
    "        ts_mean,\n",
    "        color=colors[i % len(colors)],\n",
    "        linewidth=2,\n",
    "        label=f\"{exp}\"\n",
    "    )\n",
    "\n",
    "# Add plot decorations\n",
    "plt.title(\"Ensemble Mean and Spread for Each Experiment\")\n",
    "plt.xlabel(\"Time\")\n",
    "plt.ylabel(f\"{data.attrs['long_name']} [{data.attrs['units']}]\")  # Replace with actual units\n",
    "plt.legend()\n",
    "plt.grid(True)\n",
    "plt.tight_layout()\n",
    "plt.show()"
   ]
  },
  {
   "cell_type": "markdown",
   "id": "6adf501e",
   "metadata": {
    "slideshow": {
     "slide_type": "subslide"
    }
   },
   "source": [
    "<div style=\"padding: 10px; font-family: Arial, sans-serif; background: linear-gradient(135deg, #3498db 0%, #2980b9 100%); border-radius: 12px; margin: 20px 0; box-shadow: 0 4px 15px rgba(0,0,0,0.1);\">\n",
    "    <div style=\"display: flex; align-items: center; gap: 20px;\">\n",
    "        <div style=\"background: white; color: #3498db; width: 60px; height: 60px; border-radius: 50%; display: flex; align-items: center; justify-content: center; font-weight: bold; font-size: 2em; box-shadow: 0 3px 8px rgba(0,0,0,0.2); flex-shrink: 0;\">1</div>\n",
    "        <div style=\"color: white; text-align: left; flex: 1;\">\n",
    "            <h1 style=\"margin: 0; font-size: 2.5em; font-weight: bold; text-align: left;\">Search <span style=\"font-size: 0.6em; font-weight: normal;\">(Findablity)</span></h1>\n",
    "        </div>\n",
    "    </div>\n",
    "</div>"
   ]
  },
  {
   "cell_type": "markdown",
   "id": "503efcb5",
   "metadata": {},
   "source": [
    "### Find data via STAC Browser"
   ]
  },
  {
   "cell_type": "markdown",
   "id": "8cb795b5",
   "metadata": {
    "slideshow": {
     "slide_type": "fragment"
    }
   },
   "source": [
    "<img src=\"https://cdnjs.cloudflare.com/ajax/libs/bootstrap-icons/1.13.1/icons/globe.svg\" width=\"40\" style=\"display: block; margin: 0; text-align: left;\">"
   ]
  },
  {
   "cell_type": "markdown",
   "id": "f2b7a866",
   "metadata": {
    "slideshow": {
     "slide_type": "fragment"
    }
   },
   "source": [
    "<video style=\"text-align: left; display: block;\" width=\"800\" controls>\n",
    "  <source src=\"media/stac-browser_q.mp4\" type=\"video/mp4\">\n",
    "</video>"
   ]
  },
  {
   "cell_type": "markdown",
   "id": "4a6650fe",
   "metadata": {
    "slideshow": {
     "slide_type": "slide"
    }
   },
   "source": [
    "<div style=\"padding: 10px; font-family: Arial, sans-serif; background: linear-gradient(135deg, #e74c3c 0%, #c0392b 100%); border-radius: 12px; margin: 20px 0; box-shadow: 0 4px 15px rgba(0,0,0,0.1);\">\n",
    "    <div style=\"display: flex; align-items: center; gap: 20px;\">\n",
    "        <div style=\"background: white; color: #e74c3c; width: 60px; height: 60px; border-radius: 50%; display: flex; align-items: center; justify-content: center; font-weight: bold; font-size: 2em; box-shadow: 0 3px 8px rgba(0,0,0,0.2); flex-shrink: 0;\">2</div>\n",
    "        <div style=\"color: white; text-align: left; flex: 1;\">\n",
    "            <h1 style=\"margin: 0; font-size: 2.5em; font-weight: bold; text-align: left;\">Cataloging Data <span style=\"font-size: 0.6em; font-weight: normal;\">(Reusablity)</span></h1>\n",
    "        </div>\n",
    "    </div>\n",
    "</div>"
   ]
  },
  {
   "cell_type": "markdown",
   "id": "1104b8f1",
   "metadata": {
    "slideshow": {
     "slide_type": "fragment"
    }
   },
   "source": [
    "### Download the Intake catalogue "
   ]
  },
  {
   "cell_type": "markdown",
   "id": "fec1a662",
   "metadata": {
    "slideshow": {
     "slide_type": "fragment"
    }
   },
   "source": [
    "<img src=\"https://cdn.jsdelivr.net/gh/devicons/devicon/icons/bash/bash-original.svg\" width=\"40\" style=\"display: block; margin: 0; text-align: left;\">"
   ]
  },
  {
   "cell_type": "code",
   "execution_count": null,
   "id": "062efeec",
   "metadata": {
    "vscode": {
     "languageId": "shellscript"
    }
   },
   "outputs": [],
   "source": [
    "$ freva-client databrowser intake-catalogue  --host www.gems.dkrz.de --flavour cmip6 \\\n",
    "mip_era=mpi-ge frequency=mon variable_id=tas --time \"2025-01 to 2100-12\" \\\n",
    "experiment_id=!picontrol"
   ]
  },
  {
   "cell_type": "code",
   "execution_count": 126,
   "id": "26da58df",
   "metadata": {
    "slideshow": {
     "slide_type": "fragment"
    },
    "tags": [
     "hide_input"
    ]
   },
   "outputs": [
    {
     "name": "stdout",
     "output_type": "stream",
     "text": [
      "{\n",
      "   \"esmcat_version\": \"0.1.0\",\n",
      "   \"attributes\": [\n",
      "      {\n",
      "         \"column_name\": \"mip_era\",\n"
     ]
    }
   ],
   "source": [
    "cmd(\"databrowser intake-catalogue  --host www.gems.dkrz.de --flavour cmip6 mip_era=mpi-ge frequency=mon variable_id=pr variable_id=tas --time '2025-01 to 2100-12' experiment_id=!picontrol\", limit=5)"
   ]
  },
  {
   "cell_type": "markdown",
   "id": "746222a8",
   "metadata": {
    "slideshow": {
     "slide_type": "subslide"
    }
   },
   "source": [
    "<div style=\"padding: 10px; font-family: Arial, sans-serif; background: linear-gradient(135deg, #e74c3c 0%, #c0392b 100%); border-radius: 12px; margin: 20px 0; box-shadow: 0 4px 15px rgba(0,0,0,0.1);\">\n",
    "    <div style=\"display: flex; align-items: center; gap: 20px;\">\n",
    "        <div style=\"background: white; color: #e74c3c; width: 60px; height: 60px; border-radius: 50%; display: flex; align-items: center; justify-content: center; font-weight: bold; font-size: 2em; box-shadow: 0 3px 8px rgba(0,0,0,0.2); flex-shrink: 0;\">2</div>\n",
    "        <div style=\"color: white; text-align: left; flex: 1;\">\n",
    "            <h1 style=\"margin: 0; font-size: 2.5em; font-weight: bold; text-align: left;\">Cataloging Data <span style=\"font-size: 0.6em; font-weight: normal;\">(Reusablity)</span></h1>\n",
    "        </div>\n",
    "    </div>\n",
    "</div>"
   ]
  },
  {
   "cell_type": "markdown",
   "id": "5659a7a6",
   "metadata": {
    "slideshow": {
     "slide_type": "fragment"
    }
   },
   "source": [
    "### Download the Intake catalogue "
   ]
  },
  {
   "cell_type": "markdown",
   "id": "18f87a54",
   "metadata": {
    "slideshow": {
     "slide_type": "fragment"
    }
   },
   "source": [
    "<img src=\"https://cdn.jsdelivr.net/gh/devicons/devicon/icons/python/python-original.svg\" width=\"40\" style=\"display: block; margin: 0; text-align: left;\">"
   ]
  },
  {
   "cell_type": "code",
   "execution_count": 125,
   "id": "fc8921ff",
   "metadata": {
    "slideshow": {
     "slide_type": "fragment"
    }
   },
   "outputs": [
    {
     "data": {
      "text/html": [
       "<p><strong>freva catalog with 600 dataset(s) from 600 asset(s)</strong>:</p> <div>\n",
       "<style scoped>\n",
       "    .dataframe tbody tr th:only-of-type {\n",
       "        vertical-align: middle;\n",
       "    }\n",
       "\n",
       "    .dataframe tbody tr th {\n",
       "        vertical-align: top;\n",
       "    }\n",
       "\n",
       "    .dataframe thead th {\n",
       "        text-align: right;\n",
       "    }\n",
       "</style>\n",
       "<table border=\"1\" class=\"dataframe\">\n",
       "  <thead>\n",
       "    <tr style=\"text-align: right;\">\n",
       "      <th></th>\n",
       "      <th>unique</th>\n",
       "    </tr>\n",
       "  </thead>\n",
       "  <tbody>\n",
       "    <tr>\n",
       "      <th>file</th>\n",
       "      <td>600</td>\n",
       "    </tr>\n",
       "    <tr>\n",
       "      <th>project</th>\n",
       "      <td>1</td>\n",
       "    </tr>\n",
       "    <tr>\n",
       "      <th>product</th>\n",
       "      <td>1</td>\n",
       "    </tr>\n",
       "    <tr>\n",
       "      <th>institute</th>\n",
       "      <td>1</td>\n",
       "    </tr>\n",
       "    <tr>\n",
       "      <th>model</th>\n",
       "      <td>1</td>\n",
       "    </tr>\n",
       "    <tr>\n",
       "      <th>experiment</th>\n",
       "      <td>3</td>\n",
       "    </tr>\n",
       "    <tr>\n",
       "      <th>time_frequency</th>\n",
       "      <td>1</td>\n",
       "    </tr>\n",
       "    <tr>\n",
       "      <th>realm</th>\n",
       "      <td>2</td>\n",
       "    </tr>\n",
       "    <tr>\n",
       "      <th>variable</th>\n",
       "      <td>1</td>\n",
       "    </tr>\n",
       "    <tr>\n",
       "      <th>ensemble</th>\n",
       "      <td>100</td>\n",
       "    </tr>\n",
       "    <tr>\n",
       "      <th>cmor_table</th>\n",
       "      <td>2</td>\n",
       "    </tr>\n",
       "    <tr>\n",
       "      <th>fs_type</th>\n",
       "      <td>1</td>\n",
       "    </tr>\n",
       "    <tr>\n",
       "      <th>grid_label</th>\n",
       "      <td>1</td>\n",
       "    </tr>\n",
       "    <tr>\n",
       "      <th>format</th>\n",
       "      <td>1</td>\n",
       "    </tr>\n",
       "    <tr>\n",
       "      <th>derived_variable_id</th>\n",
       "      <td>0</td>\n",
       "    </tr>\n",
       "  </tbody>\n",
       "</table>\n",
       "</div>"
      ],
      "text/plain": [
       "<IPython.core.display.HTML object>"
      ]
     },
     "metadata": {},
     "output_type": "display_data"
    }
   ],
   "source": [
    "\n",
    "db.intake_catalogue()"
   ]
  },
  {
   "cell_type": "markdown",
   "id": "fa7b9ca4",
   "metadata": {
    "slideshow": {
     "slide_type": "subslide"
    }
   },
   "source": [
    "<div style=\"padding: 10px; font-family: Arial, sans-serif; background: linear-gradient(135deg, #e74c3c 0%, #c0392b 100%); border-radius: 12px; margin: 20px 0; box-shadow: 0 4px 15px rgba(0,0,0,0.1);\">\n",
    "    <div style=\"display: flex; align-items: center; gap: 20px;\">\n",
    "        <div style=\"background: white; color: #e74c3c; width: 60px; height: 60px; border-radius: 50%; display: flex; align-items: center; justify-content: center; font-weight: bold; font-size: 2em; box-shadow: 0 3px 8px rgba(0,0,0,0.2); flex-shrink: 0;\">2</div>\n",
    "        <div style=\"color: white; text-align: left; flex: 1;\">\n",
    "            <h1 style=\"margin: 0; font-size: 2.5em; font-weight: bold; text-align: left;\">Cataloging Data <span style=\"font-size: 0.6em; font-weight: normal;\">(Reusablity)</span></h1>\n",
    "        </div>\n",
    "    </div>\n",
    "</div>"
   ]
  },
  {
   "cell_type": "markdown",
   "id": "ea7dba6e",
   "metadata": {
    "slideshow": {
     "slide_type": "fragment"
    }
   },
   "source": [
    "### Download the STAC STATIC catalogue "
   ]
  },
  {
   "cell_type": "markdown",
   "id": "10673e89",
   "metadata": {
    "slideshow": {
     "slide_type": "fragment"
    }
   },
   "source": [
    "<img src=\"https://cdn.jsdelivr.net/gh/devicons/devicon/icons/bash/bash-original.svg\" width=\"40\" style=\"display: block; margin: 0; text-align: left;\">"
   ]
  },
  {
   "cell_type": "code",
   "execution_count": null,
   "id": "de3e98cf",
   "metadata": {
    "vscode": {
     "languageId": "shellscript"
    }
   },
   "outputs": [],
   "source": [
    "$ freva-client databrowser stac-catalogue --host www.gems.dkrz.de --flavour cmip6 \\\n",
    "mip_era=mpi-ge frequency=mon variable_id=tas --time \"2025-01 to 2100-12\" \\\n",
    "experiment_id=!picontrol"
   ]
  },
  {
   "cell_type": "code",
   "execution_count": 127,
   "id": "7b2d1f55",
   "metadata": {
    "slideshow": {
     "slide_type": "fragment"
    },
    "tags": [
     "hide_input"
    ]
   },
   "outputs": [
    {
     "name": "stdout",
     "output_type": "stream",
     "text": [
      "\u001b[1;32mDownloading the STAC catalog started \u001b[0m\u001b[1;32m...\u001b[0m\n",
      "STAC catalog saved to: /Users/mo/dev/20250801/Talks/talks/DataSearchWorkshop2025/stac-catalog-Dataset-cmip6-20b84af9-730-file.zip (size: 2.29 MB). Or simply download from: https://www.gems.dkrz.de/api/freva-nextgen/databrowser/stac-catalogue/cmip6/file?multi-version=False&mip_era=mpi-ge&frequency=mon&variable_id=pr&variable_id=tas&experiment_id=%21picontrol&time=2025-01+to+2100-12&time_select=flexible\n",
      "\n"
     ]
    }
   ],
   "source": [
    "cmd(\"databrowser stac-catalogue --host www.gems.dkrz.de --flavour cmip6 mip_era=mpi-ge frequency=mon variable_id=pr variable_id=tas --time '2025-01 to 2100-12' experiment_id=!picontrol\")"
   ]
  },
  {
   "cell_type": "markdown",
   "id": "6da0f094",
   "metadata": {
    "slideshow": {
     "slide_type": "subslide"
    }
   },
   "source": [
    "<div style=\"padding: 10px; font-family: Arial, sans-serif; background: linear-gradient(135deg, #e74c3c 0%, #c0392b 100%); border-radius: 12px; margin: 20px 0; box-shadow: 0 4px 15px rgba(0,0,0,0.1);\">\n",
    "    <div style=\"display: flex; align-items: center; gap: 20px;\">\n",
    "        <div style=\"background: white; color: #e74c3c; width: 60px; height: 60px; border-radius: 50%; display: flex; align-items: center; justify-content: center; font-weight: bold; font-size: 2em; box-shadow: 0 3px 8px rgba(0,0,0,0.2); flex-shrink: 0;\">2</div>\n",
    "        <div style=\"color: white; text-align: left; flex: 1;\">\n",
    "            <h1 style=\"margin: 0; font-size: 2.5em; font-weight: bold; text-align: left;\">Cataloging Data <span style=\"font-size: 0.6em; font-weight: normal;\">(Reusablity)</span></h1>\n",
    "        </div>\n",
    "    </div>\n",
    "</div>"
   ]
  },
  {
   "cell_type": "markdown",
   "id": "7ef4dfd5",
   "metadata": {
    "slideshow": {
     "slide_type": "fragment"
    }
   },
   "source": [
    "### Download the STAC STATIC catalogue "
   ]
  },
  {
   "cell_type": "markdown",
   "id": "1ffc850f",
   "metadata": {
    "slideshow": {
     "slide_type": "fragment"
    }
   },
   "source": [
    "<img src=\"https://cdn.jsdelivr.net/gh/devicons/devicon/icons/python/python-original.svg\" width=\"40\" style=\"display: block; margin: 0; text-align: left;\">"
   ]
  },
  {
   "cell_type": "code",
   "execution_count": 128,
   "id": "e44b3709",
   "metadata": {
    "slideshow": {
     "slide_type": "fragment"
    }
   },
   "outputs": [
    {
     "data": {
      "text/html": [
       "<pre style=\"white-space:pre;overflow-x:auto;line-height:normal;font-family:Menlo,'DejaVu Sans Mono',consolas,'Courier New',monospace\"><span style=\"color: #008000; text-decoration-color: #008000; font-weight: bold\">Downloading the STAC catalog started ...</span>\n",
       "</pre>\n"
      ],
      "text/plain": [
       "\u001b[1;32mDownloading the STAC catalog started \u001b[0m\u001b[1;32m...\u001b[0m\n"
      ]
     },
     "metadata": {},
     "output_type": "display_data"
    },
    {
     "data": {
      "text/plain": [
       "'STAC catalog saved to: /Users/mo/dev/20250801/Talks/talks/DataSearchWorkshop2025/stac-catalog-Dataset-cmip6-fef17806-907-file.zip (size: 1.14 MB). Or simply download from: https://www.gems.dkrz.de/api/freva-nextgen/databrowser/stac-catalogue/cmip6/file?multi-version=False&mip_era=mpi-ge&variable_id=tas&frequency=mon&experiment_id=%21picontrol&time=2025-01+to+2100-12&time_select=flexible'"
      ]
     },
     "execution_count": 128,
     "metadata": {},
     "output_type": "execute_result"
    }
   ],
   "source": [
    "db.stac_catalogue()"
   ]
  },
  {
   "cell_type": "markdown",
   "id": "1a3cd6f5",
   "metadata": {
    "slideshow": {
     "slide_type": "subslide"
    }
   },
   "source": [
    "<div style=\"padding: 10px; font-family: Arial, sans-serif; background: linear-gradient(135deg, #e74c3c 0%, #c0392b 100%); border-radius: 12px; margin: 20px 0; box-shadow: 0 4px 15px rgba(0,0,0,0.1);\">\n",
    "    <div style=\"display: flex; align-items: center; gap: 20px;\">\n",
    "        <div style=\"background: white; color: #e74c3c; width: 60px; height: 60px; border-radius: 50%; display: flex; align-items: center; justify-content: center; font-weight: bold; font-size: 2em; box-shadow: 0 3px 8px rgba(0,0,0,0.2); flex-shrink: 0;\">2</div>\n",
    "        <div style=\"color: white; text-align: left; flex: 1;\">\n",
    "            <h1 style=\"margin: 0; font-size: 2.5em; font-weight: bold; text-align: left;\">Cataloging Data <span style=\"font-size: 0.6em; font-weight: normal;\">(Reusablity)</span></h1>\n",
    "        </div>\n",
    "    </div>\n",
    "</div>"
   ]
  },
  {
   "cell_type": "markdown",
   "id": "ef274aba",
   "metadata": {
    "slideshow": {
     "slide_type": "fragment"
    }
   },
   "source": [
    "<img src=\"https://cdnjs.cloudflare.com/ajax/libs/bootstrap-icons/1.13.1/icons/globe.svg\" width=\"40\" style=\"display: block; margin: 0; text-align: left;\">"
   ]
  },
  {
   "cell_type": "markdown",
   "id": "a091e244",
   "metadata": {
    "slideshow": {
     "slide_type": "fragment"
    }
   },
   "source": [
    "<video style=\"text-align: left; display: block;\" width=\"800\" controls>\n",
    "  <source src=\"media/download_catalogue_q.mp4\" type=\"video/mp4\">\n",
    "</video>"
   ]
  },
  {
   "cell_type": "markdown",
   "id": "364efec0",
   "metadata": {
    "slideshow": {
     "slide_type": "slide"
    }
   },
   "source": [
    "<div style=\"padding: 10px; font-family: Arial, sans-serif; background: linear-gradient(135deg, #f39c12 0%, #e67e22 100%); border-radius: 12px; margin: 20px 0; box-shadow: 0 4px 15px rgba(0,0,0,0.1);\">\n",
    "    <div style=\"display: flex; align-items: center; gap: 20px;\">\n",
    "        <div style=\"background: white; color: #f39c12; width: 60px; height: 60px; border-radius: 50%; display: flex; align-items: center; justify-content: center; font-weight: bold; font-size: 2em; box-shadow: 0 3px 8px rgba(0,0,0,0.2); flex-shrink: 0;\">3</div>\n",
    "        <div style=\"color: white; text-align: left; flex: 1;\">\n",
    "            <h1 style=\"margin: 0; font-size: 2.5em; font-weight: bold; text-align: left;\">Access <span style=\"font-size: 0.6em; font-weight: normal;\">(Accessiblity)</span></h1>\n",
    "        </div>\n",
    "    </div>\n",
    "</div>"
   ]
  },
  {
   "cell_type": "markdown",
   "id": "95b04d81",
   "metadata": {
    "slideshow": {
     "slide_type": "fragment"
    }
   },
   "source": [
    "<img src=\"https://cdn.jsdelivr.net/gh/devicons/devicon/icons/python/python-original.svg\" width=\"40\" style=\"display: block; margin: 0; text-align: left;\">"
   ]
  },
  {
   "cell_type": "code",
   "execution_count": 24,
   "id": "95099e4d-8a26-48ed-9555-48c04a757402",
   "metadata": {
    "editable": true,
    "slideshow": {
     "slide_type": "fragment"
    },
    "tags": []
   },
   "outputs": [
    {
     "data": {
      "text/plain": [
       "'https://www.nextgems.dkrz.de/api/freva-nextgen/data-portal/zarr/5b8ec334-d2c9-536d-9b8e-249bbd34ac23.zarr'"
      ]
     },
     "execution_count": 24,
     "metadata": {},
     "output_type": "execute_result"
    }
   ],
   "source": [
    "from freva_client import authenticate\n",
    "import xarray as xr\n",
    "token = authenticate(host=\"www.gems.dkrz.de\", token_file=\"~/token.json\")\n",
    "data = databrowser(host=\"www.gems.dkrz.de\", flavour=\"cmip6\",\n",
    "                   mip_era=\"mpi-ge\",\n",
    "                   variable_id=\"tas\",\n",
    "                   experiment_id=\"historical\",\n",
    "                   stream_zarr=True)\n",
    "uri = list(data)[0]\n",
    "uri"
   ]
  },
  {
   "cell_type": "code",
   "execution_count": 26,
   "id": "278acb36-0310-4360-bf69-76eb9bfadaa5",
   "metadata": {
    "editable": true,
    "slideshow": {
     "slide_type": "fragment"
    },
    "tags": []
   },
   "outputs": [
    {
     "data": {
      "text/html": [
       "<div><svg style=\"position: absolute; width: 0; height: 0; overflow: hidden\">\n",
       "<defs>\n",
       "<symbol id=\"icon-database\" viewBox=\"0 0 32 32\">\n",
       "<path d=\"M16 0c-8.837 0-16 2.239-16 5v4c0 2.761 7.163 5 16 5s16-2.239 16-5v-4c0-2.761-7.163-5-16-5z\"></path>\n",
       "<path d=\"M16 17c-8.837 0-16-2.239-16-5v6c0 2.761 7.163 5 16 5s16-2.239 16-5v-6c0 2.761-7.163 5-16 5z\"></path>\n",
       "<path d=\"M16 26c-8.837 0-16-2.239-16-5v6c0 2.761 7.163 5 16 5s16-2.239 16-5v-6c0 2.761-7.163 5-16 5z\"></path>\n",
       "</symbol>\n",
       "<symbol id=\"icon-file-text2\" viewBox=\"0 0 32 32\">\n",
       "<path d=\"M28.681 7.159c-0.694-0.947-1.662-2.053-2.724-3.116s-2.169-2.030-3.116-2.724c-1.612-1.182-2.393-1.319-2.841-1.319h-15.5c-1.378 0-2.5 1.121-2.5 2.5v27c0 1.378 1.122 2.5 2.5 2.5h23c1.378 0 2.5-1.122 2.5-2.5v-19.5c0-0.448-0.137-1.23-1.319-2.841zM24.543 5.457c0.959 0.959 1.712 1.825 2.268 2.543h-4.811v-4.811c0.718 0.556 1.584 1.309 2.543 2.268zM28 29.5c0 0.271-0.229 0.5-0.5 0.5h-23c-0.271 0-0.5-0.229-0.5-0.5v-27c0-0.271 0.229-0.5 0.5-0.5 0 0 15.499-0 15.5 0v7c0 0.552 0.448 1 1 1h7v19.5z\"></path>\n",
       "<path d=\"M23 26h-14c-0.552 0-1-0.448-1-1s0.448-1 1-1h14c0.552 0 1 0.448 1 1s-0.448 1-1 1z\"></path>\n",
       "<path d=\"M23 22h-14c-0.552 0-1-0.448-1-1s0.448-1 1-1h14c0.552 0 1 0.448 1 1s-0.448 1-1 1z\"></path>\n",
       "<path d=\"M23 18h-14c-0.552 0-1-0.448-1-1s0.448-1 1-1h14c0.552 0 1 0.448 1 1s-0.448 1-1 1z\"></path>\n",
       "</symbol>\n",
       "</defs>\n",
       "</svg>\n",
       "<style>/* CSS stylesheet for displaying xarray objects in jupyterlab.\n",
       " *\n",
       " */\n",
       "\n",
       ":root {\n",
       "  --xr-font-color0: var(\n",
       "    --jp-content-font-color0,\n",
       "    var(--pst-color-text-base rgba(0, 0, 0, 1))\n",
       "  );\n",
       "  --xr-font-color2: var(\n",
       "    --jp-content-font-color2,\n",
       "    var(--pst-color-text-base, rgba(0, 0, 0, 0.54))\n",
       "  );\n",
       "  --xr-font-color3: var(\n",
       "    --jp-content-font-color3,\n",
       "    var(--pst-color-text-base, rgba(0, 0, 0, 0.38))\n",
       "  );\n",
       "  --xr-border-color: var(\n",
       "    --jp-border-color2,\n",
       "    hsl(from var(--pst-color-on-background, white) h s calc(l - 10))\n",
       "  );\n",
       "  --xr-disabled-color: var(\n",
       "    --jp-layout-color3,\n",
       "    hsl(from var(--pst-color-on-background, white) h s calc(l - 40))\n",
       "  );\n",
       "  --xr-background-color: var(\n",
       "    --jp-layout-color0,\n",
       "    var(--pst-color-on-background, white)\n",
       "  );\n",
       "  --xr-background-color-row-even: var(\n",
       "    --jp-layout-color1,\n",
       "    hsl(from var(--pst-color-on-background, white) h s calc(l - 5))\n",
       "  );\n",
       "  --xr-background-color-row-odd: var(\n",
       "    --jp-layout-color2,\n",
       "    hsl(from var(--pst-color-on-background, white) h s calc(l - 15))\n",
       "  );\n",
       "}\n",
       "\n",
       "html[theme=\"dark\"],\n",
       "html[data-theme=\"dark\"],\n",
       "body[data-theme=\"dark\"],\n",
       "body.vscode-dark {\n",
       "  --xr-font-color0: var(\n",
       "    --jp-content-font-color0,\n",
       "    var(--pst-color-text-base, rgba(255, 255, 255, 1))\n",
       "  );\n",
       "  --xr-font-color2: var(\n",
       "    --jp-content-font-color2,\n",
       "    var(--pst-color-text-base, rgba(255, 255, 255, 0.54))\n",
       "  );\n",
       "  --xr-font-color3: var(\n",
       "    --jp-content-font-color3,\n",
       "    var(--pst-color-text-base, rgba(255, 255, 255, 0.38))\n",
       "  );\n",
       "  --xr-border-color: var(\n",
       "    --jp-border-color2,\n",
       "    hsl(from var(--pst-color-on-background, #111111) h s calc(l + 10))\n",
       "  );\n",
       "  --xr-disabled-color: var(\n",
       "    --jp-layout-color3,\n",
       "    hsl(from var(--pst-color-on-background, #111111) h s calc(l + 40))\n",
       "  );\n",
       "  --xr-background-color: var(\n",
       "    --jp-layout-color0,\n",
       "    var(--pst-color-on-background, #111111)\n",
       "  );\n",
       "  --xr-background-color-row-even: var(\n",
       "    --jp-layout-color1,\n",
       "    hsl(from var(--pst-color-on-background, #111111) h s calc(l + 5))\n",
       "  );\n",
       "  --xr-background-color-row-odd: var(\n",
       "    --jp-layout-color2,\n",
       "    hsl(from var(--pst-color-on-background, #111111) h s calc(l + 15))\n",
       "  );\n",
       "}\n",
       "\n",
       ".xr-wrap {\n",
       "  display: block !important;\n",
       "  min-width: 300px;\n",
       "  max-width: 700px;\n",
       "}\n",
       "\n",
       ".xr-text-repr-fallback {\n",
       "  /* fallback to plain text repr when CSS is not injected (untrusted notebook) */\n",
       "  display: none;\n",
       "}\n",
       "\n",
       ".xr-header {\n",
       "  padding-top: 6px;\n",
       "  padding-bottom: 6px;\n",
       "  margin-bottom: 4px;\n",
       "  border-bottom: solid 1px var(--xr-border-color);\n",
       "}\n",
       "\n",
       ".xr-header > div,\n",
       ".xr-header > ul {\n",
       "  display: inline;\n",
       "  margin-top: 0;\n",
       "  margin-bottom: 0;\n",
       "}\n",
       "\n",
       ".xr-obj-type,\n",
       ".xr-array-name {\n",
       "  margin-left: 2px;\n",
       "  margin-right: 10px;\n",
       "}\n",
       "\n",
       ".xr-obj-type {\n",
       "  color: var(--xr-font-color2);\n",
       "}\n",
       "\n",
       ".xr-sections {\n",
       "  padding-left: 0 !important;\n",
       "  display: grid;\n",
       "  grid-template-columns: 150px auto auto 1fr 0 20px 0 20px;\n",
       "}\n",
       "\n",
       ".xr-section-item {\n",
       "  display: contents;\n",
       "}\n",
       "\n",
       ".xr-section-item input {\n",
       "  display: inline-block;\n",
       "  opacity: 0;\n",
       "  height: 0;\n",
       "}\n",
       "\n",
       ".xr-section-item input + label {\n",
       "  color: var(--xr-disabled-color);\n",
       "  border: 2px solid transparent !important;\n",
       "}\n",
       "\n",
       ".xr-section-item input:enabled + label {\n",
       "  cursor: pointer;\n",
       "  color: var(--xr-font-color2);\n",
       "}\n",
       "\n",
       ".xr-section-item input:focus + label {\n",
       "  border: 2px solid var(--xr-font-color0) !important;\n",
       "}\n",
       "\n",
       ".xr-section-item input:enabled + label:hover {\n",
       "  color: var(--xr-font-color0);\n",
       "}\n",
       "\n",
       ".xr-section-summary {\n",
       "  grid-column: 1;\n",
       "  color: var(--xr-font-color2);\n",
       "  font-weight: 500;\n",
       "}\n",
       "\n",
       ".xr-section-summary > span {\n",
       "  display: inline-block;\n",
       "  padding-left: 0.5em;\n",
       "}\n",
       "\n",
       ".xr-section-summary-in:disabled + label {\n",
       "  color: var(--xr-font-color2);\n",
       "}\n",
       "\n",
       ".xr-section-summary-in + label:before {\n",
       "  display: inline-block;\n",
       "  content: \"►\";\n",
       "  font-size: 11px;\n",
       "  width: 15px;\n",
       "  text-align: center;\n",
       "}\n",
       "\n",
       ".xr-section-summary-in:disabled + label:before {\n",
       "  color: var(--xr-disabled-color);\n",
       "}\n",
       "\n",
       ".xr-section-summary-in:checked + label:before {\n",
       "  content: \"▼\";\n",
       "}\n",
       "\n",
       ".xr-section-summary-in:checked + label > span {\n",
       "  display: none;\n",
       "}\n",
       "\n",
       ".xr-section-summary,\n",
       ".xr-section-inline-details {\n",
       "  padding-top: 4px;\n",
       "  padding-bottom: 4px;\n",
       "}\n",
       "\n",
       ".xr-section-inline-details {\n",
       "  grid-column: 2 / -1;\n",
       "}\n",
       "\n",
       ".xr-section-details {\n",
       "  display: none;\n",
       "  grid-column: 1 / -1;\n",
       "  margin-bottom: 5px;\n",
       "}\n",
       "\n",
       ".xr-section-summary-in:checked ~ .xr-section-details {\n",
       "  display: contents;\n",
       "}\n",
       "\n",
       ".xr-array-wrap {\n",
       "  grid-column: 1 / -1;\n",
       "  display: grid;\n",
       "  grid-template-columns: 20px auto;\n",
       "}\n",
       "\n",
       ".xr-array-wrap > label {\n",
       "  grid-column: 1;\n",
       "  vertical-align: top;\n",
       "}\n",
       "\n",
       ".xr-preview {\n",
       "  color: var(--xr-font-color3);\n",
       "}\n",
       "\n",
       ".xr-array-preview,\n",
       ".xr-array-data {\n",
       "  padding: 0 5px !important;\n",
       "  grid-column: 2;\n",
       "}\n",
       "\n",
       ".xr-array-data,\n",
       ".xr-array-in:checked ~ .xr-array-preview {\n",
       "  display: none;\n",
       "}\n",
       "\n",
       ".xr-array-in:checked ~ .xr-array-data,\n",
       ".xr-array-preview {\n",
       "  display: inline-block;\n",
       "}\n",
       "\n",
       ".xr-dim-list {\n",
       "  display: inline-block !important;\n",
       "  list-style: none;\n",
       "  padding: 0 !important;\n",
       "  margin: 0;\n",
       "}\n",
       "\n",
       ".xr-dim-list li {\n",
       "  display: inline-block;\n",
       "  padding: 0;\n",
       "  margin: 0;\n",
       "}\n",
       "\n",
       ".xr-dim-list:before {\n",
       "  content: \"(\";\n",
       "}\n",
       "\n",
       ".xr-dim-list:after {\n",
       "  content: \")\";\n",
       "}\n",
       "\n",
       ".xr-dim-list li:not(:last-child):after {\n",
       "  content: \",\";\n",
       "  padding-right: 5px;\n",
       "}\n",
       "\n",
       ".xr-has-index {\n",
       "  font-weight: bold;\n",
       "}\n",
       "\n",
       ".xr-var-list,\n",
       ".xr-var-item {\n",
       "  display: contents;\n",
       "}\n",
       "\n",
       ".xr-var-item > div,\n",
       ".xr-var-item label,\n",
       ".xr-var-item > .xr-var-name span {\n",
       "  background-color: var(--xr-background-color-row-even);\n",
       "  border-color: var(--xr-background-color-row-odd);\n",
       "  margin-bottom: 0;\n",
       "  padding-top: 2px;\n",
       "}\n",
       "\n",
       ".xr-var-item > .xr-var-name:hover span {\n",
       "  padding-right: 5px;\n",
       "}\n",
       "\n",
       ".xr-var-list > li:nth-child(odd) > div,\n",
       ".xr-var-list > li:nth-child(odd) > label,\n",
       ".xr-var-list > li:nth-child(odd) > .xr-var-name span {\n",
       "  background-color: var(--xr-background-color-row-odd);\n",
       "  border-color: var(--xr-background-color-row-even);\n",
       "}\n",
       "\n",
       ".xr-var-name {\n",
       "  grid-column: 1;\n",
       "}\n",
       "\n",
       ".xr-var-dims {\n",
       "  grid-column: 2;\n",
       "}\n",
       "\n",
       ".xr-var-dtype {\n",
       "  grid-column: 3;\n",
       "  text-align: right;\n",
       "  color: var(--xr-font-color2);\n",
       "}\n",
       "\n",
       ".xr-var-preview {\n",
       "  grid-column: 4;\n",
       "}\n",
       "\n",
       ".xr-index-preview {\n",
       "  grid-column: 2 / 5;\n",
       "  color: var(--xr-font-color2);\n",
       "}\n",
       "\n",
       ".xr-var-name,\n",
       ".xr-var-dims,\n",
       ".xr-var-dtype,\n",
       ".xr-preview,\n",
       ".xr-attrs dt {\n",
       "  white-space: nowrap;\n",
       "  overflow: hidden;\n",
       "  text-overflow: ellipsis;\n",
       "  padding-right: 10px;\n",
       "}\n",
       "\n",
       ".xr-var-name:hover,\n",
       ".xr-var-dims:hover,\n",
       ".xr-var-dtype:hover,\n",
       ".xr-attrs dt:hover {\n",
       "  overflow: visible;\n",
       "  width: auto;\n",
       "  z-index: 1;\n",
       "}\n",
       "\n",
       ".xr-var-attrs,\n",
       ".xr-var-data,\n",
       ".xr-index-data {\n",
       "  display: none;\n",
       "  border-top: 2px dotted var(--xr-background-color);\n",
       "  padding-bottom: 20px !important;\n",
       "  padding-top: 10px !important;\n",
       "}\n",
       "\n",
       ".xr-var-attrs-in + label,\n",
       ".xr-var-data-in + label,\n",
       ".xr-index-data-in + label {\n",
       "  padding: 0 1px;\n",
       "}\n",
       "\n",
       ".xr-var-attrs-in:checked ~ .xr-var-attrs,\n",
       ".xr-var-data-in:checked ~ .xr-var-data,\n",
       ".xr-index-data-in:checked ~ .xr-index-data {\n",
       "  display: block;\n",
       "}\n",
       "\n",
       ".xr-var-data > table {\n",
       "  float: right;\n",
       "}\n",
       "\n",
       ".xr-var-data > pre,\n",
       ".xr-index-data > pre,\n",
       ".xr-var-data > table > tbody > tr {\n",
       "  background-color: transparent !important;\n",
       "}\n",
       "\n",
       ".xr-var-name span,\n",
       ".xr-var-data,\n",
       ".xr-index-name div,\n",
       ".xr-index-data,\n",
       ".xr-attrs {\n",
       "  padding-left: 25px !important;\n",
       "}\n",
       "\n",
       ".xr-attrs,\n",
       ".xr-var-attrs,\n",
       ".xr-var-data,\n",
       ".xr-index-data {\n",
       "  grid-column: 1 / -1;\n",
       "}\n",
       "\n",
       "dl.xr-attrs {\n",
       "  padding: 0;\n",
       "  margin: 0;\n",
       "  display: grid;\n",
       "  grid-template-columns: 125px auto;\n",
       "}\n",
       "\n",
       ".xr-attrs dt,\n",
       ".xr-attrs dd {\n",
       "  padding: 0;\n",
       "  margin: 0;\n",
       "  float: left;\n",
       "  padding-right: 10px;\n",
       "  width: auto;\n",
       "}\n",
       "\n",
       ".xr-attrs dt {\n",
       "  font-weight: normal;\n",
       "  grid-column: 1;\n",
       "}\n",
       "\n",
       ".xr-attrs dt:hover span {\n",
       "  display: inline-block;\n",
       "  background: var(--xr-background-color);\n",
       "  padding-right: 10px;\n",
       "}\n",
       "\n",
       ".xr-attrs dd {\n",
       "  grid-column: 2;\n",
       "  white-space: pre-wrap;\n",
       "  word-break: break-all;\n",
       "}\n",
       "\n",
       ".xr-icon-database,\n",
       ".xr-icon-file-text2,\n",
       ".xr-no-icon {\n",
       "  display: inline-block;\n",
       "  vertical-align: middle;\n",
       "  width: 1em;\n",
       "  height: 1.5em !important;\n",
       "  stroke-width: 0;\n",
       "  stroke: currentColor;\n",
       "  fill: currentColor;\n",
       "}\n",
       "\n",
       ".xr-var-attrs-in:checked + label > .xr-icon-file-text2,\n",
       ".xr-var-data-in:checked + label > .xr-icon-database,\n",
       ".xr-index-data-in:checked + label > .xr-icon-database {\n",
       "  color: var(--xr-font-color0);\n",
       "  filter: drop-shadow(1px 1px 5px var(--xr-font-color2));\n",
       "  stroke-width: 0.8px;\n",
       "}\n",
       "</style><pre class='xr-text-repr-fallback'>&lt;xarray.Dataset&gt; Size: 138MB\n",
       "Dimensions:  (time: 1872, lat: 96, lon: 192)\n",
       "Coordinates:\n",
       "  * time     (time) datetime64[ns] 15kB NaT NaT NaT NaT NaT ... NaT NaT NaT NaT\n",
       "  * lon      (lon) float64 2kB nan nan nan nan nan nan ... nan nan nan nan nan\n",
       "  * lat      (lat) float64 768B nan nan nan nan nan nan ... nan nan nan nan nan\n",
       "Data variables:\n",
       "    tas      (time, lat, lon) float32 138MB ...\n",
       "Attributes:\n",
       "    CDI:          Climate Data Interface version 1.9.5 (http://mpimet.mpg.de/...\n",
       "    Conventions:  CF-1.6\n",
       "    history:      Thu Dec 13 08:45:54 2018: cdo -f nc -r setpartabn,tas.parta...\n",
       "    institution:  Max-Planck-Institute for Meteorology\n",
       "    CDO:          Climate Data Operators version 1.9.5 (http://mpimet.mpg.de/...</pre><div class='xr-wrap' style='display:none'><div class='xr-header'><div class='xr-obj-type'>xarray.Dataset</div></div><ul class='xr-sections'><li class='xr-section-item'><input id='section-2eb8e1bc-95e1-4983-861c-27630ac045c3' class='xr-section-summary-in' type='checkbox' disabled ><label for='section-2eb8e1bc-95e1-4983-861c-27630ac045c3' class='xr-section-summary'  title='Expand/collapse section'>Dimensions:</label><div class='xr-section-inline-details'><ul class='xr-dim-list'><li><span class='xr-has-index'>time</span>: 1872</li><li><span class='xr-has-index'>lat</span>: 96</li><li><span class='xr-has-index'>lon</span>: 192</li></ul></div><div class='xr-section-details'></div></li><li class='xr-section-item'><input id='section-8261fed8-322e-4ce5-b293-0b2fccdefe49' class='xr-section-summary-in' type='checkbox'  checked><label for='section-8261fed8-322e-4ce5-b293-0b2fccdefe49' class='xr-section-summary' >Coordinates: <span>(3)</span></label><div class='xr-section-inline-details'></div><div class='xr-section-details'><ul class='xr-var-list'><li class='xr-var-item'><div class='xr-var-name'><span class='xr-has-index'>time</span></div><div class='xr-var-dims'>(time)</div><div class='xr-var-dtype'>datetime64[ns]</div><div class='xr-var-preview xr-preview'>NaT NaT NaT NaT ... NaT NaT NaT NaT</div><input id='attrs-fa19410e-ddd2-421b-bfe6-0040581d198b' class='xr-var-attrs-in' type='checkbox' ><label for='attrs-fa19410e-ddd2-421b-bfe6-0040581d198b' title='Show/Hide attributes'><svg class='icon xr-icon-file-text2'><use xlink:href='#icon-file-text2'></use></svg></label><input id='data-b2eeff2a-1d4d-49bf-bca4-516fc7326a17' class='xr-var-data-in' type='checkbox'><label for='data-b2eeff2a-1d4d-49bf-bca4-516fc7326a17' title='Show/Hide data repr'><svg class='icon xr-icon-database'><use xlink:href='#icon-database'></use></svg></label><div class='xr-var-attrs'><dl class='xr-attrs'><dt><span>standard_name :</span></dt><dd>time</dd><dt><span>axis :</span></dt><dd>T</dd></dl></div><div class='xr-var-data'><pre>array([&#x27;NaT&#x27;, &#x27;NaT&#x27;, &#x27;NaT&#x27;, ..., &#x27;NaT&#x27;, &#x27;NaT&#x27;, &#x27;NaT&#x27;],\n",
       "      shape=(1872,), dtype=&#x27;datetime64[ns]&#x27;)</pre></div></li><li class='xr-var-item'><div class='xr-var-name'><span class='xr-has-index'>lon</span></div><div class='xr-var-dims'>(lon)</div><div class='xr-var-dtype'>float64</div><div class='xr-var-preview xr-preview'>nan nan nan nan ... nan nan nan nan</div><input id='attrs-6a768005-bc03-4645-a5e2-0539d0416c80' class='xr-var-attrs-in' type='checkbox' ><label for='attrs-6a768005-bc03-4645-a5e2-0539d0416c80' title='Show/Hide attributes'><svg class='icon xr-icon-file-text2'><use xlink:href='#icon-file-text2'></use></svg></label><input id='data-e9a155d4-3e09-4fa6-9527-5e2c653e8551' class='xr-var-data-in' type='checkbox'><label for='data-e9a155d4-3e09-4fa6-9527-5e2c653e8551' title='Show/Hide data repr'><svg class='icon xr-icon-database'><use xlink:href='#icon-database'></use></svg></label><div class='xr-var-attrs'><dl class='xr-attrs'><dt><span>standard_name :</span></dt><dd>longitude</dd><dt><span>long_name :</span></dt><dd>longitude</dd><dt><span>units :</span></dt><dd>degrees_east</dd><dt><span>axis :</span></dt><dd>X</dd></dl></div><div class='xr-var-data'><pre>array([nan, nan, nan, nan, nan, nan, nan, nan, nan, nan, nan, nan, nan, nan,\n",
       "       nan, nan, nan, nan, nan, nan, nan, nan, nan, nan, nan, nan, nan, nan,\n",
       "       nan, nan, nan, nan, nan, nan, nan, nan, nan, nan, nan, nan, nan, nan,\n",
       "       nan, nan, nan, nan, nan, nan, nan, nan, nan, nan, nan, nan, nan, nan,\n",
       "       nan, nan, nan, nan, nan, nan, nan, nan, nan, nan, nan, nan, nan, nan,\n",
       "       nan, nan, nan, nan, nan, nan, nan, nan, nan, nan, nan, nan, nan, nan,\n",
       "       nan, nan, nan, nan, nan, nan, nan, nan, nan, nan, nan, nan, nan, nan,\n",
       "       nan, nan, nan, nan, nan, nan, nan, nan, nan, nan, nan, nan, nan, nan,\n",
       "       nan, nan, nan, nan, nan, nan, nan, nan, nan, nan, nan, nan, nan, nan,\n",
       "       nan, nan, nan, nan, nan, nan, nan, nan, nan, nan, nan, nan, nan, nan,\n",
       "       nan, nan, nan, nan, nan, nan, nan, nan, nan, nan, nan, nan, nan, nan,\n",
       "       nan, nan, nan, nan, nan, nan, nan, nan, nan, nan, nan, nan, nan, nan,\n",
       "       nan, nan, nan, nan, nan, nan, nan, nan, nan, nan, nan, nan, nan, nan,\n",
       "       nan, nan, nan, nan, nan, nan, nan, nan, nan, nan])</pre></div></li><li class='xr-var-item'><div class='xr-var-name'><span class='xr-has-index'>lat</span></div><div class='xr-var-dims'>(lat)</div><div class='xr-var-dtype'>float64</div><div class='xr-var-preview xr-preview'>nan nan nan nan ... nan nan nan nan</div><input id='attrs-22fb7ccf-2b20-4ebe-9c15-5d75fb260ba4' class='xr-var-attrs-in' type='checkbox' ><label for='attrs-22fb7ccf-2b20-4ebe-9c15-5d75fb260ba4' title='Show/Hide attributes'><svg class='icon xr-icon-file-text2'><use xlink:href='#icon-file-text2'></use></svg></label><input id='data-c1b11f4b-fe51-47a4-8ae9-13de9bff8e42' class='xr-var-data-in' type='checkbox'><label for='data-c1b11f4b-fe51-47a4-8ae9-13de9bff8e42' title='Show/Hide data repr'><svg class='icon xr-icon-database'><use xlink:href='#icon-database'></use></svg></label><div class='xr-var-attrs'><dl class='xr-attrs'><dt><span>standard_name :</span></dt><dd>latitude</dd><dt><span>long_name :</span></dt><dd>latitude</dd><dt><span>units :</span></dt><dd>degrees_north</dd><dt><span>axis :</span></dt><dd>Y</dd></dl></div><div class='xr-var-data'><pre>array([nan, nan, nan, nan, nan, nan, nan, nan, nan, nan, nan, nan, nan, nan,\n",
       "       nan, nan, nan, nan, nan, nan, nan, nan, nan, nan, nan, nan, nan, nan,\n",
       "       nan, nan, nan, nan, nan, nan, nan, nan, nan, nan, nan, nan, nan, nan,\n",
       "       nan, nan, nan, nan, nan, nan, nan, nan, nan, nan, nan, nan, nan, nan,\n",
       "       nan, nan, nan, nan, nan, nan, nan, nan, nan, nan, nan, nan, nan, nan,\n",
       "       nan, nan, nan, nan, nan, nan, nan, nan, nan, nan, nan, nan, nan, nan,\n",
       "       nan, nan, nan, nan, nan, nan, nan, nan, nan, nan, nan, nan])</pre></div></li></ul></div></li><li class='xr-section-item'><input id='section-d544db2f-ca30-4a99-b2fd-414aa27a1fa8' class='xr-section-summary-in' type='checkbox'  checked><label for='section-d544db2f-ca30-4a99-b2fd-414aa27a1fa8' class='xr-section-summary' >Data variables: <span>(1)</span></label><div class='xr-section-inline-details'></div><div class='xr-section-details'><ul class='xr-var-list'><li class='xr-var-item'><div class='xr-var-name'><span>tas</span></div><div class='xr-var-dims'>(time, lat, lon)</div><div class='xr-var-dtype'>float32</div><div class='xr-var-preview xr-preview'>...</div><input id='attrs-32a2cdad-f445-4ed2-96b9-04c0c30b3ce9' class='xr-var-attrs-in' type='checkbox' ><label for='attrs-32a2cdad-f445-4ed2-96b9-04c0c30b3ce9' title='Show/Hide attributes'><svg class='icon xr-icon-file-text2'><use xlink:href='#icon-file-text2'></use></svg></label><input id='data-4cde8770-f903-4c8b-ba05-a3b5a4cf1e4d' class='xr-var-data-in' type='checkbox'><label for='data-4cde8770-f903-4c8b-ba05-a3b5a4cf1e4d' title='Show/Hide data repr'><svg class='icon xr-icon-database'><use xlink:href='#icon-database'></use></svg></label><div class='xr-var-attrs'><dl class='xr-attrs'><dt><span>long_name :</span></dt><dd>Near-Surface Air Temperature</dd><dt><span>units :</span></dt><dd>K</dd><dt><span>code :</span></dt><dd>167</dd><dt><span>table :</span></dt><dd>128</dd></dl></div><div class='xr-var-data'><pre>[34504704 values with dtype=float32]</pre></div></li></ul></div></li><li class='xr-section-item'><input id='section-f80b7778-4309-43c8-a18c-5e14dae95fa5' class='xr-section-summary-in' type='checkbox'  ><label for='section-f80b7778-4309-43c8-a18c-5e14dae95fa5' class='xr-section-summary' >Indexes: <span>(3)</span></label><div class='xr-section-inline-details'></div><div class='xr-section-details'><ul class='xr-var-list'><li class='xr-var-item'><div class='xr-index-name'><div>time</div></div><div class='xr-index-preview'>PandasIndex</div><input type='checkbox' disabled/><label></label><input id='index-d4b8c1d1-1d2a-4344-b41f-8c2b077a6e79' class='xr-index-data-in' type='checkbox'/><label for='index-d4b8c1d1-1d2a-4344-b41f-8c2b077a6e79' title='Show/Hide index repr'><svg class='icon xr-icon-database'><use xlink:href='#icon-database'></use></svg></label><div class='xr-index-data'><pre>PandasIndex(DatetimeIndex([&#x27;NaT&#x27;, &#x27;NaT&#x27;, &#x27;NaT&#x27;, &#x27;NaT&#x27;, &#x27;NaT&#x27;, &#x27;NaT&#x27;, &#x27;NaT&#x27;, &#x27;NaT&#x27;, &#x27;NaT&#x27;,\n",
       "               &#x27;NaT&#x27;,\n",
       "               ...\n",
       "               &#x27;NaT&#x27;, &#x27;NaT&#x27;, &#x27;NaT&#x27;, &#x27;NaT&#x27;, &#x27;NaT&#x27;, &#x27;NaT&#x27;, &#x27;NaT&#x27;, &#x27;NaT&#x27;, &#x27;NaT&#x27;,\n",
       "               &#x27;NaT&#x27;],\n",
       "              dtype=&#x27;datetime64[ns]&#x27;, name=&#x27;time&#x27;, length=1872, freq=None))</pre></div></li><li class='xr-var-item'><div class='xr-index-name'><div>lon</div></div><div class='xr-index-preview'>PandasIndex</div><input type='checkbox' disabled/><label></label><input id='index-89f6ced5-e3bb-48ba-bbbe-b9eaf285585e' class='xr-index-data-in' type='checkbox'/><label for='index-89f6ced5-e3bb-48ba-bbbe-b9eaf285585e' title='Show/Hide index repr'><svg class='icon xr-icon-database'><use xlink:href='#icon-database'></use></svg></label><div class='xr-index-data'><pre>PandasIndex(Index([nan, nan, nan, nan, nan, nan, nan, nan, nan, nan,\n",
       "       ...\n",
       "       nan, nan, nan, nan, nan, nan, nan, nan, nan, nan],\n",
       "      dtype=&#x27;float64&#x27;, name=&#x27;lon&#x27;, length=192))</pre></div></li><li class='xr-var-item'><div class='xr-index-name'><div>lat</div></div><div class='xr-index-preview'>PandasIndex</div><input type='checkbox' disabled/><label></label><input id='index-ff0adbc5-5cbb-4c73-83f2-79248787ae0c' class='xr-index-data-in' type='checkbox'/><label for='index-ff0adbc5-5cbb-4c73-83f2-79248787ae0c' title='Show/Hide index repr'><svg class='icon xr-icon-database'><use xlink:href='#icon-database'></use></svg></label><div class='xr-index-data'><pre>PandasIndex(Index([nan, nan, nan, nan, nan, nan, nan, nan, nan, nan, nan, nan, nan, nan,\n",
       "       nan, nan, nan, nan, nan, nan, nan, nan, nan, nan, nan, nan, nan, nan,\n",
       "       nan, nan, nan, nan, nan, nan, nan, nan, nan, nan, nan, nan, nan, nan,\n",
       "       nan, nan, nan, nan, nan, nan, nan, nan, nan, nan, nan, nan, nan, nan,\n",
       "       nan, nan, nan, nan, nan, nan, nan, nan, nan, nan, nan, nan, nan, nan,\n",
       "       nan, nan, nan, nan, nan, nan, nan, nan, nan, nan, nan, nan, nan, nan,\n",
       "       nan, nan, nan, nan, nan, nan, nan, nan, nan, nan, nan, nan],\n",
       "      dtype=&#x27;float64&#x27;, name=&#x27;lat&#x27;))</pre></div></li></ul></div></li><li class='xr-section-item'><input id='section-c175ae7b-829a-45fd-bb35-2ab9b4aca629' class='xr-section-summary-in' type='checkbox'  checked><label for='section-c175ae7b-829a-45fd-bb35-2ab9b4aca629' class='xr-section-summary' >Attributes: <span>(5)</span></label><div class='xr-section-inline-details'></div><div class='xr-section-details'><dl class='xr-attrs'><dt><span>CDI :</span></dt><dd>Climate Data Interface version 1.9.5 (http://mpimet.mpg.de/cdi)</dd><dt><span>Conventions :</span></dt><dd>CF-1.6</dd><dt><span>history :</span></dt><dd>Thu Dec 13 08:45:54 2018: cdo -f nc -r setpartabn,tas.partab -invertlat -setvar,tas tas.tmp tas.nc</dd><dt><span>institution :</span></dt><dd>Max-Planck-Institute for Meteorology</dd><dt><span>CDO :</span></dt><dd>Climate Data Operators version 1.9.5 (http://mpimet.mpg.de/cdo)</dd></dl></div></li></ul></div></div>"
      ],
      "text/plain": [
       "<xarray.Dataset> Size: 138MB\n",
       "Dimensions:  (time: 1872, lat: 96, lon: 192)\n",
       "Coordinates:\n",
       "  * time     (time) datetime64[ns] 15kB NaT NaT NaT NaT NaT ... NaT NaT NaT NaT\n",
       "  * lon      (lon) float64 2kB nan nan nan nan nan nan ... nan nan nan nan nan\n",
       "  * lat      (lat) float64 768B nan nan nan nan nan nan ... nan nan nan nan nan\n",
       "Data variables:\n",
       "    tas      (time, lat, lon) float32 138MB ...\n",
       "Attributes:\n",
       "    CDI:          Climate Data Interface version 1.9.5 (http://mpimet.mpg.de/...\n",
       "    Conventions:  CF-1.6\n",
       "    history:      Thu Dec 13 08:45:54 2018: cdo -f nc -r setpartabn,tas.parta...\n",
       "    institution:  Max-Planck-Institute for Meteorology\n",
       "    CDO:          Climate Data Operators version 1.9.5 (http://mpimet.mpg.de/..."
      ]
     },
     "execution_count": 26,
     "metadata": {},
     "output_type": "execute_result"
    }
   ],
   "source": [
    "ds = xr.open_dataset(\n",
    "    uri,\n",
    "    engine=\"zarr\", \n",
    "    storage_options={\n",
    "        \"headers\":{\"Authorization\": f\"Bearer {token['access_token']}\"}\n",
    "   })\n",
    "ds"
   ]
  },
  {
   "cell_type": "markdown",
   "id": "b05c4891",
   "metadata": {
    "slideshow": {
     "slide_type": "subslide"
    }
   },
   "source": [
    "<div style=\"padding: 10px; font-family: Arial, sans-serif; background: linear-gradient(135deg, #f39c12 0%, #e67e22 100%); border-radius: 12px; margin: 20px 0; box-shadow: 0 4px 15px rgba(0,0,0,0.1);\">\n",
    "    <div style=\"display: flex; align-items: center; gap: 20px;\">\n",
    "        <div style=\"background: white; color: #f39c12; width: 60px; height: 60px; border-radius: 50%; display: flex; align-items: center; justify-content: center; font-weight: bold; font-size: 2em; box-shadow: 0 3px 8px rgba(0,0,0,0.2); flex-shrink: 0;\">3</div>\n",
    "        <div style=\"color: white; text-align: left; flex: 1;\">\n",
    "            <h1 style=\"margin: 0; font-size: 2.5em; font-weight: bold; text-align: left;\">Access <span style=\"font-size: 0.6em; font-weight: normal;\">(Accessiblity)</span></h1>\n",
    "        </div>\n",
    "    </div>\n",
    "</div>"
   ]
  },
  {
   "cell_type": "markdown",
   "id": "7be8eedd",
   "metadata": {
    "slideshow": {
     "slide_type": "fragment"
    }
   },
   "source": [
    "<img src=\"https://cdn.jsdelivr.net/gh/devicons/devicon/icons/bash/bash-original.svg\" width=\"40\" style=\"display: block; margin: 0; text-align: left;\">"
   ]
  },
  {
   "cell_type": "code",
   "execution_count": null,
   "id": "b6dbe4a3",
   "metadata": {
    "vscode": {
     "languageId": "shellscript"
    }
   },
   "outputs": [],
   "source": [
    "$ freva-client databrowser data-search --host www.gems.dkrz.de \\\n",
    "--flavour cmip6 mip_era=mpi-ge \\\n",
    "experiment_id=historical variable_id=tas --zarr"
   ]
  },
  {
   "cell_type": "code",
   "execution_count": 64,
   "id": "2ceeccdd",
   "metadata": {
    "slideshow": {
     "slide_type": "fragment"
    },
    "tags": [
     "hide_input"
    ]
   },
   "outputs": [
    {
     "name": "stdout",
     "output_type": "stream",
     "text": [
      "https://www.nextgems.dkrz.de/api/freva-nextgen/data-portal/zarr/5b8ec334-d2c9-536d-9b8e-249bbd34ac23.zarr\n"
     ]
    }
   ],
   "source": [
    "\n",
    "cmd(\"databrowser data-search --host www.gems.dkrz.de --flavour cmip6 mip_era=mpi-ge experiment_id=historical variable_id=tas --zarr\", limit=1)"
   ]
  },
  {
   "cell_type": "code",
   "execution_count": 105,
   "id": "0565e7c8",
   "metadata": {
    "slideshow": {
     "slide_type": "fragment"
    },
    "vscode": {
     "languageId": "shellscript"
    }
   },
   "outputs": [
    {
     "name": "stdout",
     "output_type": "stream",
     "text": [
      "lat\n",
      "lon\n",
      "tas\n",
      "time\n"
     ]
    }
   ],
   "source": [
    "!curl -s -H \"Authorization: Bearer {token['access_token']}\" \\\n",
    "      -O {uri}/.zmetadata\n",
    "!/run/current-system/sw/bin/jq -r '.metadata | keys[] | select(test(\"/.zarray$\")) | gsub(\"/\\\\.zarray$\"; \"\")' .zmetadata\n"
   ]
  },
  {
   "cell_type": "markdown",
   "id": "91ad3da8",
   "metadata": {
    "slideshow": {
     "slide_type": "subslide"
    }
   },
   "source": [
    "<div style=\"padding: 10px; font-family: Arial, sans-serif; background: linear-gradient(135deg, #f39c12 0%, #e67e22 100%); border-radius: 12px; margin: 20px 0; box-shadow: 0 4px 15px rgba(0,0,0,0.1);\">\n",
    "    <div style=\"display: flex; align-items: center; gap: 20px;\">\n",
    "        <div style=\"background: white; color: #f39c12; width: 60px; height: 60px; border-radius: 50%; display: flex; align-items: center; justify-content: center; font-weight: bold; font-size: 2em; box-shadow: 0 3px 8px rgba(0,0,0,0.2); flex-shrink: 0;\">3</div>\n",
    "        <div style=\"color: white; text-align: left; flex: 1;\">\n",
    "            <h1 style=\"margin: 0; font-size: 2.5em; font-weight: bold; text-align: left;\">Access <span style=\"font-size: 0.6em; font-weight: normal;\">(Accessiblity)</span></h1>\n",
    "        </div>\n",
    "    </div>\n",
    "</div>"
   ]
  },
  {
   "cell_type": "markdown",
   "id": "274e027f",
   "metadata": {
    "slideshow": {
     "slide_type": "fragment"
    }
   },
   "source": [
    "<img src=\"https://cdnjs.cloudflare.com/ajax/libs/bootstrap-icons/1.13.1/icons/globe.svg\" width=\"40\" style=\"display: block; margin: 0; text-align: left;\">"
   ]
  },
  {
   "cell_type": "markdown",
   "id": "9bb6ad4b",
   "metadata": {
    "slideshow": {
     "slide_type": "fragment"
    }
   },
   "source": [
    "<video style=\"text-align: left; display: block;\" width=\"800\" controls>\n",
    "  <source src=\"media/access_metadata_final_q.mp4\" type=\"video/mp4\">\n",
    "</video>"
   ]
  },
  {
   "cell_type": "markdown",
   "id": "3b0d9da7",
   "metadata": {
    "slideshow": {
     "slide_type": "slide"
    }
   },
   "source": [
    "<div style=\"padding: 10px; font-family: Arial, sans-serif; background: linear-gradient(135deg, #27ae60 0%, #229954 100%); border-radius: 12px; margin: 20px 0; box-shadow: 0 4px 15px rgba(0,0,0,0.1);\">\n",
    "    <div style=\"display: flex; align-items: center; gap: 20px;\">\n",
    "        <div style=\"background: white; color: #27ae60; width: 60px; height: 60px; border-radius: 50%; display: flex; align-items: center; justify-content: center; font-weight: bold; font-size: 2em; box-shadow: 0 3px 8px rgba(0,0,0,0.2); flex-shrink: 0;\">4</div>\n",
    "        <div style=\"color: white; text-align: left; flex: 1;\">\n",
    "            <h1 style=\"margin: 0; font-size: 2.5em; font-weight: bold; text-align: left;\">Customize Dataset <span style=\"font-size: 0.6em; font-weight: normal;\">(Interoperablity)</span></h1>\n",
    "        </div>\n",
    "    </div>\n",
    "</div>"
   ]
  },
  {
   "cell_type": "markdown",
   "id": "d4290f9c",
   "metadata": {},
   "source": [
    "### Generate a dummy SST data"
   ]
  },
  {
   "cell_type": "code",
   "execution_count": 58,
   "id": "49f5f8c4",
   "metadata": {
    "slideshow": {
     "slide_type": "fragment"
    }
   },
   "outputs": [
    {
     "name": "stdout",
     "output_type": "stream",
     "text": [
      "check if dummy_sst_mo.nc exists: True\n"
     ]
    }
   ],
   "source": [
    "import numpy as np, xarray as xr\n",
    "from getpass import getuser\n",
    "time = np.arange(\"2025-01\",\"2026-01\",dtype=\"datetime64[M]\")\n",
    "lat, lon = np.linspace(-30,30,121), np.linspace(120,290,171)\n",
    "da = (xr.DataArray(28 - 0.006*(lon-230), dims=(\"lon\",), coords={\"lon\":lon})\n",
    "      .expand_dims(time=time, lat=lat))\n",
    "da.name = \"sst\"; da.attrs.update(long_name=\"Idealized Pacific SST\", units=\"°C\")\n",
    "da.to_netcdf(f\"dummy_sst_{getuser()}.nc\")\n",
    "print(f\"check if dummy_sst_{getuser()}.nc exists: {os.path.exists(f'dummy_sst_{getuser()}.nc')}\")\n"
   ]
  },
  {
   "cell_type": "markdown",
   "id": "45c97de0",
   "metadata": {
    "slideshow": {
     "slide_type": "subslide"
    }
   },
   "source": [
    "<div style=\"padding: 10px; font-family: Arial, sans-serif; background: linear-gradient(135deg, #27ae60 0%, #229954 100%); border-radius: 12px; margin: 20px 0; box-shadow: 0 4px 15px rgba(0,0,0,0.1);\">\n",
    "    <div style=\"display: flex; align-items: center; gap: 20px;\">\n",
    "        <div style=\"background: white; color: #27ae60; width: 60px; height: 60px; border-radius: 50%; display: flex; align-items: center; justify-content: center; font-weight: bold; font-size: 2em; box-shadow: 0 3px 8px rgba(0,0,0,0.2); flex-shrink: 0;\">4</div>\n",
    "        <div style=\"color: white; text-align: left; flex: 1;\">\n",
    "            <h1 style=\"margin: 0; font-size: 2.5em; font-weight: bold; text-align: left;\">Customize Dataset <span style=\"font-size: 0.6em; font-weight: normal;\">(Interoperablity)</span></h1>\n",
    "        </div>\n",
    "    </div>\n",
    "</div>"
   ]
  },
  {
   "cell_type": "markdown",
   "id": "f5dd708b",
   "metadata": {},
   "source": [
    "### Plot the dummy SST data"
   ]
  },
  {
   "cell_type": "code",
   "execution_count": 34,
   "id": "55b561ef",
   "metadata": {
    "slideshow": {
     "slide_type": "fragment"
    }
   },
   "outputs": [
    {
     "data": {
      "image/png": "[encoded data removed]",
      "text/plain": [
       "<Figure size 800x400 with 2 Axes>"
      ]
     },
     "metadata": {},
     "output_type": "display_data"
    }
   ],
   "source": [
    "import matplotlib.pyplot as plt, cartopy.crs as ccrs, cartopy.feature as cfeature\n",
    "\n",
    "fig, ax = plt.subplots(figsize=(8,4), subplot_kw=dict(projection=ccrs.PlateCarree(180)))\n",
    "da.mean(\"time\").plot.pcolormesh(ax=ax, transform=ccrs.PlateCarree(), cmap=\"coolwarm\", add_colorbar=True)\n",
    "\n",
    "ax.add_feature(cfeature.LAND, facecolor=\"white\", zorder=2); ax.coastlines(zorder=3); ax.add_feature(cfeature.BORDERS, linestyle=\":\", zorder=3)\n",
    "plt.title(\"Pacific SST\"); plt.tight_layout(); plt.show()"
   ]
  },
  {
   "cell_type": "markdown",
   "id": "afee8384",
   "metadata": {
    "slideshow": {
     "slide_type": "subslide"
    }
   },
   "source": [
    "<div style=\"padding: 10px; font-family: Arial, sans-serif; background: linear-gradient(135deg, #27ae60 0%, #229954 100%); border-radius: 12px; margin: 20px 0; box-shadow: 0 4px 15px rgba(0,0,0,0.1);\">\n",
    "    <div style=\"display: flex; align-items: center; gap: 20px;\">\n",
    "        <div style=\"background: white; color: #27ae60; width: 60px; height: 60px; border-radius: 50%; display: flex; align-items: center; justify-content: center; font-weight: bold; font-size: 2em; box-shadow: 0 3px 8px rgba(0,0,0,0.2); flex-shrink: 0;\">4</div>\n",
    "        <div style=\"color: white; text-align: left; flex: 1;\">\n",
    "            <h1 style=\"margin: 0; font-size: 2.5em; font-weight: bold; text-align: left;\">Customize Dataset <span style=\"font-size: 0.6em; font-weight: normal;\">(Interoperablity)</span></h1>\n",
    "        </div>\n",
    "    </div>\n",
    "</div>"
   ]
  },
  {
   "cell_type": "markdown",
   "id": "03f997ab",
   "metadata": {},
   "source": [
    "### Add/Remove the dummy SST data to/from Freva"
   ]
  },
  {
   "cell_type": "markdown",
   "id": "bc657f96",
   "metadata": {
    "slideshow": {
     "slide_type": "fragment"
    }
   },
   "source": [
    "<img src=\"https://cdn.jsdelivr.net/gh/devicons/devicon/icons/python/python-original.svg\" width=\"40\" style=\"display: block; margin: 0; text-align: left;\">"
   ]
  },
  {
   "cell_type": "code",
   "execution_count": 59,
   "id": "702c8cd4",
   "metadata": {
    "slideshow": {
     "slide_type": "fragment"
    }
   },
   "outputs": [
    {
     "data": {
      "text/html": [
       "<pre style=\"white-space:pre;overflow-x:auto;line-height:normal;font-family:Menlo,'DejaVu Sans Mono',consolas,'Courier New',monospace\"><span style=\"color: #008000; text-decoration-color: #008000; font-weight: bold\">1</span><span style=\"color: #008000; text-decoration-color: #008000; font-weight: bold\"> have been successfully added to the databrowser. </span><span style=\"color: #008000; text-decoration-color: #008000; font-weight: bold\">0</span><span style=\"color: #008000; text-decoration-color: #008000; font-weight: bold\"> files were duplicates and not added.</span>\n",
       "</pre>\n"
      ],
      "text/plain": [
       "\u001b[1;32m1\u001b[0m\u001b[1;32m have been successfully added to the databrowser. \u001b[0m\u001b[1;32m0\u001b[0m\u001b[1;32m files were duplicates and not added.\u001b[0m\n"
      ]
     },
     "metadata": {},
     "output_type": "display_data"
    }
   ],
   "source": [
    "global_attributes = {\"project\": \"userdata\", \"product\": \"stats\", \"model\": \"IFS\", \"experiment\": \"ETCCDI\", \"realm\": \"atmos\"}\n",
    "databrowser.userdata(\n",
    "    action=\"add\",\n",
    "    userdata_items=[f\"{os.getcwd()}/dummy_sst_{getuser()}.nc\"],\n",
    "    metadata=global_attributes,\n",
    "    host=\"https://www.gems.dkrz.de\",\n",
    ")"
   ]
  },
  {
   "cell_type": "code",
   "execution_count": 60,
   "id": "600f772c",
   "metadata": {
    "slideshow": {
     "slide_type": "fragment"
    }
   },
   "outputs": [
    {
     "data": {
      "text/html": [
       "<pre style=\"white-space:pre;overflow-x:auto;line-height:normal;font-family:Menlo,'DejaVu Sans Mono',consolas,'Courier New',monospace\"><span style=\"color: #008000; text-decoration-color: #008000; font-weight: bold\">User data deleted successfully</span>\n",
       "</pre>\n"
      ],
      "text/plain": [
       "\u001b[1;32mUser data deleted successfully\u001b[0m\n"
      ]
     },
     "metadata": {},
     "output_type": "display_data"
    }
   ],
   "source": [
    "global_attributes = {\"project\": \"userdata\", \"product\": \"stats\", \"model\": \"IFS\", \"experiment\": \"ETCCDI\", \"realm\": \"atmos\"}\n",
    "databrowser.userdata(\n",
    "    action=\"delete\",\n",
    "    metadata=global_attributes,\n",
    "    host=\"https://www.gems.dkrz.de\",\n",
    ")"
   ]
  },
  {
   "cell_type": "markdown",
   "id": "c228d7c3",
   "metadata": {
    "slideshow": {
     "slide_type": "subslide"
    }
   },
   "source": [
    "<div style=\"padding: 10px; font-family: Arial, sans-serif; background: linear-gradient(135deg, #27ae60 0%, #229954 100%); border-radius: 12px; margin: 20px 0; box-shadow: 0 4px 15px rgba(0,0,0,0.1);\">\n",
    "    <div style=\"display: flex; align-items: center; gap: 20px;\">\n",
    "        <div style=\"background: white; color: #27ae60; width: 60px; height: 60px; border-radius: 50%; display: flex; align-items: center; justify-content: center; font-weight: bold; font-size: 2em; box-shadow: 0 3px 8px rgba(0,0,0,0.2); flex-shrink: 0;\">4</div>\n",
    "        <div style=\"color: white; text-align: left; flex: 1;\">\n",
    "            <h1 style=\"margin: 0; font-size: 2.5em; font-weight: bold; text-align: left;\">Customize Dataset <span style=\"font-size: 0.6em; font-weight: normal;\">(Interoperablity)</span></h1>\n",
    "        </div>\n",
    "    </div>\n",
    "</div>"
   ]
  },
  {
   "cell_type": "markdown",
   "id": "1891a8d9",
   "metadata": {},
   "source": [
    "### Add/Remove the dummy SST data to/from Freva"
   ]
  },
  {
   "cell_type": "markdown",
   "id": "8db4d642",
   "metadata": {
    "slideshow": {
     "slide_type": "fragment"
    }
   },
   "source": [
    "<img src=\"https://cdn.jsdelivr.net/gh/devicons/devicon/icons/bash/bash-original.svg\" width=\"40\" style=\"display: block; margin: 0; text-align: left;\">"
   ]
  },
  {
   "cell_type": "code",
   "execution_count": 68,
   "id": "fb3ab745",
   "metadata": {
    "slideshow": {
     "slide_type": "fragment"
    },
    "tags": [
     "hide_input"
    ]
   },
   "outputs": [
    {
     "name": "stdout",
     "output_type": "stream",
     "text": [
      "$ freva-client databrowser user-data add --path dummy_sst_mo.nc --facet project=userdata --facet product=stats --facet model=IFS --facet experiment=ETCCDI --facet realm=atmos --host https://www.gems.dkrz.de\n",
      "\n"
     ]
    },
    {
     "name": "stdout",
     "output_type": "stream",
     "text": [
      "\u001b[1;32m1\u001b[0m\u001b[1;32m have been successfully added to the databrowser. \u001b[0m\u001b[1;32m0\u001b[0m\u001b[1;32m files were duplicates and \u001b[0m\n",
      "\u001b[1;32mnot added.\u001b[0m\n",
      "\n"
     ]
    }
   ],
   "source": [
    "print(f\"$ freva-client databrowser user-data add --path dummy_sst_{getuser()}.nc --facet project=userdata --facet product=stats --facet model=IFS --facet experiment=ETCCDI --facet realm=atmos --host https://www.gems.dkrz.de\")\n",
    "print()\n",
    "cmd(f\"databrowser user-data add --path {os.getcwd()}/dummy_sst_{getuser()}.nc --facet project=userdata --facet product=stats --facet model=IFS --facet experiment=ETCCDI --facet realm=atmos --host https://www.gems.dkrz.de\")"
   ]
  },
  {
   "cell_type": "code",
   "execution_count": 67,
   "id": "e33f907a",
   "metadata": {
    "slideshow": {
     "slide_type": "fragment"
    },
    "tags": [
     "hide_input"
    ]
   },
   "outputs": [
    {
     "name": "stdout",
     "output_type": "stream",
     "text": [
      "$ freva-client databrowser user-data delete --search-key project=userdata --search-key product=stats --search-key model=IFS --search-key experiment=ETCCDI --search-key realm=atmos --host https://www.gems.dkrz.de\n",
      "\n"
     ]
    },
    {
     "name": "stdout",
     "output_type": "stream",
     "text": [
      "\u001b[1;32mUser data deleted successfully\u001b[0m\n",
      "\n"
     ]
    }
   ],
   "source": [
    "print(\"$ freva-client databrowser user-data delete --search-key project=userdata --search-key product=stats --search-key model=IFS --search-key experiment=ETCCDI --search-key realm=atmos --host https://www.gems.dkrz.de\")\n",
    "print()\n",
    "cmd(f\"databrowser user-data delete --search-key project=userdata --search-key product=stats --search-key model=IFS --search-key experiment=ETCCDI --search-key realm=atmos --host https://www.gems.dkrz.de\")"
   ]
  },
  {
   "cell_type": "markdown",
   "id": "293138fc",
   "metadata": {
    "slideshow": {
     "slide_type": "subslide"
    }
   },
   "source": [
    "<div style=\"padding: 10px; font-family: Arial, sans-serif; background: linear-gradient(135deg, #27ae60 0%, #229954 100%); border-radius: 12px; margin: 20px 0; box-shadow: 0 4px 15px rgba(0,0,0,0.1);\">\n",
    "    <div style=\"display: flex; align-items: center; gap: 20px;\">\n",
    "        <div style=\"background: white; color: #27ae60; width: 60px; height: 60px; border-radius: 50%; display: flex; align-items: center; justify-content: center; font-weight: bold; font-size: 2em; box-shadow: 0 3px 8px rgba(0,0,0,0.2); flex-shrink: 0;\">4</div>\n",
    "        <div style=\"color: white; text-align: left; flex: 1;\">\n",
    "            <h1 style=\"margin: 0; font-size: 2.5em; font-weight: bold; text-align: left;\">Customize Dataset <span style=\"font-size: 0.6em; font-weight: normal;\">(Interoperablity)</span></h1>\n",
    "        </div>\n",
    "    </div>\n",
    "</div>"
   ]
  },
  {
   "cell_type": "markdown",
   "id": "ed5e242a",
   "metadata": {
    "slideshow": {
     "slide_type": "fragment"
    }
   },
   "source": [
    "<img src=\"https://cdnjs.cloudflare.com/ajax/libs/bootstrap-icons/1.13.1/icons/globe.svg\" width=\"40\" style=\"display: block; margin: 0; text-align: left;\">"
   ]
  },
  {
   "cell_type": "markdown",
   "id": "22843439",
   "metadata": {
    "slideshow": {
     "slide_type": "fragment"
    }
   },
   "source": [
    "<video style=\"text-align: left; display: block;\" width=\"800\" controls>\n",
    "  <source src=\"media/user_data_q.mp4\" type=\"video/mp4\">\n",
    "</video>"
   ]
  },
  {
   "cell_type": "markdown",
   "id": "99f63d0e",
   "metadata": {
    "slideshow": {
     "slide_type": "slide"
    }
   },
   "source": [
    "<div style=\"padding: 40px; font-family: Arial, sans-serif; text-align: center;\">\n",
    "    <div style=\"max-width: 800px; margin: 0 auto;\">\n",
    "        <h1 style=\"color: #2c3e50; font-size: 3.5em; font-weight: bold; margin-bottom: 20px;\">After this walkthrough, we believe FREVA is FAIR enough!</h1>\n",
    "        <div style=\"display: flex; justify-content: center; gap: 30px; margin: 40px 0; flex-wrap: wrap;\">\n",
    "            <div style=\"background: #3498db; color: white; padding: 15px 25px; border-radius: 25px; font-weight: bold; font-size: 1.1em;\">Findable</div>\n",
    "            <div style=\"background: #e74c3c; color: white; padding: 15px 25px; border-radius: 25px; font-weight: bold; font-size: 1.1em;\">Accessible</div>\n",
    "            <div style=\"background: #f39c12; color: white; padding: 15px 25px; border-radius: 25px; font-weight: bold; font-size: 1.1em;\">Interoperable</div>\n",
    "            <div style=\"background: #27ae60; color: white; padding: 15px 25px; border-radius: 25px; font-weight: bold; font-size: 1.1em;\">Reusable</div>\n",
    "        </div>\n",
    "        <p style=\"color: #7f8c8d; font-size: 1.4em; margin-bottom: 40px; line-height: 1.5;\">What do you think?</p>\n",
    "    </div>\n",
    "    <p style=\"color: #7f8c8d; font-size: 1.4em; margin-bottom: 40px; line-height: 1.5;\">Thanks for your attention</p>\n",
    "</div>"
   ]
  },
  {
   "cell_type": "markdown",
   "id": "89d880a8-04b4-4497-9628-8a679219736c",
   "metadata": {
    "editable": true,
    "slideshow": {
     "slide_type": "slide"
    },
    "tags": []
   },
   "source": [
    "## Hands On Session:\n",
    "\n",
    "- Databrowser bread & butter (Mo)\n",
    "- How to Auth (Mo)\n",
    "- Add your own data (Mo)\n",
    "- The S3 cloud store (Manuel)\n",
    "- Access data on S3 (Manuel)\n",
    "- FrevaGPT (Martin)"
   ]
  },
  {
   "cell_type": "markdown",
   "id": "677d0c59",
   "metadata": {
    "editable": true,
    "slideshow": {
     "slide_type": "slide"
    },
    "tags": []
   },
   "source": [
    "# File vs Object Storage\n"
   ]
  },
  {
   "cell_type": "markdown",
   "id": "8f76877d",
   "metadata": {
    "slideshow": {
     "slide_type": "subslide"
    }
   },
   "source": [
    "## File Storage\n",
    "\n",
    "- Hierarchical structure (tree)\n",
    "  - Directory with files and other directories\n",
    "- Easy to rename and move items around\n",
    "  - **Not** identified by name\n",
    "  - Change references\n",
    "- _System-centric_, not designed to be share\n"
   ]
  },
  {
   "cell_type": "markdown",
   "id": "5788b95e",
   "metadata": {
    "slideshow": {
     "slide_type": "subslide"
    }
   },
   "source": [
    "## Object Storage\n",
    "\n",
    "- Flat structure (key-value)\n",
    "  - Items are identified by a key/name\n",
    "  - Content is accessed providing key/name\n",
    "- Not easy to move items around!\n",
    "  - Moving is renaming \n",
    "  - Modify key"
   ]
  },
  {
   "cell_type": "markdown",
   "id": "d3ac8679",
   "metadata": {
    "slideshow": {
     "slide_type": "subslide"
    }
   },
   "source": [
    "## **Local** vs Remote Storage\n",
    "\n",
    "**Local** storage should be:\n",
    "\n",
    " - Fast\n",
    " - Reliable\n",
    " - Performant!\n"
   ]
  },
  {
   "cell_type": "markdown",
   "id": "ce2bff8f",
   "metadata": {
    "slideshow": {
     "slide_type": "subslide"
    }
   },
   "source": [
    "## Local vs **Remote** Storage\n",
    "\n",
    "**Remote** storage should be:\n",
    "\n",
    " - Simple & common language\n",
    " - Permissive\n",
    " - Highly available!\n"
   ]
  },
  {
   "cell_type": "markdown",
   "id": "9a721614",
   "metadata": {
    "slideshow": {
     "slide_type": "subslide"
    }
   },
   "source": [
    "## HTTP aka internet language!?\n",
    "\n",
    "Stands for _Hypertext Transfer Protocol_. \n",
    "There are many protocols...\n"
   ]
  },
  {
   "cell_type": "markdown",
   "id": "08a6cd87",
   "metadata": {
    "slideshow": {
     "slide_type": "fragment"
    }
   },
   "source": [
    "\n",
    "- simple\n",
    "- very generic\n",
    "- very flexible\n",
    "- famous!\n"
   ]
  },
  {
   "cell_type": "markdown",
   "id": "75f8222d",
   "metadata": {
    "slideshow": {
     "slide_type": "fragment"
    }
   },
   "source": [
    "\n",
    "Client makes a **request**, server **replies**\n",
    "\n",
    "> **_NOTE:_** IP the actual and literal Internel Protocol"
   ]
  },
  {
   "cell_type": "markdown",
   "id": "12656450",
   "metadata": {
    "slideshow": {
     "slide_type": "subslide"
    }
   },
   "source": [
    "## Requests\n",
    "\n",
    " - Method - _verb_/type (`GET`, [etc...](https://developer.mozilla.org/en-US/docs/Web/HTTP/Reference/Methods))\n",
    " - Headers - metadata, options (`Content-Type`,...)\n",
    " - Body - data (empty, raw bytes, text,... )"
   ]
  },
  {
   "cell_type": "markdown",
   "id": "110c3125",
   "metadata": {
    "slideshow": {
     "slide_type": "subslide"
    }
   },
   "source": [
    "## Replies\n",
    "\n",
    " - Code + Result (`404 Not Found`)\n",
    " - Headers - metadata, options (`Content-Type`,...)\n",
    " - Body - data (empty, raw bytes, text,... )"
   ]
  },
  {
   "cell_type": "markdown",
   "id": "c13ff3d7",
   "metadata": {
    "slideshow": {
     "slide_type": "subslide"
    }
   },
   "source": [
    "\n",
    "## Object Store APIs\n",
    "\n",
    "Different providers expose API not be (**fully**) interchangable. E.g.  `list objects`:\n",
    "\n",
    "- [AWS S3](https://docs.aws.amazon.com/AmazonS3/latest/API/API_Operations_Amazon_Simple_Storage_Service.html)\n",
    "```\n",
    "GET /?delimiter={delimiter}&encoding-type={enctype}&marker=....&prefix={prefix}\n",
    "```\n",
    "- [Openstack Swift](https://docs.openstack.org/api-ref/object-store/)\n",
    "```\n",
    "GET /v1/{account}/{container}\n",
    "```\n",
    "- [Google Cloud Storage](https://cloud.google.com/storage/docs/json_api/v1/objects/get)\n",
    "```\n",
    "GET /v1/b/{bucket}/o/\n",
    "```\n",
    "- [Azure Blob Storage](https://myaccount.blob.core.windows.net/mycontainer/myblob)\n",
    "```\n",
    "GET /{container}?restype=container&comp=list\n",
    "```"
   ]
  },
  {
   "cell_type": "markdown",
   "id": "149da911",
   "metadata": {
    "slideshow": {
     "slide_type": "slide"
    }
   },
   "source": [
    "# S3 - Simple Storage Service"
   ]
  },
  {
   "cell_type": "markdown",
   "id": "a30759af",
   "metadata": {
    "slideshow": {
     "slide_type": "fragment"
    }
   },
   "source": [
    "Created by AWS\n",
    "- S3 API is public (partially)"
   ]
  },
  {
   "cell_type": "markdown",
   "id": "93444f91",
   "metadata": {
    "slideshow": {
     "slide_type": "subslide"
    }
   },
   "source": [
    "## S3 Concepts\n",
    "\n",
    "- Bucket - The container of the objects\n",
    "- Objects - The actual data\n",
    "- Regions (advanced) - Location of the data\n",
    "- Authentication"
   ]
  },
  {
   "cell_type": "markdown",
   "id": "a7977fb9",
   "metadata": {
    "slideshow": {
     "slide_type": "fragment"
    }
   },
   "source": [
    "> Directories can be emulated by empty objects terminated with `/`"
   ]
  },
  {
   "cell_type": "markdown",
   "id": "4c28ae22",
   "metadata": {
    "slideshow": {
     "slide_type": "subslide"
    }
   },
   "source": [
    "## S3 - Authentication\n",
    "\n",
    "- A bucket may not be publicly available.\n",
    "- Key-Secret pairs sign the request\n",
    "  - May expire automatically\n",
    "  - May be valid indefinetly\n",
    "- Create temporarly link to share or receive data"
   ]
  },
  {
   "cell_type": "markdown",
   "id": "669d773d",
   "metadata": {
    "slideshow": {
     "slide_type": "subslide"
    }
   },
   "source": [
    "## Exploring data on S3\n",
    "\n",
    "- Command line interfaces (CLIs)\n",
    "- Software Development Kits (SDKs)\n",
    "  - Libraries"
   ]
  },
  {
   "cell_type": "markdown",
   "id": "5f4994d1",
   "metadata": {
    "slideshow": {
     "slide_type": "subslide"
    }
   },
   "source": [
    "## CLIs\n",
    "\n",
    "AWS provides a command line interface (not just for `s3`)"
   ]
  },
  {
   "cell_type": "code",
   "execution_count": null,
   "id": "1f5a40e3",
   "metadata": {
    "slideshow": {
     "slide_type": "fragment"
    },
    "vscode": {
     "languageId": "shellscript"
    }
   },
   "outputs": [],
   "source": [
    "#micromamba install awscli ||pip install awscli\n",
    "aws s3 ls s3://ncar-cesm2-lens/ --no-sign-request\n",
    "\n",
    "alias awss3='aws s3 --no-sign-request'\n",
    "awss3 cp --recursive  s3://ncar-cesm2-lens/atm/static/grid.zarr /tmp/grid.zarr"
   ]
  },
  {
   "cell_type": "markdown",
   "id": "f5e0ae26",
   "metadata": {
    "slideshow": {
     "slide_type": "fragment"
    }
   },
   "source": [
    "> Appending `/` to the S3 resource may produce different results"
   ]
  },
  {
   "cell_type": "markdown",
   "id": "defc6aa8",
   "metadata": {
    "slideshow": {
     "slide_type": "subslide"
    }
   },
   "source": [
    "## MINIO\n",
    "\n",
    "[Minio](https://docs.min.io/community/minio-object-store/index.html) - Open source S3 object store"
   ]
  },
  {
   "cell_type": "code",
   "execution_count": null,
   "id": "a4777504",
   "metadata": {
    "slideshow": {
     "slide_type": "fragment"
    },
    "vscode": {
     "languageId": "shellscript"
    }
   },
   "outputs": [],
   "source": [
    "module load minio-client\n",
    "mc alias set aws https://s3.amazonaws.com \"\" \"\" # empty keys = no authentication\n",
    "mc ls aws/ncar-cesm2-lens/ice/static/grid.zarr\n",
    "\n",
    "mc alias set dkrz https://s3.eu-dkrz-1.dkrz.cloud \"\" \"\" \n",
    "mc ls dkrz/freva"
   ]
  },
  {
   "cell_type": "markdown",
   "id": "bf3ab097",
   "metadata": {
    "slideshow": {
     "slide_type": "fragment"
    }
   },
   "source": [
    "> Appending `/` may produce different results"
   ]
  },
  {
   "cell_type": "markdown",
   "id": "56b67559",
   "metadata": {
    "slideshow": {
     "slide_type": "subslide"
    }
   },
   "source": [
    "## Useful Python modules\n",
    "\n",
    "- [`boto3`](https://boto3.amazonaws.com/v1/documentation/api/latest/index.html) - AWS S3 official sdk for python\n",
    "  - [`aioboto3`](https://github.com/terricain/aioboto3)\n",
    "- [`obstore`](https://developmentseed.org/obstore/latest/api/store/#obstore.store.from_url) - Alse supports non S3 object stores\n",
    "- [`fsspec`](https://github.com/fsspec)/[`s3fs`](https://github.com/fsspec/s3fs) - Filesystem wrapper for storage types\n",
    "- [`minio`](https://min.io/docs/minio/linux/developers/python/minio-py.html) - Minio SDK for python"
   ]
  },
  {
   "cell_type": "markdown",
   "id": "48b2e921",
   "metadata": {
    "slideshow": {
     "slide_type": "subslide"
    }
   },
   "source": [
    "## The usual suspects"
   ]
  },
  {
   "cell_type": "code",
   "execution_count": null,
   "id": "d7a69c4f",
   "metadata": {
    "slideshow": {
     "slide_type": "fragment"
    }
   },
   "outputs": [],
   "source": [
    "dataset_url = 's3://ncar-cesm2-lens/ocn/static/grid.zarr'\n",
    "s3_opts = {'anon': True}"
   ]
  },
  {
   "cell_type": "code",
   "execution_count": null,
   "id": "335de7b6",
   "metadata": {
    "slideshow": {
     "slide_type": "fragment"
    }
   },
   "outputs": [],
   "source": [
    "import xarray as xr\n",
    "ds = xr.open_dataset(dataset_url, engine='zarr', storage_options=s3_opts)"
   ]
  },
  {
   "cell_type": "code",
   "execution_count": null,
   "id": "adcad755",
   "metadata": {
    "slideshow": {
     "slide_type": "fragment"
    }
   },
   "outputs": [],
   "source": [
    "import zarr\n",
    "zarr.open(dataset_url, storage_options=s3_opts)"
   ]
  },
  {
   "cell_type": "markdown",
   "id": "bdc94449",
   "metadata": {
    "slideshow": {
     "slide_type": "subslide"
    }
   },
   "source": [
    "## NetCDF on S3 (classic, nc4/hdf5)"
   ]
  },
  {
   "cell_type": "code",
   "execution_count": null,
   "id": "0e059576",
   "metadata": {
    "slideshow": {
     "slide_type": "fragment"
    }
   },
   "outputs": [],
   "source": [
    "import s3fs\n",
    "s3 = s3fs.S3FileSystem(endpoint_url=\"https://s3.eu-dkrz-1.dkrz.cloud\", anon=True)\n",
    "with s3.open('s3://freva/workshop/tas.nc') as f:\n",
    "    ds = xr.open_dataset(f)"
   ]
  },
  {
   "cell_type": "markdown",
   "id": "e0338982",
   "metadata": {
    "slideshow": {
     "slide_type": "fragment"
    }
   },
   "source": [
    "In Levante custom builds of `libnetcdf` and `cdo` can work with data on S3\n",
    "> Very unstable!!!"
   ]
  },
  {
   "cell_type": "markdown",
   "id": "951bd4f1",
   "metadata": {
    "slideshow": {
     "slide_type": "fragment"
    }
   },
   "source": [
    "```\n",
    "/fastdata/k20200/k202186/public/bin/ncdump  -h https://s3.eu-dkrz-1.dkrz.cloud/freva/workshop/tas.nc#mode=s3,bytes\n",
    "/fastdata/k20200/k202186/public/bin/cdo  sinfo https://s3.eu-dkrz-1.dkrz.cloud/freva/workshop/tas.nc#mode=s3,bytes\n",
    "```"
   ]
  }
 ],
 "metadata": {
  "kernelspec": {
   "display_name": "tst",
   "language": "python",
   "name": "tst"
  },
  "language_info": {
   "codemirror_mode": {
    "name": "ipython",
    "version": 3
   },
   "file_extension": ".py",
   "mimetype": "text/x-python",
   "name": "python",
   "nbconvert_exporter": "python",
   "pygments_lexer": "ipython3",
   "version": "3.11.8"
  }
 },
 "nbformat": 4,
 "nbformat_minor": 5
}
