{
 "cells": [
  {
   "attachments": {},
   "cell_type": "markdown",
   "id": "2a4be1bc-6ca2-46d6-b7e9-9ca0ef7ea0b9",
   "metadata": {
    "editable": true,
    "slideshow": {
     "slide_type": "slide"
    },
    "tags": []
   },
   "source": [
    "<div style=\"display: flex; align-items: center; justify-content: space-between; margin-bottom: 15px;\">\n",
    "    <img src=\"https://www.freva.dkrz.de/static/img/dkrz-logo.png\" style=\"height: 50px;\">\n",
    "    <div style=\"flex: 1;\"></div>\n",
    "    <img src=\"https://www.freva.dkrz.de/static/img/by_freva_transparent.png\" style=\"height: 50px;\">\n",
    "</div>\n",
    "<div style=\"text-align: center; margin-bottom: 20px;\">\n",
    "    <h1 style=\"font-size: 2.5em; margin: 0; font-weight: bold;\">Freva - Data search and analysis framework for the Community</h1>\n",
    "</div>\n",
    "<div style=\"text-align: center;\">\n",
    "    <img src=\"https://freva-org.github.io/Talks/FrevaIntro/Logo.png\" style=\"height: 350px;\">\n",
    "</div>\n"
   ]
  },
  {
   "cell_type": "code",
   "execution_count": 15,
   "id": "aab9c18b-6cd3-49f8-aabe-ba04dfdbd4d2",
   "metadata": {
    "editable": true,
    "slideshow": {
     "slide_type": "skip"
    },
    "tags": []
   },
   "outputs": [],
   "source": [
    "import os\n",
    "import subprocess\n",
    "import sys\n",
    "import shutil\n",
    "from freva_client import databrowser\n",
    "from pathlib import Path\n",
    "\n",
    "def cmd(sub_cmd: str, limit=None, list_limit=None) -> None:\n",
    "    freva_bin = os.path.join(sys.exec_prefix, \"bin\", \"freva-client\")\n",
    "    cmd = f\"{freva_bin} {sub_cmd}\"\n",
    "    env = os.environ.copy()\n",
    "    env[\"FREVA_NO_RICH_PANELS\"] = \"1\"\n",
    "    bash = shutil.which(\"bash\")\n",
    "    result = subprocess.run(cmd, capture_output=True, text=True, shell=True, executable=bash, env=env)\n",
    "    if result.returncode != 0:\n",
    "        print(f\"[ERROR] Command failed:\\n{result.stderr}\")\n",
    "        return\n",
    "    output = result.stdout\n",
    "    if list_limit:\n",
    "        lines = output.splitlines()\n",
    "        processed_lines = []\n",
    "        for line in lines:\n",
    "            if ':' in line and ',' in line:\n",
    "                key, values = line.split(':', 1)\n",
    "                items = values.split(',')[:list_limit]\n",
    "                processed_lines.append(f\"{key}: {', '.join(items).strip()}, ...\")\n",
    "            else:\n",
    "                processed_lines.append(line)\n",
    "        output = '\\n'.join(processed_lines)\n",
    "    if limit:\n",
    "        for nn, line in enumerate(output.splitlines()):\n",
    "            if nn >= limit:\n",
    "                break\n",
    "            print(line)\n",
    "    else:\n",
    "        print(output)"
   ]
  },
  {
   "cell_type": "markdown",
   "id": "ac457db9",
   "metadata": {
    "editable": true,
    "slideshow": {
     "slide_type": "slide"
    },
    "tags": []
   },
   "source": [
    "<div style=\"text-align: center; padding: 20px;\">\n",
    "    <h3>Common Problem: Finding and accesing Data</h3>\n",
    "    <div style=\"display: grid; grid-template-columns: 1fr 2fr 1fr; gap: 30px; align-items: center; margin: 20px 0;\">\n",
    "        <div style=\"text-align: center;\">\n",
    "            <img src=\"./media/study-desperate.gif\" alt=\"Frustrated researcher\">\n",
    "            <div style=\"text-align: left; font-style: italic; color: #666; font: 7x\">\n",
    "                <p>\"I just need 2m-temperature data for my region...\"</p>\n",
    "            </div>\n",
    "        </div>\n",
    "        <div style=\"background: #2c3e50; color: white; padding: 20px; border-radius: 15px; position: relative;\">\n",
    "            <img src=\"https://www.freva.dkrz.de/static/img/dkrz-logo.png\" style=\"height: 60px; filter: brightness(0) invert(1);\" alt=\"DKRZ Logo\">\n",
    "            <div style=\"margin: 15px 0; font-size: 1.0em;\">\n",
    "                <div style=\"margin: 6px 0;\"> /pool/data/ - 7 PB</div>\n",
    "                <div style=\"margin: 6px 0;\">5M+ - CMIP6 data</div>\n",
    "                <div style=\"margin: 6px 0;\"> CORDEX data which are constantly changing</div>\n",
    "                <div style=\"margin: 6px 0;\"> Thousands of variables</div>\n",
    "                <div style=\"margin: 6px 0;\">Multiple data formats</div>\n",
    "                <div style=\"margin: 6px 0;\"> you name ...</div>\n",
    "            </div>\n",
    "            <div style=\"position: absolute; top: -10px; right: -10px; background: #e74c3c; color: white; border-radius: 50%; width: 30px; height: 30px; display: flex; align-items: center; justify-content: center; font-size: 1.2em;\">🔒</div>\n",
    "        </div>\n",
    "        <div style=\"text-align: center;\">\n",
    "            <img src=\"./media/scientist-mad-scientist.gif\" alt=\"Mad scientist\">\n",
    "            <p style=\"font-size: 1.2em; color: #7f8c8d;\">Sound familiar?<br> You're not alone! 🤝</p>\n",
    "        </div>\n",
    "    </div>\n",
    "    <div style=\"background: #fff3cd; border: 1px solid #ffeaa7; padding: 15px; border-radius: 10px; margin-top: 15px;\">\n",
    "        <p style=\"font-size: 1.6em; color: #e74c3c; margin: 0;\"><strong>Why should finding data be this hard?</strong></p>\n",
    "    </div>\n",
    "</div>"
   ]
  },
  {
   "cell_type": "markdown",
   "id": "b6244618",
   "metadata": {
    "editable": true,
    "slideshow": {
     "slide_type": "slide"
    },
    "tags": []
   },
   "source": [
    "<div style=\"color: #2d3436; padding: 20px; position: relative; background: white;\">\n",
    "    <h2 style=\"text-align: center; color: #2d3436; margin-bottom: 20px;\">Yet another solution: The Freva framework</h2>\n",
    "    <div style=\"display: flex; align-items: flex-start; justify-content: space-between; margin: 20px 0; position: relative;\">\n",
    "        <!-- Researchers -->\n",
    "        <div style=\"text-align: center; flex: 1;\">\n",
    "            <div style=\"font-size: 3em; margin-bottom: 10px;\"><img src=\"./media/famous_scietist.png\"></div>\n",
    "            <h4 style=\"margin: 0; color: #2d3436;\">Researchers</h4>\n",
    "            <p style=\"margin: 5px 0 0 0; color: #636e72;\">Need to search </p>\n",
    "            <p style=\"margin: 5px 0 0 0; color: #636e72;\">and access data</p>\n",
    "        </div>\n",
    "        <!-- Bridge -->\n",
    "        <div style=\"flex: 2; text-align: center; position: relative;\">\n",
    "            <div style=\"position: relative; margin: -20px 0 10px 0;\">\n",
    "                <img src=\"./media/bridege_white_back.png\" style=\"width: 100%; height: auto; max-width: 400px;\">\n",
    "            </div>\n",
    "            <!-- Freva logo -->\n",
    "            <div style=\"position: relative; margin: 10px auto; margin-top:0px; width: fit-content; z-index: 1;\">\n",
    "                <div style=\"background: linear-gradient(45deg, #ff7675, #fd79a8); padding: 20px; border-radius: 15px; box-shadow: 0 8px 32px rgba(0,0,0,0.1); transform: rotate(-5deg);\">\n",
    "                    <img src=\"https://www.freva.dkrz.de/static/img/by_freva_transparent.png\" style=\"height: 60px; transform: rotate(5deg);\">\n",
    "                </div>\n",
    "                <!-- Feature bubbles extending from the main body -->\n",
    "                <div style=\"position: absolute; top: -15px; left: -25px; background: #00cec9; color: white; padding: 8px 12px; border-radius: 15px; font-size: 0.7em; font-weight: bold; transform: rotate(-20deg); box-shadow: 0 4px 8px rgba(0,0,0,0.2);\">\n",
    "                    Central<br><span style=\"font-size: 0.6em; opacity: 0.9;\">One stop shop</span>\n",
    "                </div>\n",
    "                <div style=\"position: absolute; top: -15px; right: -25px; background: #fd79a8; color: white; padding: 8px 12px; border-radius: 15px; font-size: 0.7em; font-weight: bold; transform: rotate(20deg); box-shadow: 0 4px 8px rgba(0,0,0,0.2);\">\n",
    "                    Flexible<br><span style=\"font-size: 0.6em; opacity: 0.9;\">Adapts to you</span>\n",
    "                </div>\n",
    "                <div style=\"position: absolute; bottom: -15px; left: -25px; background: #fdcb6e; color: white; padding: 8px 12px; border-radius: 15px; font-size: 0.7em; font-weight: bold; transform: rotate(15deg); box-shadow: 0 4px 8px rgba(0,0,0,0.2);\">\n",
    "                    Intuitive<br><span style=\"font-size: 0.6em; opacity: 0.9;\">Easy to use</span>\n",
    "                </div>\n",
    "                <div style=\"position: absolute; bottom: -15px; right: -25px; background: #a29bfe; color: white; padding: 8px 12px; border-radius: 15px; font-size: 0.7em; font-weight: bold; transform: rotate(-15deg); box-shadow: 0 4px 8px rgba(0,0,0,0.2);\">\n",
    "                    Transparent<br><span style=\"font-size: 0.6em; opacity: 0.9;\">Clear process</span>\n",
    "                </div>\n",
    "            </div>\n",
    "        </div>\n",
    "        <!-- DKRZ lgoo -->\n",
    "        <div style=\"background: #2c3e50; color: white; padding: 20px; border-radius: 15px; position: relative; margin-top: 30px;\">\n",
    "            <img src=\"https://www.freva.dkrz.de/static/img/dkrz-logo.png\" style=\"height: 60px; filter: brightness(0) invert(1);\">\n",
    "            <div style=\"margin-top: 10px; font-size: 0.9em;\">DATA UNLOCKED!</div>\n",
    "            <div style=\"position: absolute; top: -10px; right: -10px; background: #00b894; color: white; border-radius: 50%; width: 30px; height: 30px; display: flex; align-items: center; justify-content: center; font-size: 1.2em;\">🔓</div>\n",
    "        </div>\n",
    "    </div>\n",
    "    <div style=\"margin-top: 15px; background: #f8f9fa; padding: 15px; border-radius: 10px; text-align: center;\">\n",
    "        <h3 style=\"color: #2d3436; margin: 0 0 15px 0; display: inline-block;\">Perfect for Every Research Task:</h3>\n",
    "        <div style=\"display: inline-flex; gap: 40px; justify-content: center; margin-left: 20px;\">\n",
    "            <div>I) <strong>Search</strong></div>\n",
    "            <div>II) <strong>Access</strong></div>\n",
    "            <div>III) <strong>Analyze</strong></div>\n",
    "        </div>\n",
    "    </div>\n",
    "</div>"
   ]
  },
  {
   "cell_type": "markdown",
   "id": "799093d5",
   "metadata": {
    "editable": true,
    "slideshow": {
     "slide_type": "slide"
    },
    "tags": []
   },
   "source": [
    "<div style=\"text-align: center; padding: 25px;\">\n",
    "    <h2 style=\"color: #2d3436; margin-bottom: 25px; font-size: 1.6em;\">Why Choose Freva?</h2>\n",
    "    <!-- Timeline -->\n",
    "    <div style=\"position: relative; margin: 35px 0; height: 110px;\">\n",
    "        <!-- Timeline line -->\n",
    "        <div style=\"position: absolute; top: 32px; left: 10%; right: 10%; height: 3px; background: linear-gradient(to right, #00cec9, #fd79a8); border-radius: 2px;\"></div>\n",
    "        <!-- Birth -->\n",
    "        <div style=\"position: absolute; left: 10%; top: 0; transform: translateX(-50%);\">\n",
    "            <div style=\"background: white; border: 3px solid #00cec9; border-radius: 50%; width: 65px; height: 65px; display: flex; align-items: center; justify-content: center; font-size: 1.6em; box-shadow: 0 3px 8px rgba(0,0,0,0.1);\">🐣</div>\n",
    "            <div style=\"margin-top: 8px; font-weight: bold; color: #00cec9; text-align: center; font-size: 0.9em;\">2012</div>\n",
    "            <div style=\"font-size: 0.7em; color: #636e72; text-align: center; line-height: 1.1;\">Born for<br>Modellers</div>\n",
    "        </div>\n",
    "        <!-- Secure -->\n",
    "        <div style=\"position: absolute; left: 35%; top: 0; transform: translateX(-50%);\">\n",
    "            <div style=\"background: white; border: 3px solid #fdcb6e; border-radius: 50%; width: 65px; height: 65px; display: flex; align-items: center; justify-content: center; font-size: 1.6em; box-shadow: 0 3px 8px rgba(0,0,0,0.1);\">🔒</div>\n",
    "            <div style=\"margin-top: 8px; font-weight: bold; color: #fdcb6e; text-align: center; font-size: 0.9em;\">Secure</div>\n",
    "            <div style=\"font-size: 0.7em; color: #636e72; text-align: center; line-height: 1.1;\">Enterprise<br>Grade</div>\n",
    "        </div>\n",
    "        <!-- Plays Nice -->\n",
    "        <div style=\"position: absolute; left: 65%; top: 0; transform: translateX(-50%);\">\n",
    "            <div style=\"background: white; border: 3px solid #a29bfe; border-radius: 50%; width: 65px; height: 65px; display: flex; align-items: center; justify-content: center; font-size: 1.6em; box-shadow: 0 3px 8px rgba(0,0,0,0.1);\">🤝</div>\n",
    "            <div style=\"margin-top: 8px; font-weight: bold; color: #a29bfe; text-align: center; font-size: 0.9em;\">Plays Nice</div>\n",
    "            <div style=\"font-size: 0.7em; color: #636e72; text-align: center; line-height: 1.1;\">Works with<br>Other Tools</div>\n",
    "        </div>\n",
    "        <!-- Complete -->\n",
    "        <div style=\"position: absolute; right: 10%; top: 0; transform: translateX(50%);\">\n",
    "            <div style=\"background: white; border: 3px solid #fd79a8; border-radius: 50%; width: 65px; height: 65px; display: flex; align-items: center; justify-content: center; font-size: 1.6em; box-shadow: 0 3px 8px rgba(0,0,0,0.1);\">👑</div>\n",
    "            <div style=\"margin-top: 8px; font-weight: bold; color: #fd79a8; text-align: center; font-size: 0.9em;\">2025</div>\n",
    "            <div style=\"font-size: 0.7em; color: #636e72; text-align: center; line-height: 1.1;\">Most Complete<br>Metadata Store</div>\n",
    "        </div>\n",
    "    </div>\n",
    "    <!-- Architecture -->\n",
    "    <div style=\"margin-top: 20px; background: white; padding: 15px; border-radius: 12px; box-shadow: 0 4px 16px rgba(0,0,0,0.1);\">\n",
    "        <h3 style=\"color: #2d3436; margin-bottom: 12px; font-size: 1.1em;\">Smart Architecture:</h3>\n",
    "        <div style=\"display: flex; align-items: center; justify-content: space-between; gap: 80px; padding: 0 40px;\">\n",
    "            <!-- Client -->\n",
    "            <div style=\"text-align: center;\">\n",
    "                <div style=\"color: #74b9ff; padding: 20px; border: 3px solid #74b9ff; border-radius: 15px; font-size: 1.5em; width: 140px; height: 140px; display: flex; align-items: center; justify-content: center; margin: 0 auto; background: transparent;\">\n",
    "                    <img src=\"./media/simple_client.png\" style=\"width: 120px; height: 120px; object-fit: contain;\">\n",
    "                </div>\n",
    "                <div style=\"margin-top: 10px; font-weight: bold; color: #74b9ff; font-size: 1em;\">Simple Client</div>\n",
    "                <div style=\"font-size: 0.8em; color: #636e72;\">Easy for You</div>\n",
    "            </div>\n",
    "            <!-- REQUEST/RESPONSE Flow -->\n",
    "            <div style=\"position: relative; display: flex; align-items: center; flex-direction: column; gap: 15px;\">\n",
    "                <!-- REQUEST -->\n",
    "                <div style=\"display: flex; align-items: center; gap: 8px;\">\n",
    "                    <span style=\"font-size: 0.9em; color: #00cec9; font-weight: bold; letter-spacing: 1px;\">REQUEST</span>\n",
    "                    <div style=\"width: 80px; height: 3px; background: #00cec9; position: relative;\">\n",
    "                        <div style=\"position: absolute; right: -8px; top: -4px; width: 0; height: 0; border-left: 8px solid #00cec9; border-top: 5px solid transparent; border-bottom: 5px solid transparent;\"></div>\n",
    "                    </div>\n",
    "                </div>\n",
    "                <!-- RESPONSE -->\n",
    "                <div style=\"display: flex; align-items: center; gap: 8px;\">\n",
    "                    <div style=\"width: 80px; height: 3px; background: #fd79a8; position: relative;\">\n",
    "                        <div style=\"position: absolute; left: -8px; top: -4px; width: 0; height: 0; border-right: 8px solid #fd79a8; border-top: 5px solid transparent; border-bottom: 5px solid transparent;\"></div>\n",
    "                    </div>\n",
    "                    <span style=\"font-size: 0.9em; color: #fd79a8; font-weight: bold; letter-spacing: 1px;\">RESPONSE</span>\n",
    "                </div>\n",
    "            </div>\n",
    "            <style>\n",
    "                @keyframes requestFlow {\n",
    "                    0% { left: -30px; opacity: 0; }\n",
    "                    20% { opacity: 1; }\n",
    "                    80% { opacity: 1; }\n",
    "                    100% { left: 90px; opacity: 0; }\n",
    "                }\n",
    "                @keyframes responseFlow {\n",
    "                    0% { right: -30px; opacity: 0; }\n",
    "                    20% { opacity: 1; }\n",
    "                    80% { opacity: 1; }\n",
    "                    100% { right: 90px; opacity: 0; }\n",
    "                }\n",
    "            </style>\n",
    "            <!-- Server -->\n",
    "            <div style=\"text-align: center;\">\n",
    "                <div style=\"color: #fd79a8; padding: 20px; border: 3px solid #fd79a8; border-radius: 15px; font-size: 1.5em; width: 140px; height: 140px; display: flex; align-items: center; justify-content: center; margin: 0 auto; background: transparent;\">\n",
    "                    <img src=\"./media/smart_server.png\" style=\"width: 120px; height: 120px; object-fit: contain;\">\n",
    "                </div>\n",
    "                <div style=\"margin-top: 10px; font-weight: bold; color: #fd79a8; font-size: 1em;\">Powerful Server</div>\n",
    "                <div style=\"font-size: 0.8em; color: #636e72;\">Handles Complexity</div>\n",
    "            </div>\n",
    "        </div>\n",
    "    </div>\n",
    "</div>"
   ]
  },
  {
   "cell_type": "markdown",
   "id": "0edee1d3-93ff-486a-a3fe-78237266feea",
   "metadata": {
    "editable": true,
    "slideshow": {
     "slide_type": "slide"
    },
    "tags": []
   },
   "source": [
    "<div style=\"padding: 10px; font-family: Arial, sans-serif; background: linear-gradient(135deg, #95a5a6 0%, #7f8c8d 100%); border-radius: 12px; margin: 20px 0; box-shadow: 0 4px 15px rgba(0,0,0,0.1);\">\n",
    "    <div style=\"display: flex; align-items: center; gap: 20px;\">\n",
    "        <div style=\"background: white; color: #95a5a6; width: 60px; height: 60px; border-radius: 50%; display: flex; align-items: center; justify-content: center; font-weight: bold; font-size: 2em; box-shadow: 0 3px 8px rgba(0,0,0,0.2); flex-shrink: 0;\">0</div>\n",
    "        <div style=\"color: white; text-align: left; flex: 1;\">\n",
    "            <h1 style=\"margin: 0; font-size: 2.5em; font-weight: bold; text-align: left;\">Setup</h1>\n",
    "        </div>\n",
    "    </div>\n",
    "</div>\n",
    "\n",
    "## The Client Library\n",
    "\n",
    "| Environment | Installation Command |\n",
    "|-------------|---------------------|\n",
    "| modules (Recommended) |  `module load clint gems` |\n",
    "| conda |  `conda create -n freva-client-env -c conda-forge freva-client -y` |\n",
    "| pip | `pip install freva-client` |\n"
   ]
  },
  {
   "cell_type": "markdown",
   "id": "9958932e",
   "metadata": {
    "editable": true,
    "slideshow": {
     "slide_type": "slide"
    },
    "tags": []
   },
   "source": [
    "<div style=\"padding: 10px; font-family: Arial, sans-serif; background: linear-gradient(135deg, #3498db 0%, #2980b9 100%); border-radius: 12px; margin: 20px 0; box-shadow: 0 4px 15px rgba(0,0,0,0.1);\">\n",
    "    <div style=\"display: flex; align-items: center; gap: 20px;\">\n",
    "        <div style=\"background: white; color: #3498db; width: 60px; height: 60px; border-radius: 50%; display: flex; align-items: center; justify-content: center; font-weight: bold; font-size: 2em; box-shadow: 0 3px 8px rgba(0,0,0,0.2); flex-shrink: 0;\">1</div>\n",
    "        <div style=\"color: white; text-align: left; flex: 1;\">\n",
    "            <h1 style=\"margin: 0; font-size: 2.5em; font-weight: bold; text-align: left;\">Search <span style=\"font-size: 0.6em; font-weight: normal;\">(Findablity)</span></h1>\n",
    "        </div>\n",
    "    </div>\n",
    "</div>"
   ]
  },
  {
   "cell_type": "markdown",
   "id": "c6033456",
   "metadata": {
    "slideshow": {
     "slide_type": "fragment"
    }
   },
   "source": [
    "### MPI-GE (Grand Ensemble)"
   ]
  },
  {
   "cell_type": "markdown",
   "id": "3480180a",
   "metadata": {
    "slideshow": {
     "slide_type": "fragment"
    }
   },
   "source": [
    "<img src=\"./media/mpi-ge.png\" style=\"width: 600px; height: 450px;\">"
   ]
  },
  {
   "cell_type": "markdown",
   "id": "661046b0",
   "metadata": {
    "slideshow": {
     "slide_type": "subslide"
    }
   },
   "source": [
    "<div style=\"padding: 10px; font-family: Arial, sans-serif; background: linear-gradient(135deg, #3498db 0%, #2980b9 100%); border-radius: 12px; margin: 20px 0; box-shadow: 0 4px 15px rgba(0,0,0,0.1);\">\n",
    "    <div style=\"display: flex; align-items: center; gap: 20px;\">\n",
    "        <div style=\"background: white; color: #3498db; width: 60px; height: 60px; border-radius: 50%; display: flex; align-items: center; justify-content: center; font-weight: bold; font-size: 2em; box-shadow: 0 3px 8px rgba(0,0,0,0.2); flex-shrink: 0;\">1</div>\n",
    "        <div style=\"color: white; text-align: left; flex: 1;\">\n",
    "            <h1 style=\"margin: 0; font-size: 2.5em; font-weight: bold; text-align: left;\">Search <span style=\"font-size: 0.6em; font-weight: normal;\">(Findablity)</span></h1>\n",
    "        </div>\n",
    "    </div>\n",
    "</div>"
   ]
  },
  {
   "cell_type": "markdown",
   "id": "d44cd4e9",
   "metadata": {
    "slideshow": {
     "slide_type": "fragment"
    }
   },
   "source": [
    "### Metadata overview"
   ]
  },
  {
   "cell_type": "markdown",
   "id": "36e3ff6f",
   "metadata": {
    "slideshow": {
     "slide_type": "fragment"
    }
   },
   "source": [
    "<img src=\"https://cdn.jsdelivr.net/gh/devicons/devicon/icons/bash/bash-original.svg\" width=\"40\" style=\"display: block; margin: 0; text-align: left;\">"
   ]
  },
  {
   "cell_type": "code",
   "execution_count": null,
   "id": "3caff818",
   "metadata": {
    "slideshow": {
     "slide_type": "fragment"
    },
    "vscode": {
     "languageId": "shellscript"
    }
   },
   "outputs": [],
   "source": [
    "$ freva-client databrowser data-overview --host https://www.gems.dkrz.de"
   ]
  },
  {
   "cell_type": "code",
   "execution_count": 80,
   "id": "94021785",
   "metadata": {
    "editable": true,
    "slideshow": {
     "slide_type": "fragment"
    },
    "tags": [
     "hide_input"
    ],
    "vscode": {
     "languageId": "shellscript"
    }
   },
   "outputs": [
    {
     "name": "stdout",
     "output_type": "stream",
     "text": [
      "Available search flavours:\n",
      "- freva\n",
      "- cmip6\n",
      "- cmip5\n",
      "- cordex\n",
      "- nextgems\n",
      "- user\n",
      "Search attributes by flavour:\n",
      "  cmip5:\n",
      "  - experiment\n",
      "  - member_id\n",
      "  - fs_type\n",
      "  - grid_label\n",
      "  - institution_id\n",
      "  - model_id\n",
      "  - project\n",
      "  - product\n",
      "  - realm\n",
      "  - variable\n",
      "  - time\n",
      "  - bbox\n",
      "  - time_aggregation\n",
      "  - time_frequency\n",
      "  - cmor_table\n",
      "  - dataset\n",
      "  - format\n",
      "  - grid_id\n",
      "  - level_type\n",
      "  cmip6:\n",
      "  - experiment_id\n",
      "  - member_id\n",
      "  - fs_type\n",
      "  - grid_label\n",
      "  - institution_id\n",
      "  - source_id\n",
      "  - mip_era\n",
      "  - activity_id\n",
      "  - realm\n",
      "  - variable_id\n",
      "  - time\n",
      "  - bbox\n",
      "  - time_aggregation\n",
      "  - frequency\n",
      "  - table_id\n",
      "  - dataset\n",
      "  - format\n",
      "  - grid_id\n",
      "  - level_type\n",
      "  cordex:\n",
      "  - experiment\n",
      "  - ensemble\n",
      "  - fs_type\n",
      "  - grid_label\n",
      "  - institution\n",
      "  - model\n",
      "  - project\n",
      "  - domain\n",
      "  - realm\n",
      "  - variable\n",
      "  - time\n",
      "  - bbox\n",
      "  - time_aggregation\n",
      "  - time_frequency\n",
      "  - cmor_table\n",
      "  - dataset\n",
      "  - driving_model\n",
      "  - format\n",
      "  - grid_id\n",
      "  - level_type\n",
      "  - rcm_name\n",
      "  - rcm_version\n",
      "  freva:\n",
      "  - project\n",
      "  - product\n",
      "  - institute\n",
      "  - model\n",
      "  - experiment\n",
      "  - time_frequency\n",
      "  - realm\n",
      "  - variable\n",
      "  - ensemble\n",
      "  - time_aggregation\n",
      "  - fs_type\n",
      "  - grid_label\n",
      "  - cmor_table\n",
      "  - format\n",
      "  - grid_id\n",
      "  - level_type\n",
      "  - dataset\n",
      "  - time\n",
      "  - bbox\n",
      "  - user\n",
      "  nextgems:\n",
      "  - simulation_id\n",
      "  - member_id\n",
      "  - fs_type\n",
      "  - grid_label\n",
      "  - institution_id\n",
      "  - source_id\n",
      "  - project\n",
      "  - experiment_id\n",
      "  - realm\n",
      "  - variable_id\n",
      "  - time\n",
      "  - bbox\n",
      "  - time_reduction\n",
      "  - time_frequency\n",
      "  - cmor_table\n",
      "  - dataset\n",
      "  - format\n",
      "  - grid_id\n",
      "  - level_type\n",
      "  user:\n",
      "  - project\n",
      "  - product\n",
      "  - institute\n",
      "  - model\n",
      "  - experiment\n",
      "  - time_frequency\n",
      "  - realm\n",
      "  - variable\n",
      "  - ensemble\n",
      "  - time_aggregation\n",
      "  - fs_type\n",
      "  - grid_label\n",
      "  - cmor_table\n",
      "  - format\n",
      "  - grid_id\n",
      "  - level_type\n",
      "  - dataset\n",
      "  - time\n",
      "  - bbox\n",
      "  - user\n",
      "\n",
      "\n"
     ]
    }
   ],
   "source": [
    "cmd(\"databrowser data-overview --host https://www.gems.dkrz.de\")"
   ]
  },
  {
   "cell_type": "markdown",
   "id": "dc973c4f",
   "metadata": {
    "slideshow": {
     "slide_type": "subslide"
    }
   },
   "source": [
    "<div style=\"padding: 10px; font-family: Arial, sans-serif; background: linear-gradient(135deg, #3498db 0%, #2980b9 100%); border-radius: 12px; margin: 20px 0; box-shadow: 0 4px 15px rgba(0,0,0,0.1);\">\n",
    "    <div style=\"display: flex; align-items: center; gap: 20px;\">\n",
    "        <div style=\"background: white; color: #3498db; width: 60px; height: 60px; border-radius: 50%; display: flex; align-items: center; justify-content: center; font-weight: bold; font-size: 2em; box-shadow: 0 3px 8px rgba(0,0,0,0.2); flex-shrink: 0;\">1</div>\n",
    "        <div style=\"color: white; text-align: left; flex: 1;\">\n",
    "            <h1 style=\"margin: 0; font-size: 2.5em; font-weight: bold; text-align: left;\">Search <span style=\"font-size: 0.6em; font-weight: normal;\">(Findablity)</span></h1>\n",
    "        </div>\n",
    "    </div>\n",
    "</div>"
   ]
  },
  {
   "cell_type": "markdown",
   "id": "a0c660b0",
   "metadata": {
    "slideshow": {
     "slide_type": "fragment"
    }
   },
   "source": [
    "### Metadata overview"
   ]
  },
  {
   "cell_type": "markdown",
   "id": "16d2cc6d",
   "metadata": {
    "slideshow": {
     "slide_type": "fragment"
    }
   },
   "source": [
    "<img src=\"https://cdn.jsdelivr.net/gh/devicons/devicon/icons/python/python-original.svg\" width=\"40\" style=\"display: block; margin: 0; text-align: left;\">"
   ]
  },
  {
   "cell_type": "code",
   "execution_count": 6,
   "id": "9c1d0793",
   "metadata": {
    "slideshow": {
     "slide_type": "fragment"
    }
   },
   "outputs": [
    {
     "data": {
      "text/plain": [
       "dict_keys(['ensemble', 'experiment', 'institute', 'model', 'product', 'project', 'realm', 'time_aggregation', 'time_frequency', 'variable'])"
      ]
     },
     "execution_count": 6,
     "metadata": {},
     "output_type": "execute_result"
    }
   ],
   "source": [
    "databrowser.metadata_search(host=\"https://www.gems.dkrz.de\").keys()"
   ]
  },
  {
   "cell_type": "markdown",
   "id": "42d88931",
   "metadata": {
    "slideshow": {
     "slide_type": "subslide"
    }
   },
   "source": [
    "<div style=\"padding: 10px; font-family: Arial, sans-serif; background: linear-gradient(135deg, #3498db 0%, #2980b9 100%); border-radius: 12px; margin: 20px 0; box-shadow: 0 4px 15px rgba(0,0,0,0.1);\">\n",
    "    <div style=\"display: flex; align-items: center; gap: 20px;\">\n",
    "        <div style=\"background: white; color: #3498db; width: 60px; height: 60px; border-radius: 50%; display: flex; align-items: center; justify-content: center; font-weight: bold; font-size: 2em; box-shadow: 0 3px 8px rgba(0,0,0,0.2); flex-shrink: 0;\">1</div>\n",
    "        <div style=\"color: white; text-align: left; flex: 1;\">\n",
    "            <h1 style=\"margin: 0; font-size: 2.5em; font-weight: bold; text-align: left;\">Search <span style=\"font-size: 0.6em; font-weight: normal;\">(Findablity)</span></h1>\n",
    "        </div>\n",
    "    </div>\n",
    "</div>"
   ]
  },
  {
   "cell_type": "markdown",
   "id": "07f0b5de",
   "metadata": {
    "slideshow": {
     "slide_type": "fragment"
    }
   },
   "source": [
    "### Search keys Investigation"
   ]
  },
  {
   "cell_type": "markdown",
   "id": "a4e240a9",
   "metadata": {
    "slideshow": {
     "slide_type": "fragment"
    }
   },
   "source": [
    "<img src=\"https://cdn.jsdelivr.net/gh/devicons/devicon/icons/bash/bash-original.svg\" width=\"40\" style=\"display: block; margin: 0; text-align: left;\">"
   ]
  },
  {
   "cell_type": "markdown",
   "id": "9890e04b-da01-4cba-aeb7-38459e64fec2",
   "metadata": {
    "editable": true,
    "slideshow": {
     "slide_type": "fragment"
    },
    "tags": [],
    "vscode": {
     "languageId": "shellscript"
    }
   },
   "source": [
    "$ freva-client databrowser metadata-search --host https://www.gems.dkrz.de \\\n",
    "--facet mpi-ge --json | jq -rc '.project|join(\", \")'"
   ]
  },
  {
   "cell_type": "code",
   "execution_count": 8,
   "id": "3d3ed450",
   "metadata": {
    "editable": true,
    "slideshow": {
     "slide_type": "fragment"
    },
    "tags": [
     "hide_input"
    ],
    "vscode": {
     "languageId": "shellscript"
    }
   },
   "outputs": [
    {
     "name": "stdout",
     "output_type": "stream",
     "text": [
      "mpi-ge\n",
      "\n"
     ]
    }
   ],
   "source": [
    "cmd('databrowser metadata-search --host https://www.gems.dkrz.de --facet mpi-ge --json | jq -rc \\'.project|join(\", \")\\'')"
   ]
  },
  {
   "cell_type": "markdown",
   "id": "21cb229b-7e28-4910-8de7-0cb19b430664",
   "metadata": {
    "editable": true,
    "slideshow": {
     "slide_type": "fragment"
    },
    "tags": [],
    "vscode": {
     "languageId": "shellscript"
    }
   },
   "source": [
    "$ freva-client databrowser metadata-search project=mpi-ge --json \\\n",
    "| jq -rc '.variable | index(\"tas\") != null'"
   ]
  },
  {
   "cell_type": "code",
   "execution_count": 10,
   "id": "ab342050",
   "metadata": {
    "editable": true,
    "slideshow": {
     "slide_type": "fragment"
    },
    "tags": [
     "hide_input"
    ],
    "vscode": {
     "languageId": "shellscript"
    }
   },
   "outputs": [
    {
     "name": "stdout",
     "output_type": "stream",
     "text": [
      "\n"
     ]
    }
   ],
   "source": [
    "cmd('freva-client databrowser metadata-search project=mpi-ge --json --host https://www.gems.dkrz.de | jq -rc \\'.variable | index(\"tas\") != null\\'')"
   ]
  },
  {
   "cell_type": "markdown",
   "id": "9da434f8",
   "metadata": {
    "editable": true,
    "slideshow": {
     "slide_type": "subslide"
    },
    "tags": []
   },
   "source": [
    "<div style=\"padding: 10px; font-family: Arial, sans-serif; background: linear-gradient(135deg, #3498db 0%, #2980b9 100%); border-radius: 12px; margin: 20px 0; box-shadow: 0 4px 15px rgba(0,0,0,0.1);\">\n",
    "    <div style=\"display: flex; align-items: center; gap: 20px;\">\n",
    "        <div style=\"background: white; color: #3498db; width: 60px; height: 60px; border-radius: 50%; display: flex; align-items: center; justify-content: center; font-weight: bold; font-size: 2em; box-shadow: 0 3px 8px rgba(0,0,0,0.2); flex-shrink: 0;\">1</div>\n",
    "        <div style=\"color: white; text-align: left; flex: 1;\">\n",
    "            <h1 style=\"margin: 0; font-size: 2.5em; font-weight: bold; text-align: left;\">Search <span style=\"font-size: 0.6em; font-weight: normal;\">(Findablity)</span></h1>\n",
    "        </div>\n",
    "    </div>\n",
    "</div>"
   ]
  },
  {
   "cell_type": "markdown",
   "id": "0cb708ee",
   "metadata": {
    "slideshow": {
     "slide_type": "fragment"
    }
   },
   "source": [
    "### Search keys Investigation"
   ]
  },
  {
   "cell_type": "markdown",
   "id": "a8747c1c",
   "metadata": {
    "slideshow": {
     "slide_type": "fragment"
    }
   },
   "source": [
    "<img src=\"https://cdn.jsdelivr.net/gh/devicons/devicon/icons/python/python-original.svg\" width=\"40\" style=\"display: block; margin: 0; text-align: left;\">"
   ]
  },
  {
   "cell_type": "code",
   "execution_count": 81,
   "id": "09b7340d",
   "metadata": {
    "slideshow": {
     "slide_type": "fragment"
    }
   },
   "outputs": [
    {
     "data": {
      "text/plain": [
       "['mpi-ge']"
      ]
     },
     "execution_count": 81,
     "metadata": {},
     "output_type": "execute_result"
    }
   ],
   "source": [
    "databrowser.metadata_search(\"mpi-ge\", host=\"https://www.gems.dkrz.de\")[\"project\"]"
   ]
  },
  {
   "cell_type": "code",
   "execution_count": 83,
   "id": "112e4a60",
   "metadata": {
    "slideshow": {
     "slide_type": "fragment"
    }
   },
   "outputs": [
    {
     "data": {
      "text/plain": [
       "True"
      ]
     },
     "execution_count": 83,
     "metadata": {},
     "output_type": "execute_result"
    }
   ],
   "source": [
    "\"tas\" in databrowser.metadata_search(\"mpi-ge\", host=\"https://www.gems.dkrz.de\")[\"variable\"]"
   ]
  },
  {
   "cell_type": "markdown",
   "id": "c9ff125c",
   "metadata": {
    "slideshow": {
     "slide_type": "subslide"
    }
   },
   "source": [
    "<div style=\"padding: 10px; font-family: Arial, sans-serif; background: linear-gradient(135deg, #3498db 0%, #2980b9 100%); border-radius: 12px; margin: 20px 0; box-shadow: 0 4px 15px rgba(0,0,0,0.1);\">\n",
    "    <div style=\"display: flex; align-items: center; gap: 20px;\">\n",
    "        <div style=\"background: white; color: #3498db; width: 60px; height: 60px; border-radius: 50%; display: flex; align-items: center; justify-content: center; font-weight: bold; font-size: 2em; box-shadow: 0 3px 8px rgba(0,0,0,0.2); flex-shrink: 0;\">1</div>\n",
    "        <div style=\"color: white; text-align: left; flex: 1;\">\n",
    "            <h1 style=\"margin: 0; font-size: 2.5em; font-weight: bold; text-align: left;\">Search <span style=\"font-size: 0.6em; font-weight: normal;\">(Findablity)</span></h1>\n",
    "        </div>\n",
    "    </div>\n",
    "</div>"
   ]
  },
  {
   "cell_type": "markdown",
   "id": "2a74d94f",
   "metadata": {
    "slideshow": {
     "slide_type": "fragment"
    }
   },
   "source": [
    "### Access Metadata"
   ]
  },
  {
   "cell_type": "markdown",
   "id": "85833d78",
   "metadata": {
    "slideshow": {
     "slide_type": "fragment"
    }
   },
   "source": [
    "<img src=\"https://cdn.jsdelivr.net/gh/devicons/devicon/icons/bash/bash-original.svg\" width=\"40\" style=\"display: block; margin: 0; text-align: left;\">"
   ]
  },
  {
   "cell_type": "code",
   "execution_count": null,
   "id": "71df60e3",
   "metadata": {
    "slideshow": {
     "slide_type": "fragment"
    },
    "vscode": {
     "languageId": "shellscript"
    }
   },
   "outputs": [],
   "source": [
    "$ freva-client databrowser metadata-search --host www.gems.dkrz.de --flavour cmip6 \\\n",
    "mip_era=mpi-ge variable_id=tas"
   ]
  },
  {
   "cell_type": "code",
   "execution_count": 92,
   "id": "4a39200c",
   "metadata": {
    "slideshow": {
     "slide_type": "fragment"
    },
    "tags": [
     "hide_input"
    ]
   },
   "outputs": [
    {
     "name": "stdout",
     "output_type": "stream",
     "text": [
      "member_id: r001i1850p3,  r001i2005p3,  r002i1850p3, ...\n",
      "experiment_id: 1pctco2,  historical,  picontrol, ...\n",
      "institution_id: mpi-m\n",
      "source_id: mpi-esm\n",
      "activity_id: output1\n",
      "mip_era: mpi-ge\n",
      "realm: atmos,  land, ...\n",
      "time_aggregation: mean\n",
      "frequency: mon\n",
      "variable_id: tas\n"
     ]
    }
   ],
   "source": [
    "cmd(\"databrowser metadata-search --host www.gems.dkrz.de --flavour cmip6 mip_era=mpi-ge variable_id=tas\", limit=10, list_limit=3)\n"
   ]
  },
  {
   "cell_type": "markdown",
   "id": "6d6973c8",
   "metadata": {
    "slideshow": {
     "slide_type": "subslide"
    }
   },
   "source": [
    "<div style=\"padding: 10px; font-family: Arial, sans-serif; background: linear-gradient(135deg, #3498db 0%, #2980b9 100%); border-radius: 12px; margin: 20px 0; box-shadow: 0 4px 15px rgba(0,0,0,0.1);\">\n",
    "    <div style=\"display: flex; align-items: center; gap: 20px;\">\n",
    "        <div style=\"background: white; color: #3498db; width: 60px; height: 60px; border-radius: 50%; display: flex; align-items: center; justify-content: center; font-weight: bold; font-size: 2em; box-shadow: 0 3px 8px rgba(0,0,0,0.2); flex-shrink: 0;\">1</div>\n",
    "        <div style=\"color: white; text-align: left; flex: 1;\">\n",
    "            <h1 style=\"margin: 0; font-size: 2.5em; font-weight: bold; text-align: left;\">Search <span style=\"font-size: 0.6em; font-weight: normal;\">(Findablity)</span></h1>\n",
    "        </div>\n",
    "    </div>\n",
    "</div>"
   ]
  },
  {
   "cell_type": "markdown",
   "id": "5ad22251",
   "metadata": {
    "slideshow": {
     "slide_type": "fragment"
    }
   },
   "source": [
    "### Access Metadata"
   ]
  },
  {
   "cell_type": "markdown",
   "id": "740ff535",
   "metadata": {},
   "source": [
    "<img src=\"https://cdn.jsdelivr.net/gh/devicons/devicon/icons/python/python-original.svg\" width=\"40\" style=\"display: block; margin: 0; text-align: left;\">"
   ]
  },
  {
   "cell_type": "code",
   "execution_count": 93,
   "id": "1041c6f2",
   "metadata": {
    "slideshow": {
     "slide_type": "fragment"
    }
   },
   "outputs": [
    {
     "data": {
      "text/html": [
       "<table><tr><th colspan='2' style=\"text-align: left\">databrowser(flavour=cmip6, host=https://www.gems.dkrz.de/api/freva-nextgen/databrowser, multi_version=False, mip_era=mpi-ge, variable_id=tas)</th></tr><tr><td><b># objects</b></td><td style=\"text-align: left\">921</td></tr><tr><td valign='top'><b>Available search facets for <em>cmip6</em> flavour</b></td><td style=\"text-align: left\">experiment_id, member_id, fs_type, grid_label, institution_id, source_id, mip_era, activity_id, realm, variable_id, time, bbox, time_aggregation, frequency, table_id, dataset, format, grid_id, level_type</td></tr><tr><td valign='top'><b>Available flavours</b></td><td style=\"text-align: left\">freva, cmip6, cmip5, cordex, nextgems, user</td></tr></table>"
      ],
      "text/plain": [
       "databrowser(flavour=cmip6, host=https://www.gems.dkrz.de/api/freva-nextgen/databrowser, multi_version=False, mip_era=mpi-ge, variable_id=tas)"
      ]
     },
     "execution_count": 93,
     "metadata": {},
     "output_type": "execute_result"
    }
   ],
   "source": [
    "from freva_client import databrowser\n",
    "db = databrowser(host=\"https://www.gems.dkrz.de\",\n",
    "                 flavour=\"cmip6\",\n",
    "                 mip_era=\"mpi-ge\", variable_id=\"tas\")\n",
    "db"
   ]
  },
  {
   "cell_type": "markdown",
   "id": "a9920235",
   "metadata": {
    "slideshow": {
     "slide_type": "subslide"
    }
   },
   "source": [
    "<div style=\"padding: 10px; font-family: Arial, sans-serif; background: linear-gradient(135deg, #3498db 0%, #2980b9 100%); border-radius: 12px; margin: 20px 0; box-shadow: 0 4px 15px rgba(0,0,0,0.1);\">\n",
    "    <div style=\"display: flex; align-items: center; gap: 20px;\">\n",
    "        <div style=\"background: white; color: #3498db; width: 60px; height: 60px; border-radius: 50%; display: flex; align-items: center; justify-content: center; font-weight: bold; font-size: 2em; box-shadow: 0 3px 8px rgba(0,0,0,0.2); flex-shrink: 0;\">1</div>\n",
    "        <div style=\"color: white; text-align: left; flex: 1;\">\n",
    "            <h1 style=\"margin: 0; font-size: 2.5em; font-weight: bold; text-align: left;\">Search <span style=\"font-size: 0.6em; font-weight: normal;\">(Findablity)</span></h1>\n",
    "        </div>\n",
    "    </div>\n",
    "</div>"
   ]
  },
  {
   "cell_type": "markdown",
   "id": "003beb86",
   "metadata": {},
   "source": [
    "<img src=\"https://cdnjs.cloudflare.com/ajax/libs/bootstrap-icons/1.13.1/icons/globe.svg\" width=\"40\" style=\"display: block; margin: 0; text-align: left;\">"
   ]
  },
  {
   "cell_type": "markdown",
   "id": "0a30c16d",
   "metadata": {
    "slideshow": {
     "slide_type": "fragment"
    }
   },
   "source": [
    "<video style=\"text-align: left; display: block;\" width=\"800\" controls>\n",
    "  <source src=\"media/mpi-mg_q.mp4\" type=\"video/mp4\">\n",
    "</video>"
   ]
  },
  {
   "cell_type": "markdown",
   "id": "ad8d6cb4",
   "metadata": {
    "slideshow": {
     "slide_type": "subslide"
    }
   },
   "source": [
    "<div style=\"padding: 10px; font-family: Arial, sans-serif; background: linear-gradient(135deg, #3498db 0%, #2980b9 100%); border-radius: 12px; margin: 20px 0; box-shadow: 0 4px 15px rgba(0,0,0,0.1);\">\n",
    "    <div style=\"display: flex; align-items: center; gap: 20px;\">\n",
    "        <div style=\"background: white; color: #3498db; width: 60px; height: 60px; border-radius: 50%; display: flex; align-items: center; justify-content: center; font-weight: bold; font-size: 2em; box-shadow: 0 3px 8px rgba(0,0,0,0.2); flex-shrink: 0;\">1</div>\n",
    "        <div style=\"color: white; text-align: left; flex: 1;\">\n",
    "            <h1 style=\"margin: 0; font-size: 2.5em; font-weight: bold; text-align: left;\">Search <span style=\"font-size: 0.6em; font-weight: normal;\">(Findablity)</span></h1>\n",
    "        </div>\n",
    "    </div>\n",
    "</div>"
   ]
  },
  {
   "cell_type": "markdown",
   "id": "3ea72070-2fea-496c-8a48-e591aa70fa8e",
   "metadata": {
    "editable": true,
    "slideshow": {
     "slide_type": "fragment"
    },
    "tags": []
   },
   "source": [
    "### Counting the number of datasets"
   ]
  },
  {
   "cell_type": "markdown",
   "id": "394c11f3",
   "metadata": {
    "slideshow": {
     "slide_type": "fragment"
    }
   },
   "source": [
    "<img src=\"https://cdn.jsdelivr.net/gh/devicons/devicon/icons/bash/bash-original.svg\" width=\"40\" style=\"display: block; margin: 0; text-align: left;\">"
   ]
  },
  {
   "cell_type": "code",
   "execution_count": null,
   "id": "e6c9c136-4f6f-4ab9-9f77-e2c1ecb4598a",
   "metadata": {
    "editable": true,
    "slideshow": {
     "slide_type": "fragment"
    },
    "tags": [],
    "vscode": {
     "languageId": "shellscript"
    }
   },
   "outputs": [],
   "source": [
    "$ freva-client databrowser metadata-search  --host www.gems.dkrz.de \\\n",
    "--flavour cmip6 mip_era=mpi-ge variable_id=tas --json \\\n",
    "|  jq -c .frequency"
   ]
  },
  {
   "cell_type": "code",
   "execution_count": 97,
   "id": "5b6c3e13-7c09-4cf3-a7f4-fe9261169f31",
   "metadata": {
    "editable": true,
    "slideshow": {
     "slide_type": "fragment"
    },
    "tags": [
     "hide_input"
    ]
   },
   "outputs": [
    {
     "name": "stdout",
     "output_type": "stream",
     "text": [
      "[\"mon\"]\n",
      "\n"
     ]
    }
   ],
   "source": [
    "cmd(\"databrowser metadata-search  --host https://www.gems.dkrz.de --flavour cmip6 variable_id=tas mip_era=mpi-ge --json |  jq -c .frequency\")"
   ]
  },
  {
   "cell_type": "code",
   "execution_count": null,
   "id": "a4441ecf",
   "metadata": {
    "slideshow": {
     "slide_type": "fragment"
    },
    "vscode": {
     "languageId": "shellscript"
    }
   },
   "outputs": [],
   "source": [
    "$ freva-client databrowser data-count  --host www.gems.dkrz.de --flavour cmip6 \\\n",
    "mip_era=mpi-ge frequency=mon variable_id=pr variable_id=tas \\\n",
    "time='2025-01 to 2100-12'"
   ]
  },
  {
   "cell_type": "code",
   "execution_count": 100,
   "id": "27dd6458-18cb-4d35-bb48-f721018e4c67",
   "metadata": {
    "editable": true,
    "slideshow": {
     "slide_type": "fragment"
    },
    "tags": [
     "hide_input"
    ]
   },
   "outputs": [
    {
     "name": "stdout",
     "output_type": "stream",
     "text": [
      "602\n",
      "\n"
     ]
    }
   ],
   "source": [
    "cmd(\"databrowser data-count  --host www.gems.dkrz.de --flavour cmip6 mip_era=mpi-ge frequency=mon variable_id=tas time='2025-01 to 2100-12'\")"
   ]
  },
  {
   "cell_type": "markdown",
   "id": "37b4ee91",
   "metadata": {
    "slideshow": {
     "slide_type": "subslide"
    }
   },
   "source": [
    "<div style=\"padding: 10px; font-family: Arial, sans-serif; background: linear-gradient(135deg, #3498db 0%, #2980b9 100%); border-radius: 12px; margin: 20px 0; box-shadow: 0 4px 15px rgba(0,0,0,0.1);\">\n",
    "    <div style=\"display: flex; align-items: center; gap: 20px;\">\n",
    "        <div style=\"background: white; color: #3498db; width: 60px; height: 60px; border-radius: 50%; display: flex; align-items: center; justify-content: center; font-weight: bold; font-size: 2em; box-shadow: 0 3px 8px rgba(0,0,0,0.2); flex-shrink: 0;\">1</div>\n",
    "        <div style=\"color: white; text-align: left; flex: 1;\">\n",
    "            <h1 style=\"margin: 0; font-size: 2.5em; font-weight: bold; text-align: left;\">Search <span style=\"font-size: 0.6em; font-weight: normal;\">(Findablity)</span></h1>\n",
    "        </div>\n",
    "    </div>\n",
    "</div>"
   ]
  },
  {
   "cell_type": "markdown",
   "id": "669362ad",
   "metadata": {
    "slideshow": {
     "slide_type": "fragment"
    }
   },
   "source": [
    "### Counting the number of datasets"
   ]
  },
  {
   "cell_type": "markdown",
   "id": "1fbac5a9",
   "metadata": {
    "slideshow": {
     "slide_type": "fragment"
    }
   },
   "source": [
    "<img src=\"https://cdn.jsdelivr.net/gh/devicons/devicon/icons/python/python-original.svg\" width=\"40\" style=\"display: block; margin: 0; text-align: left;\">"
   ]
  },
  {
   "cell_type": "code",
   "execution_count": 103,
   "id": "9d877e3a-4a20-4027-a648-96fded509da5",
   "metadata": {
    "editable": true,
    "slideshow": {
     "slide_type": "fragment"
    },
    "tags": []
   },
   "outputs": [
    {
     "data": {
      "text/plain": [
       "['mon']"
      ]
     },
     "execution_count": 103,
     "metadata": {},
     "output_type": "execute_result"
    }
   ],
   "source": [
    "db.metadata[\"frequency\"]"
   ]
  },
  {
   "cell_type": "code",
   "execution_count": 104,
   "id": "e5e0217a-4c9b-4b6b-a811-7a7ab28ec9e3",
   "metadata": {
    "editable": true,
    "slideshow": {
     "slide_type": "fragment"
    },
    "tags": []
   },
   "outputs": [
    {
     "data": {
      "text/plain": [
       "602"
      ]
     },
     "execution_count": 104,
     "metadata": {},
     "output_type": "execute_result"
    }
   ],
   "source": [
    "db_yr =  databrowser(\n",
    "    host=\"https://www.gems.dkrz.de\", \n",
    "    flavour=\"cmip6\", \n",
    "    mip_era=\"mpi-ge\", \n",
    "    frequency=\"mon\", \n",
    "    variable_id=\"tas\",\n",
    "    time=\"2025-01 to 2100-12\"\n",
    ")\n",
    "len(db_yr)"
   ]
  },
  {
   "cell_type": "markdown",
   "id": "6f2f0967",
   "metadata": {
    "slideshow": {
     "slide_type": "subslide"
    }
   },
   "source": [
    "<div style=\"padding: 10px; font-family: Arial, sans-serif; background: linear-gradient(135deg, #3498db 0%, #2980b9 100%); border-radius: 12px; margin: 20px 0; box-shadow: 0 4px 15px rgba(0,0,0,0.1);\">\n",
    "    <div style=\"display: flex; align-items: center; gap: 20px;\">\n",
    "        <div style=\"background: white; color: #3498db; width: 60px; height: 60px; border-radius: 50%; display: flex; align-items: center; justify-content: center; font-weight: bold; font-size: 2em; box-shadow: 0 3px 8px rgba(0,0,0,0.2); flex-shrink: 0;\">1</div>\n",
    "        <div style=\"color: white; text-align: left; flex: 1;\">\n",
    "            <h1 style=\"margin: 0; font-size: 2.5em; font-weight: bold; text-align: left;\">Search <span style=\"font-size: 0.6em; font-weight: normal;\">(Findablity)</span></h1>\n",
    "        </div>\n",
    "    </div>\n",
    "</div>"
   ]
  },
  {
   "cell_type": "markdown",
   "id": "5e62611d-f065-4175-930d-fa787688d5fa",
   "metadata": {
    "editable": true,
    "slideshow": {
     "slide_type": "fragment"
    },
    "tags": []
   },
   "source": [
    "### Accessing dataset paths:"
   ]
  },
  {
   "cell_type": "markdown",
   "id": "a1297d14",
   "metadata": {
    "editable": true,
    "slideshow": {
     "slide_type": "fragment"
    },
    "tags": []
   },
   "source": [
    "<img src=\"https://cdn.jsdelivr.net/gh/devicons/devicon/icons/bash/bash-original.svg\" width=\"40\" style=\"display: block; margin: 0; text-align: left;\">"
   ]
  },
  {
   "cell_type": "code",
   "execution_count": null,
   "id": "a04ca6cc",
   "metadata": {
    "editable": true,
    "slideshow": {
     "slide_type": "fragment"
    },
    "tags": [],
    "vscode": {
     "languageId": "shellscript"
    }
   },
   "outputs": [],
   "source": [
    "$ freva-client databrowser data-search mip_era=mpi-ge variable_id=tas \\\n",
    "frequency=mon --time \"2025-01 to 2100-12\" --json experiment_id=picontrol \\\n",
    "--host  https://www.gems.dkrz.de --flavour cmip6"
   ]
  },
  {
   "cell_type": "code",
   "execution_count": 119,
   "id": "e7159d72-e053-47b8-928d-8f68be13f56c",
   "metadata": {
    "editable": true,
    "slideshow": {
     "slide_type": "fragment"
    },
    "tags": [
     "hide_input"
    ]
   },
   "outputs": [
    {
     "name": "stdout",
     "output_type": "stream",
     "text": [
      "[\"/work/mh1007/CMOR/MPI-GE/output1/MPI-M/MPI-ESM/piControl/mon/atmos/tas/r001i1850p3/v20190123/tas_Amon_MPI-ESM_piControl_r001i1850p3_200001-209912.nc\", \"/work/mh1007/CMOR/MPI-GE/output1/MPI-M/MPI-ESM/piControl/mon/atmos/tas/r001i1850p3/v20190123/tas_Amon_MPI-ESM_piControl_r001i1850p3_210001-219912.nc\"]\n",
      "\n"
     ]
    }
   ],
   "source": [
    "cmd(\"databrowser data-search mip_era=mpi-ge variable_id=tas frequency=mon experiment_id=picontrol --time '2025-01 to 2100-12' --json --host  https://www.gems.dkrz.de --flavour cmip6\")"
   ]
  },
  {
   "cell_type": "markdown",
   "id": "88d85256",
   "metadata": {
    "slideshow": {
     "slide_type": "subslide"
    }
   },
   "source": [
    "<div style=\"padding: 10px; font-family: Arial, sans-serif; background: linear-gradient(135deg, #3498db 0%, #2980b9 100%); border-radius: 12px; margin: 20px 0; box-shadow: 0 4px 15px rgba(0,0,0,0.1);\">\n",
    "    <div style=\"display: flex; align-items: center; gap: 20px;\">\n",
    "        <div style=\"background: white; color: #3498db; width: 60px; height: 60px; border-radius: 50%; display: flex; align-items: center; justify-content: center; font-weight: bold; font-size: 2em; box-shadow: 0 3px 8px rgba(0,0,0,0.2); flex-shrink: 0;\">1</div>\n",
    "        <div style=\"color: white; text-align: left; flex: 1;\">\n",
    "            <h1 style=\"margin: 0; font-size: 2.5em; font-weight: bold; text-align: left;\">Search <span style=\"font-size: 0.6em; font-weight: normal;\">(Findablity)</span></h1>\n",
    "        </div>\n",
    "    </div>\n",
    "</div>"
   ]
  },
  {
   "cell_type": "markdown",
   "id": "a0632178",
   "metadata": {
    "editable": true,
    "slideshow": {
     "slide_type": "fragment"
    },
    "tags": []
   },
   "source": [
    "### Accessing dataset path:"
   ]
  },
  {
   "cell_type": "markdown",
   "id": "46d2f596",
   "metadata": {
    "editable": true,
    "slideshow": {
     "slide_type": "fragment"
    },
    "tags": []
   },
   "source": [
    "<img src=\"https://cdn.jsdelivr.net/gh/devicons/devicon/icons/python/python-original.svg\" width=\"40\" style=\"display: block; margin: 0; text-align: left;\">"
   ]
  },
  {
   "cell_type": "code",
   "execution_count": 25,
   "id": "93bc41ad",
   "metadata": {
    "editable": true,
    "slideshow": {
     "slide_type": "fragment"
    },
    "tags": []
   },
   "outputs": [],
   "source": [
    "pcontrol = databrowser(mip_era=\"mpi-ge\",\n",
    "                       variable_id=\"tas\",\n",
    "                       frequency=\"mon\", time=\"2025-01 to 2100-12\", experiment_id=\"picontrol\",\n",
    "                       host=\"https://www.gems.dkrz.de\", flavour=\"cmip6\")"
   ]
  },
  {
   "cell_type": "code",
   "execution_count": 110,
   "id": "bdfccd97",
   "metadata": {
    "editable": true,
    "slideshow": {
     "slide_type": "fragment"
    },
    "tags": []
   },
   "outputs": [
    {
     "name": "stdout",
     "output_type": "stream",
     "text": [
      "/work/mh1007/CMOR/MPI-GE/output1/MPI-M/MPI-ESM/piControl/mon/atmos/tas/r001i1850p3/v20190123/tas_Amon_MPI-ESM_piControl_r001i1850p3_210001-219912.nc\n",
      "/work/mh1007/CMOR/MPI-GE/output1/MPI-M/MPI-ESM/piControl/mon/atmos/tas/r001i1850p3/v20190123/tas_Amon_MPI-ESM_piControl_r001i1850p3_200001-209912.nc\n"
     ]
    }
   ],
   "source": [
    "for num, file in enumerate(pcontrol):\n",
    "    print(file)\n",
    "    if num > 1:\n",
    "        break"
   ]
  },
  {
   "cell_type": "markdown",
   "id": "675fdc6c",
   "metadata": {
    "slideshow": {
     "slide_type": "subslide"
    }
   },
   "source": [
    "<div style=\"padding: 10px; font-family: Arial, sans-serif; background: linear-gradient(135deg, #3498db 0%, #2980b9 100%); border-radius: 12px; margin: 20px 0; box-shadow: 0 4px 15px rgba(0,0,0,0.1);\">\n",
    "    <div style=\"display: flex; align-items: center; gap: 20px;\">\n",
    "        <div style=\"background: white; color: #3498db; width: 60px; height: 60px; border-radius: 50%; display: flex; align-items: center; justify-content: center; font-weight: bold; font-size: 2em; box-shadow: 0 3px 8px rgba(0,0,0,0.2); flex-shrink: 0;\">1</div>\n",
    "        <div style=\"color: white; text-align: left; flex: 1;\">\n",
    "            <h1 style=\"margin: 0; font-size: 2.5em; font-weight: bold; text-align: left;\">Search <span style=\"font-size: 0.6em; font-weight: normal;\">(Findablity)</span></h1>\n",
    "        </div>\n",
    "    </div>\n",
    "</div>"
   ]
  },
  {
   "cell_type": "markdown",
   "id": "05f26cb8",
   "metadata": {
    "slideshow": {
     "slide_type": "fragment"
    }
   },
   "source": [
    "### Pro Tip: Query data of files"
   ]
  },
  {
   "cell_type": "markdown",
   "id": "5bdba16c",
   "metadata": {
    "slideshow": {
     "slide_type": "fragment"
    }
   },
   "source": [
    "<img src=\"https://cdn.jsdelivr.net/gh/devicons/devicon/icons/bash/bash-original.svg\" width=\"40\" style=\"display: block; margin: 0; text-align: left;\">"
   ]
  },
  {
   "cell_type": "code",
   "execution_count": 111,
   "id": "fad97c79",
   "metadata": {
    "slideshow": {
     "slide_type": "fragment"
    },
    "tags": [
     "hide_input"
    ]
   },
   "outputs": [
    {
     "name": "stdout",
     "output_type": "stream",
     "text": [
      "$ freva-client databrowser metadata-search file=/work/mh1007/CMOR/MPI-GE/output1/MPI-M/MPI-ESM/piControl/mon/atmos/tas/r001i1850p3/v20190123/tas_Amon_MPI-ESM_piControl_r001i1850p3_210001-219912.nc --host=www.gems.dkrz.de\n",
      "\n",
      "ensemble: r001i1850p3\n",
      "experiment: picontrol\n",
      "institute: mpi-m\n",
      "model: mpi-esm\n",
      "product: output1\n",
      "project: mpi-ge\n",
      "realm: atmos\n",
      "time_aggregation: mean\n",
      "time_frequency: mon\n",
      "variable: tas\n",
      "\n"
     ]
    }
   ],
   "source": [
    "print(\"$ freva-client databrowser metadata-search file=/work/mh1007/CMOR/MPI-GE/output1/MPI-M/MPI-ESM/piControl/mon/atmos/tas/r001i1850p3/v20190123/tas_Amon_MPI-ESM_piControl_r001i1850p3_210001-219912.nc --host=www.gems.dkrz.de\")\n",
    "print()\n",
    "cmd(\"databrowser metadata-search file=/work/mh1007/CMOR/MPI-GE/output1/MPI-M/MPI-ESM/piControl/mon/atmos/tas/r001i1850p3/v20190123/tas_Amon_MPI-ESM_piControl_r001i1850p3_210001-219912.nc --host=www.gems.dkrz.de\") "
   ]
  },
  {
   "cell_type": "markdown",
   "id": "13352806",
   "metadata": {
    "slideshow": {
     "slide_type": "subslide"
    }
   },
   "source": [
    "<div style=\"padding: 10px; font-family: Arial, sans-serif; background: linear-gradient(135deg, #3498db 0%, #2980b9 100%); border-radius: 12px; margin: 20px 0; box-shadow: 0 4px 15px rgba(0,0,0,0.1);\">\n",
    "    <div style=\"display: flex; align-items: center; gap: 20px;\">\n",
    "        <div style=\"background: white; color: #3498db; width: 60px; height: 60px; border-radius: 50%; display: flex; align-items: center; justify-content: center; font-weight: bold; font-size: 2em; box-shadow: 0 3px 8px rgba(0,0,0,0.2); flex-shrink: 0;\">1</div>\n",
    "        <div style=\"color: white; text-align: left; flex: 1;\">\n",
    "            <h1 style=\"margin: 0; font-size: 2.5em; font-weight: bold; text-align: left;\">Search <span style=\"font-size: 0.6em; font-weight: normal;\">(Findablity)</span></h1>\n",
    "        </div>\n",
    "    </div>\n",
    "</div>"
   ]
  },
  {
   "cell_type": "markdown",
   "id": "64594110",
   "metadata": {
    "slideshow": {
     "slide_type": "fragment"
    }
   },
   "source": [
    "### Pro Tip: Query data of files"
   ]
  },
  {
   "cell_type": "markdown",
   "id": "34ecaeee",
   "metadata": {
    "slideshow": {
     "slide_type": "fragment"
    }
   },
   "source": [
    "<img src=\"https://cdn.jsdelivr.net/gh/devicons/devicon/icons/python/python-original.svg\" width=\"40\" style=\"display: block; margin: 0; text-align: left;\">"
   ]
  },
  {
   "cell_type": "code",
   "execution_count": 112,
   "id": "a13b5bed",
   "metadata": {
    "slideshow": {
     "slide_type": "fragment"
    }
   },
   "outputs": [
    {
     "data": {
      "text/plain": [
       "{'ensemble': ['r001i1850p3'],\n",
       " 'experiment': ['picontrol'],\n",
       " 'institute': ['mpi-m'],\n",
       " 'model': ['mpi-esm'],\n",
       " 'product': ['output1'],\n",
       " 'project': ['mpi-ge'],\n",
       " 'realm': ['atmos'],\n",
       " 'time_aggregation': ['mean'],\n",
       " 'time_frequency': ['mon'],\n",
       " 'variable': ['tas']}"
      ]
     },
     "execution_count": 112,
     "metadata": {},
     "output_type": "execute_result"
    }
   ],
   "source": [
    "db.metadata_search(\n",
    "    file=\"/work/mh1007/CMOR/MPI-GE/output1/MPI-M/MPI-ESM/piControl/mon/atmos/tas/r001i1850p3/v20190123/tas_Amon_MPI-ESM_piControl_r001i1850p3_210001-219912.nc\",\n",
    "    host=\"www.gems.dkrz.de\"\n",
    ")"
   ]
  },
  {
   "cell_type": "code",
   "execution_count": 123,
   "id": "fb98fde6",
   "metadata": {
    "editable": true,
    "slideshow": {
     "slide_type": "fragment"
    },
    "tags": []
   },
   "outputs": [
    {
     "data": {
      "text/plain": [
       "['rcp26', 'rcp45', 'rcp85']"
      ]
     },
     "execution_count": 123,
     "metadata": {},
     "output_type": "execute_result"
    }
   ],
   "source": [
    "db = databrowser(mip_era=\"mpi-ge\", variable_id=\"tas\",\n",
    "                 frequency=\"mon\", time=\"2025-01 to 2100-12\",\n",
    "                 experiment_id=\"!picontrol\", flavour=\"cmip6\",\n",
    "                 host=\"https://www.gems.dkrz.de\"\n",
    "                )\n",
    "db.metadata[\"experiment_id\"]"
   ]
  },
  {
   "cell_type": "markdown",
   "id": "364efec0",
   "metadata": {
    "editable": true,
    "slideshow": {
     "slide_type": "slide"
    },
    "tags": []
   },
   "source": [
    "<div style=\"padding: 10px; font-family: Arial, sans-serif; background: linear-gradient(135deg, #f39c12 0%, #e67e22 100%); border-radius: 12px; margin: 20px 0; box-shadow: 0 4px 15px rgba(0,0,0,0.1);\">\n",
    "    <div style=\"display: flex; align-items: center; gap: 20px;\">\n",
    "        <div style=\"background: white; color: #f39c12; width: 60px; height: 60px; border-radius: 50%; display: flex; align-items: center; justify-content: center; font-weight: bold; font-size: 2em; box-shadow: 0 3px 8px rgba(0,0,0,0.2); flex-shrink: 0;\">3</div>\n",
    "        <div style=\"color: white; text-align: left; flex: 1;\">\n",
    "            <h1 style=\"margin: 0; font-size: 2.5em; font-weight: bold; text-align: left;\">Access <span style=\"font-size: 0.6em; font-weight: normal;\">(Accessiblity)</span></h1>\n",
    "        </div>\n",
    "    </div>\n",
    "</div>"
   ]
  },
  {
   "cell_type": "markdown",
   "id": "95b04d81",
   "metadata": {
    "editable": true,
    "slideshow": {
     "slide_type": "fragment"
    },
    "tags": []
   },
   "source": [
    "<img src=\"https://cdn.jsdelivr.net/gh/devicons/devicon/icons/python/python-original.svg\" width=\"40\" style=\"display: block; margin: 0; text-align: left;\">"
   ]
  },
  {
   "cell_type": "code",
   "execution_count": 16,
   "id": "95099e4d-8a26-48ed-9555-48c04a757402",
   "metadata": {
    "editable": true,
    "slideshow": {
     "slide_type": "fragment"
    },
    "tags": []
   },
   "outputs": [
    {
     "data": {
      "text/plain": [
       "'https://www.nextgems.dkrz.de/api/freva-nextgen/data-portal/zarr/5b8ec334-d2c9-536d-9b8e-249bbd34ac23.zarr'"
      ]
     },
     "execution_count": 16,
     "metadata": {},
     "output_type": "execute_result"
    }
   ],
   "source": [
    "from freva_client import authenticate\n",
    "import xarray as xr\n",
    "token = authenticate(host=\"www.gems.dkrz.de\", token_file=Path(\"~/.token.json\").expanduser())\n",
    "data = databrowser(host=\"www.gems.dkrz.de\", flavour=\"cmip6\",\n",
    "                   mip_era=\"mpi-ge\",\n",
    "                   variable_id=\"tas\",\n",
    "                   experiment_id=\"historical\",\n",
    "                   stream_zarr=True)\n",
    "uri = list(data)[0]\n",
    "uri"
   ]
  },
  {
   "cell_type": "code",
   "execution_count": 22,
   "id": "278acb36-0310-4360-bf69-76eb9bfadaa5",
   "metadata": {
    "editable": true,
    "slideshow": {
     "slide_type": "fragment"
    },
    "tags": []
   },
   "outputs": [
    {
     "name": "stdout",
     "output_type": "stream",
     "text": [
      "<xarray.Dataset> Size: 138MB\n",
      "Dimensions:  (time: 1872, lat: 96, lon: 192)\n",
      "Coordinates:\n",
      "  * time     (time) object 15kB 1850-01-31 23:52:00 ... 2005-12-31 23:52:00\n",
      "  * lon      (lon) float64 2kB 0.0 1.875 3.75 5.625 ... 352.5 354.4 356.2 358.1\n",
      "  * lat      (lat) float64 768B -88.57 -86.72 -84.86 -83.0 ... 84.86 86.72 88.57\n",
      "Data variables:\n",
      "    tas      (time, lat, lon) float32 138MB ...\n",
      "Attributes:\n",
      "    CDI:          Climate Data Interface version 1.9.5 (http://mpimet.mpg.de/...\n",
      "    Conventions:  CF-1.6\n",
      "    history:      Thu Dec 13 08:45:54 2018: cdo -f nc -r setpartabn,tas.parta...\n",
      "    institution:  Max-Planck-Institute for Meteorology\n",
      "    CDO:          Climate Data Operators version 1.9.5 (http://mpimet.mpg.de/...\n"
     ]
    }
   ],
   "source": [
    "ds = xr.open_dataset(\n",
    "    uri,\n",
    "    engine=\"zarr\",\n",
    "    decode_times=xr.coders.CFDatetimeCoder(use_cftime=True),\n",
    "    storage_options={\n",
    "        \"headers\":{\"Authorization\": f\"Bearer {token['access_token']}\"}\n",
    "   })\n",
    "print(ds)"
   ]
  },
  {
   "cell_type": "markdown",
   "id": "99f63d0e",
   "metadata": {
    "editable": true,
    "slideshow": {
     "slide_type": "slide"
    },
    "tags": []
   },
   "source": [
    "<div style=\"padding: 40px; font-family: Arial, sans-serif; text-align: center;\">\n",
    "    <div style=\"max-width: 800px; margin: 0 auto;\">\n",
    "        <h1 style=\"color: #2c3e50; font-size: 3.5em; font-weight: bold; margin-bottom: 20px;\">After this walkthrough, we believe FREVA is FAIR enough!</h1>\n",
    "        <div style=\"display: flex; justify-content: center; gap: 30px; margin: 40px 0; flex-wrap: wrap;\">\n",
    "            <div style=\"background: #3498db; color: white; padding: 15px 25px; border-radius: 25px; font-weight: bold; font-size: 1.1em;\">Findable</div>\n",
    "            <div style=\"background: #e74c3c; color: white; padding: 15px 25px; border-radius: 25px; font-weight: bold; font-size: 1.1em;\">Accessible</div>\n",
    "            <div style=\"background: #f39c12; color: white; padding: 15px 25px; border-radius: 25px; font-weight: bold; font-size: 1.1em;\">Interoperable</div>\n",
    "            <div style=\"background: #27ae60; color: white; padding: 15px 25px; border-radius: 25px; font-weight: bold; font-size: 1.1em;\">Reusable</div>\n",
    "        </div>\n",
    "        <p style=\"color: #7f8c8d; font-size: 1.4em; margin-bottom: 40px; line-height: 1.5;\">What do you think?</p>\n",
    "    </div>\n",
    "</div>"
   ]
  },
  {
   "cell_type": "markdown",
   "id": "3f93113d-8cd1-4bba-8f88-96aa4dc7e101",
   "metadata": {
    "editable": true,
    "slideshow": {
     "slide_type": "subslide"
    },
    "tags": []
   },
   "source": [
    "<div style=\"padding: 30px; font-family: Arial, sans-serif;\">\n",
    "    <h2 style=\"color: #2c3e50; text-align: center; margin-bottom: 30px; font-size: 2em; font-weight: 300;\">Freva Databrowser: Hands-on content table</h2>\n",
    "    <div style=\"display: flex; justify-content: space-between; align-items: stretch; gap: 15px; max-width: 1400px; margin: 0 auto;\">\n",
    "        <div style=\"flex: 1; background: white; padding: 20px; border-radius: 12px; box-shadow: 0 3px 10px rgba(0,0,0,0.1); border-top: 5px solid #3498db; text-align: center;\">\n",
    "            <div style=\"background: #3498db; color: white; width: 50px; height: 50px; border-radius: 50%; display: flex; align-items: center; justify-content: center; font-weight: bold; margin: 0 auto 15px auto; font-size: 1.5em;\">1</div>\n",
    "            <h3 style=\"color: #2c3e50; margin: 0 0 10px 0; font-size: 1.2em;\">Search\n",
    "            <br>\n",
    "            <span style=\"color: #3498db; font-weight: normal; font-size: 0.8em;\">(Findablity)</span></h3>\n",
    "            <p style=\"color: #7f8c8d; margin: 0; font-size: 0.9em; line-height: 1.4;\">Find the datasets you need with smart search filters</p>\n",
    "        </div>\n",
    "        <div style=\"flex: 1; background: white; padding: 20px; border-radius: 12px; box-shadow: 0 3px 10px rgba(0,0,0,0.1); border-top: 5px solid #e74c3c; text-align: center;\">\n",
    "            <div style=\"background: #e74c3c; color: white; width: 50px; height: 50px; border-radius: 50%; display: flex; align-items: center; justify-content: center; font-weight: bold; margin: 0 auto 15px auto; font-size: 1.5em;\">2</div>\n",
    "            <h3 style=\"color: #2c3e50; margin: 0 0 10px 0; font-size: 1.2em;\">Cataloging Data\n",
    "            <br>\n",
    "            <span style=\"color: #e74c3c; font-weight: normal; font-size: 0.8em;\">(Reusablity)</span></h3>\n",
    "            <p style=\"color: #7f8c8d; margin: 0; font-size: 0.9em; line-height: 1.4;\">Browse, get and share datasets in structured catalogues</p>\n",
    "        </div>\n",
    "        <div style=\"flex: 1; background: white; padding: 20px; border-radius: 12px; box-shadow: 0 3px 10px rgba(0,0,0,0.1); border-top: 5px solid #27ae60; text-align: center;\">\n",
    "            <div style=\"background: #27ae60; color: white; width: 50px; height: 50px; border-radius: 50%; display: flex; align-items: center; justify-content: center; font-weight: bold; margin: 0 auto 15px auto; font-size: 1.5em;\">3</div>\n",
    "            <h3 style=\"color: #2c3e50; margin: 0 0 10px 0; font-size: 1.2em;\">Customize Dataset\n",
    "            <br>\n",
    "            <span style=\"color: #27ae60; font-weight: normal; font-size: 0.8em;\">(Interoperablity)</span></h3>\n",
    "            <p style=\"color: #7f8c8d; margin: 0; font-size: 0.9em; line-height: 1.4;\">Add/Remove your customized data to/from Freva</p>\n",
    "        </div>\n",
    "         <div style=\"flex: 1; background: white; padding: 20px; border-radius: 12px; box-shadow: 0 3px 10px rgba(0,0,0,0.1); border-top: 5px solid #f39c12; text-align: center;\">\n",
    "            <div style=\"background: #f39c12; color: white; width: 50px; height: 50px; border-radius: 50%; display: flex; align-items: center; justify-content: center; font-weight: bold; margin: 0 auto 15px auto; font-size: 1.5em;\">4</div>\n",
    "            <h3 style=\"color: #2c3e50; margin: 0 0 10px 0; font-size: 1.2em;\">S3 Access\n",
    "            <br>\n",
    "            <span style=\"color: #f39c12; font-weight: normal; font-size: 0.8em;\">(Accessiblity)</span></h3>\n",
    "            <p style=\"color: #7f8c8d; margin: 0; font-size: 0.9em; line-height: 1.4;\">Add and cccess (your) data via the S3 cloud store</p>\n",
    "        </div>\n",
    "    </div>\n",
    "</div>"
   ]
  },
  {
   "cell_type": "markdown",
   "id": "677d0c59",
   "metadata": {
    "editable": true,
    "slideshow": {
     "slide_type": "slide"
    },
    "tags": []
   },
   "source": [
    "# File vs Object Storage\n"
   ]
  },
  {
   "cell_type": "markdown",
   "id": "8f76877d",
   "metadata": {
    "slideshow": {
     "slide_type": "subslide"
    }
   },
   "source": [
    "## File Storage\n",
    "\n",
    "- Hierarchical structure (tree)\n",
    "  - Directory with files and other directories\n",
    "- Easy to rename and move items around\n",
    "  - **Not** identified by name\n",
    "  - Change references\n",
    "- _System-centric_, not designed to be share\n"
   ]
  },
  {
   "cell_type": "markdown",
   "id": "5788b95e",
   "metadata": {
    "slideshow": {
     "slide_type": "subslide"
    }
   },
   "source": [
    "## Object Storage\n",
    "\n",
    "- Flat structure (key-value)\n",
    "  - Items are identified by a key/name\n",
    "  - Content is accessed providing key/name\n",
    "- Not easy to move items around!\n",
    "  - Moving is renaming \n",
    "  - Modify key"
   ]
  },
  {
   "cell_type": "markdown",
   "id": "d3ac8679",
   "metadata": {
    "slideshow": {
     "slide_type": "subslide"
    }
   },
   "source": [
    "## **Local** vs Remote Storage\n",
    "\n",
    "**Local** storage should be:\n",
    "\n",
    " - Fast\n",
    " - Reliable\n",
    " - Performant!\n"
   ]
  },
  {
   "cell_type": "markdown",
   "id": "ce2bff8f",
   "metadata": {
    "slideshow": {
     "slide_type": "subslide"
    }
   },
   "source": [
    "## Local vs **Remote** Storage\n",
    "\n",
    "**Remote** storage should be:\n",
    "\n",
    " - Simple & common language\n",
    " - Permissive\n",
    " - Highly available!\n"
   ]
  },
  {
   "cell_type": "markdown",
   "id": "9a721614",
   "metadata": {
    "slideshow": {
     "slide_type": "subslide"
    }
   },
   "source": [
    "## HTTP aka internet language!?\n",
    "\n",
    "Stands for _Hypertext Transfer Protocol_. \n",
    "There are many protocols...\n"
   ]
  },
  {
   "cell_type": "markdown",
   "id": "08a6cd87",
   "metadata": {
    "slideshow": {
     "slide_type": "fragment"
    }
   },
   "source": [
    "\n",
    "- simple\n",
    "- very generic\n",
    "- very flexible\n",
    "- famous!\n"
   ]
  },
  {
   "cell_type": "markdown",
   "id": "75f8222d",
   "metadata": {
    "slideshow": {
     "slide_type": "fragment"
    }
   },
   "source": [
    "\n",
    "Client makes a **request**, server **replies**\n",
    "\n",
    "> **_NOTE:_** IP the actual and literal Internel Protocol"
   ]
  },
  {
   "cell_type": "markdown",
   "id": "12656450",
   "metadata": {
    "slideshow": {
     "slide_type": "subslide"
    }
   },
   "source": [
    "## Requests\n",
    "\n",
    " - Method - _verb_/type (`GET`, [etc...](https://developer.mozilla.org/en-US/docs/Web/HTTP/Reference/Methods))\n",
    " - Headers - metadata, options (`Content-Type`,...)\n",
    " - Body - data (empty, raw bytes, text,... )"
   ]
  },
  {
   "cell_type": "markdown",
   "id": "110c3125",
   "metadata": {
    "slideshow": {
     "slide_type": "subslide"
    }
   },
   "source": [
    "## Replies\n",
    "\n",
    " - Code + Result (`404 Not Found`)\n",
    " - Headers - metadata, options (`Content-Type`,...)\n",
    " - Body - data (empty, raw bytes, text,... )"
   ]
  },
  {
   "cell_type": "markdown",
   "id": "c13ff3d7",
   "metadata": {
    "slideshow": {
     "slide_type": "subslide"
    }
   },
   "source": [
    "\n",
    "## Object Store APIs\n",
    "\n",
    "Different providers expose API not be (**fully**) interchangable. E.g.  `list objects`:\n",
    "\n",
    "- [AWS S3](https://docs.aws.amazon.com/AmazonS3/latest/API/API_Operations_Amazon_Simple_Storage_Service.html)\n",
    "```\n",
    "GET /?delimiter={delimiter}&encoding-type={enctype}&marker=....&prefix={prefix}\n",
    "```\n",
    "- [Openstack Swift](https://docs.openstack.org/api-ref/object-store/)\n",
    "```\n",
    "GET /v1/{account}/{container}\n",
    "```\n",
    "- [Google Cloud Storage](https://cloud.google.com/storage/docs/json_api/v1/objects/get)\n",
    "```\n",
    "GET /v1/b/{bucket}/o/\n",
    "```\n",
    "- [Azure Blob Storage](https://myaccount.blob.core.windows.net/mycontainer/myblob)\n",
    "```\n",
    "GET /{container}?restype=container&comp=list\n",
    "```"
   ]
  },
  {
   "cell_type": "markdown",
   "id": "149da911",
   "metadata": {
    "slideshow": {
     "slide_type": "slide"
    }
   },
   "source": [
    "# S3 - Simple Storage Service"
   ]
  },
  {
   "cell_type": "markdown",
   "id": "a30759af",
   "metadata": {
    "slideshow": {
     "slide_type": "fragment"
    }
   },
   "source": [
    "Created by AWS\n",
    "- S3 API is public (partially)"
   ]
  },
  {
   "cell_type": "markdown",
   "id": "93444f91",
   "metadata": {
    "slideshow": {
     "slide_type": "subslide"
    }
   },
   "source": [
    "## S3 Concepts\n",
    "\n",
    "- Bucket - The container of the objects\n",
    "- Objects - The actual data\n",
    "- Regions (advanced) - Location of the data\n",
    "- Authentication"
   ]
  },
  {
   "cell_type": "markdown",
   "id": "a7977fb9",
   "metadata": {
    "slideshow": {
     "slide_type": "fragment"
    }
   },
   "source": [
    "> Directories can be emulated by empty objects terminated with `/`"
   ]
  },
  {
   "cell_type": "markdown",
   "id": "4c28ae22",
   "metadata": {
    "slideshow": {
     "slide_type": "subslide"
    }
   },
   "source": [
    "## S3 - Authentication\n",
    "\n",
    "- A bucket may not be publicly available.\n",
    "- Key-Secret pairs sign the request\n",
    "  - May expire automatically\n",
    "  - May be valid indefinetly\n",
    "- Create temporarly link to share or receive data"
   ]
  },
  {
   "cell_type": "markdown",
   "id": "669d773d",
   "metadata": {
    "slideshow": {
     "slide_type": "subslide"
    }
   },
   "source": [
    "## Exploring data on S3\n",
    "\n",
    "- Command line interfaces (CLIs)\n",
    "- Software Development Kits (SDKs)\n",
    "  - Libraries"
   ]
  },
  {
   "cell_type": "markdown",
   "id": "5f4994d1",
   "metadata": {
    "slideshow": {
     "slide_type": "subslide"
    }
   },
   "source": [
    "## CLIs\n",
    "\n",
    "AWS provides a command line interface (not just for `s3`)"
   ]
  },
  {
   "cell_type": "code",
   "execution_count": null,
   "id": "1f5a40e3",
   "metadata": {
    "slideshow": {
     "slide_type": "fragment"
    },
    "vscode": {
     "languageId": "shellscript"
    }
   },
   "outputs": [],
   "source": [
    "#micromamba install awscli ||pip install awscli\n",
    "aws s3 ls s3://ncar-cesm2-lens/ --no-sign-request\n",
    "\n",
    "alias awss3='aws s3 --no-sign-request'\n",
    "awss3 cp --recursive  s3://ncar-cesm2-lens/atm/static/grid.zarr /tmp/grid.zarr"
   ]
  },
  {
   "cell_type": "markdown",
   "id": "f5e0ae26",
   "metadata": {
    "slideshow": {
     "slide_type": "fragment"
    }
   },
   "source": [
    "> Appending `/` to the S3 resource may produce different results"
   ]
  },
  {
   "cell_type": "markdown",
   "id": "defc6aa8",
   "metadata": {
    "slideshow": {
     "slide_type": "subslide"
    }
   },
   "source": [
    "## MINIO\n",
    "\n",
    "[Minio](https://docs.min.io/community/minio-object-store/index.html) - Open source S3 object store"
   ]
  },
  {
   "cell_type": "code",
   "execution_count": null,
   "id": "a4777504",
   "metadata": {
    "slideshow": {
     "slide_type": "fragment"
    },
    "vscode": {
     "languageId": "shellscript"
    }
   },
   "outputs": [],
   "source": [
    "module load minio-client\n",
    "mc alias set aws https://s3.amazonaws.com \"\" \"\" # empty keys = no authentication\n",
    "mc ls aws/ncar-cesm2-lens/ice/static/grid.zarr\n",
    "\n",
    "mc alias set dkrz https://s3.eu-dkrz-1.dkrz.cloud \"\" \"\" \n",
    "mc ls dkrz/freva"
   ]
  },
  {
   "cell_type": "markdown",
   "id": "bf3ab097",
   "metadata": {
    "slideshow": {
     "slide_type": "fragment"
    }
   },
   "source": [
    "> Appending `/` may produce different results"
   ]
  },
  {
   "cell_type": "markdown",
   "id": "56b67559",
   "metadata": {
    "slideshow": {
     "slide_type": "subslide"
    }
   },
   "source": [
    "## Useful Python modules\n",
    "\n",
    "- [`boto3`](https://boto3.amazonaws.com/v1/documentation/api/latest/index.html) - AWS S3 official sdk for python\n",
    "  - [`aioboto3`](https://github.com/terricain/aioboto3)\n",
    "- [`obstore`](https://developmentseed.org/obstore/latest/api/store/#obstore.store.from_url) - Alse supports non S3 object stores\n",
    "- [`fsspec`](https://github.com/fsspec)/[`s3fs`](https://github.com/fsspec/s3fs) - Filesystem wrapper for storage types\n",
    "- [`minio`](https://min.io/docs/minio/linux/developers/python/minio-py.html) - Minio SDK for python"
   ]
  },
  {
   "cell_type": "markdown",
   "id": "48b2e921",
   "metadata": {
    "slideshow": {
     "slide_type": "subslide"
    }
   },
   "source": [
    "## The usual suspects"
   ]
  },
  {
   "cell_type": "code",
   "execution_count": null,
   "id": "d7a69c4f",
   "metadata": {
    "slideshow": {
     "slide_type": "fragment"
    }
   },
   "outputs": [],
   "source": [
    "dataset_url = 's3://ncar-cesm2-lens/ocn/static/grid.zarr'\n",
    "s3_opts = {'anon': True}"
   ]
  },
  {
   "cell_type": "code",
   "execution_count": null,
   "id": "335de7b6",
   "metadata": {
    "slideshow": {
     "slide_type": "fragment"
    }
   },
   "outputs": [],
   "source": [
    "import xarray as xr\n",
    "ds = xr.open_dataset(dataset_url, engine='zarr', storage_options=s3_opts)"
   ]
  },
  {
   "cell_type": "code",
   "execution_count": null,
   "id": "adcad755",
   "metadata": {
    "slideshow": {
     "slide_type": "fragment"
    }
   },
   "outputs": [],
   "source": [
    "import zarr\n",
    "zarr.open(dataset_url, storage_options=s3_opts)"
   ]
  },
  {
   "cell_type": "markdown",
   "id": "bdc94449",
   "metadata": {
    "slideshow": {
     "slide_type": "subslide"
    }
   },
   "source": [
    "## NetCDF on S3 (classic, nc4/hdf5)"
   ]
  },
  {
   "cell_type": "code",
   "execution_count": null,
   "id": "0e059576",
   "metadata": {
    "slideshow": {
     "slide_type": "fragment"
    }
   },
   "outputs": [],
   "source": [
    "import s3fs\n",
    "s3 = s3fs.S3FileSystem(endpoint_url=\"https://s3.eu-dkrz-1.dkrz.cloud\", anon=True)\n",
    "with s3.open('s3://freva/workshop/tas.nc') as f:\n",
    "    ds = xr.open_dataset(f)"
   ]
  },
  {
   "cell_type": "markdown",
   "id": "e0338982",
   "metadata": {
    "slideshow": {
     "slide_type": "fragment"
    }
   },
   "source": [
    "In Levante custom builds of `libnetcdf` and `cdo` can work with data on S3\n",
    "> Very unstable!!!"
   ]
  },
  {
   "cell_type": "markdown",
   "id": "951bd4f1",
   "metadata": {
    "slideshow": {
     "slide_type": "fragment"
    }
   },
   "source": [
    "```\n",
    "/fastdata/k20200/k202186/public/bin/ncdump  -h https://s3.eu-dkrz-1.dkrz.cloud/freva/workshop/tas.nc#mode=s3,bytes\n",
    "/fastdata/k20200/k202186/public/bin/cdo  sinfo https://s3.eu-dkrz-1.dkrz.cloud/freva/workshop/tas.nc#mode=s3,bytes\n",
    "```"
   ]
  }
 ],
 "metadata": {
  "kernelspec": {
   "display_name": "Python 3 (ipykernel)",
   "language": "python",
   "name": "python3"
  },
  "language_info": {
   "codemirror_mode": {
    "name": "ipython",
    "version": 3
   },
   "file_extension": ".py",
   "mimetype": "text/x-python",
   "name": "python",
   "nbconvert_exporter": "python",
   "pygments_lexer": "ipython3",
   "version": "3.13.2"
  }
 },
 "nbformat": 4,
 "nbformat_minor": 5
}
